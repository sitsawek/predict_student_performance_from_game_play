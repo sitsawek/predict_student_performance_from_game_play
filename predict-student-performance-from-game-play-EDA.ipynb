{
 "cells": [
  {
   "cell_type": "code",
   "execution_count": 4,
   "metadata": {},
   "outputs": [],
   "source": [
    "import pandas as pd \n",
    "import matplotlib.pyplot as plt \n",
    "import seaborn as sns\n",
    "import numpy as np\n",
    "pd.set_option('display.max_columns', 200)"
   ]
  },
  {
   "cell_type": "code",
   "execution_count": 5,
   "metadata": {},
   "outputs": [],
   "source": [
    "dtypes = {\n",
    "    'session_id': 'category',\n",
    "    'elapsed_time': np.int32,\n",
    "    'event_name': 'category',\n",
    "    'level': np.uint8,\n",
    "    'text': 'category',\n",
    "    'level_group': 'category'\n",
    "}\n",
    "cols_to_use = ['session_id', 'index', 'elapsed_time', 'event_name', 'level', 'text', 'level_group']\n",
    "eda_df = pd.read_csv(\"/Users/macintosh/Desktop/data_completitions/Kaggle/2023/predict-student-performance-from-game-play/train.csv\", usecols=cols_to_use, dtype=dtypes)"
   ]
  },
  {
   "cell_type": "code",
   "execution_count": 6,
   "metadata": {},
   "outputs": [],
   "source": [
    "# Set level colour\n",
    "N_SESS = eda_df['session_id'].nunique()\n",
    "LEVELS = range(23)\n",
    "LV_COLORS = plt.cm.get_cmap('hsv', len(LEVELS))"
   ]
  },
  {
   "cell_type": "code",
   "execution_count": 7,
   "metadata": {},
   "outputs": [],
   "source": [
    "pk_temp = ['session_id', 'index']\n",
    "# eda_df.loc[eda_df.duplicated(subset=pk_temp)].groupby('session_id').index.count().sort_values(ascending=False).head()\n",
    "assert not eda_df.duplicated(subset=pk_temp).any()"
   ]
  },
  {
   "cell_type": "code",
   "execution_count": null,
   "metadata": {},
   "outputs": [],
   "source": [
    "sess_dup = eda_df.loc[eda_df.duplicated(subset=pk_temp, keep=False)].session_id.unique().tolist()\n",
    "eda_dup = eda_df[eda_df.session_id.isin(sess_dup)].reset_index(drop=True)\n",
    "print(f'Session id pair duplicate is : {len(sess_dup)}')"
   ]
  },
  {
   "cell_type": "code",
   "execution_count": null,
   "metadata": {},
   "outputs": [],
   "source": []
  }
 ],
 "metadata": {
  "kernelspec": {
   "display_name": "Python 3",
   "language": "python",
   "name": "python3"
  },
  "language_info": {
   "codemirror_mode": {
    "name": "ipython",
    "version": 3
   },
   "file_extension": ".py",
   "mimetype": "text/x-python",
   "name": "python",
   "nbconvert_exporter": "python",
   "pygments_lexer": "ipython3",
   "version": "3.9.9"
  },
  "orig_nbformat": 4
 },
 "nbformat": 4,
 "nbformat_minor": 2
}
