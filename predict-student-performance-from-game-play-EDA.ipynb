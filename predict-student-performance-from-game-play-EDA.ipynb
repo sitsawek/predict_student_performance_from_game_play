{
 "cells": [
  {
   "cell_type": "code",
   "execution_count": 3,
   "metadata": {},
   "outputs": [],
   "source": [
    "import pandas as pd \n",
    "import matplotlib.pyplot as plt \n",
    "import seaborn as sns\n",
    "import numpy as np\n",
    "pd.set_option('display.max_columns', 200)\n",
    "import warnings\n",
    "from collections import defaultdict\n",
    "from typing import Any, Dict, Optional, Union\n",
    "from tqdm import tqdm\n",
    "from matplotlib.axes import Axes\n",
    "\n",
    "warnings.simplefilter(\"ignore\")\n",
    "sns.set_style(\"darkgrid\")\n",
    "pd.options.display.max_rows = None\n",
    "pd.options.display.max_columns = None\n",
    "colors = sns.color_palette(\"Set2\")"
   ]
  },
  {
   "cell_type": "code",
   "execution_count": 4,
   "metadata": {},
   "outputs": [],
   "source": [
    "dtypes = {\n",
    "    'session_id': 'category',\n",
    "    'elapsed_time': np.int32,\n",
    "    'event_name': 'category',\n",
    "    'level': np.uint8,\n",
    "    'text': 'category',\n",
    "    'level_group': 'category'\n",
    "}\n",
    "cols_to_use = ['session_id', 'index', 'elapsed_time', 'event_name', 'level', 'text', 'level_group']\n",
    "eda_df = pd.read_csv(\"/Users/macintosh/Desktop/data_completitions/Kaggle/2023/predict-student-performance-from-game-play/train.csv\", usecols=cols_to_use, dtype=dtypes)"
   ]
  },
  {
   "cell_type": "code",
   "execution_count": 5,
   "metadata": {},
   "outputs": [],
   "source": [
    "# Set level colour\n",
    "N_SESS = eda_df['session_id'].nunique()\n",
    "LEVELS = range(23)\n",
    "LV_COLORS = plt.cm.get_cmap('hsv', len(LEVELS))"
   ]
  },
  {
   "cell_type": "code",
   "execution_count": 4,
   "metadata": {},
   "outputs": [
    {
     "ename": "AssertionError",
     "evalue": "",
     "output_type": "error",
     "traceback": [
      "\u001b[0;31m---------------------------------------------------------------------------\u001b[0m",
      "\u001b[0;31mAssertionError\u001b[0m                            Traceback (most recent call last)",
      "\u001b[0;32m/var/folders/wz/ck3sz9r95tv0pwv6x5zcfnw00000gn/T/ipykernel_21018/3601952629.py\u001b[0m in \u001b[0;36m<module>\u001b[0;34m\u001b[0m\n\u001b[1;32m      1\u001b[0m \u001b[0mpk_temp\u001b[0m \u001b[0;34m=\u001b[0m \u001b[0;34m[\u001b[0m\u001b[0;34m'session_id'\u001b[0m\u001b[0;34m,\u001b[0m \u001b[0;34m'index'\u001b[0m\u001b[0;34m]\u001b[0m\u001b[0;34m\u001b[0m\u001b[0;34m\u001b[0m\u001b[0m\n\u001b[1;32m      2\u001b[0m \u001b[0;31m# eda_df.loc[eda_df.duplicated(subset=pk_temp)].groupby('session_id').index.count().sort_values(ascending=False).head()\u001b[0m\u001b[0;34m\u001b[0m\u001b[0;34m\u001b[0m\u001b[0m\n\u001b[0;32m----> 3\u001b[0;31m \u001b[0;32massert\u001b[0m \u001b[0;32mnot\u001b[0m \u001b[0meda_df\u001b[0m\u001b[0;34m.\u001b[0m\u001b[0mduplicated\u001b[0m\u001b[0;34m(\u001b[0m\u001b[0msubset\u001b[0m\u001b[0;34m=\u001b[0m\u001b[0mpk_temp\u001b[0m\u001b[0;34m)\u001b[0m\u001b[0;34m.\u001b[0m\u001b[0many\u001b[0m\u001b[0;34m(\u001b[0m\u001b[0;34m)\u001b[0m\u001b[0;34m\u001b[0m\u001b[0;34m\u001b[0m\u001b[0m\n\u001b[0m",
      "\u001b[0;31mAssertionError\u001b[0m: "
     ]
    }
   ],
   "source": [
    "pk_temp = ['session_id', 'index']\n",
    "# eda_df.loc[eda_df.duplicated(subset=pk_temp)].groupby('session_id').index.count().sort_values(ascending=False).head()\n",
    "assert not eda_df.duplicated(subset=pk_temp).any()"
   ]
  },
  {
   "cell_type": "code",
   "execution_count": 5,
   "metadata": {},
   "outputs": [
    {
     "name": "stdout",
     "output_type": "stream",
     "text": [
      "Session id pair duplicate is : 142\n"
     ]
    }
   ],
   "source": [
    "# Duplicate Session ID, Index pair\n",
    "sess_dup = eda_df.loc[eda_df.duplicated(subset=pk_temp, keep=False)].session_id.unique().tolist()\n",
    "eda_dup = eda_df[eda_df.session_id.isin(sess_dup)].reset_index(drop=True)\n",
    "print(f'Session id pair duplicate is : {len(sess_dup)}')"
   ]
  },
  {
   "cell_type": "code",
   "execution_count": 6,
   "metadata": {},
   "outputs": [],
   "source": [
    "# n_rows, n_cols = 29, 5\n",
    "# fig, axis = plt.subplots(nrows=n_rows, ncols=n_cols, figsize=(20, 80))\n",
    "# # Group df to each session_id by eda_dup.groupby('session_id', observed=True)\n",
    "# # Use enumerate to get index\n",
    "# for i, (session_id, gp) in enumerate(eda_dup.groupby('session_id', observed=True)):\n",
    "#     gp = gp.reset_index(drop=True)\n",
    "#     # Use to find axis x, y for create graph\n",
    "#     axis[i // n_cols, i % n_cols].plot(gp['index'])\n",
    "#     axis[i // n_cols, i % n_cols].set_title(f'Even Index of Session {session_id}\\n Min Index {gp[\"index\"].min()}')\n",
    "#     axis[i // n_cols, i % n_cols].set_xlabel(f'Event Ordering in DataFrame')\n",
    "#     axis[i // n_cols, i % n_cols].set_ylabel(f'Event Index')\n",
    "#     plt.tight_layout()"
   ]
  },
  {
   "cell_type": "code",
   "execution_count": 8,
   "metadata": {},
   "outputs": [
    {
     "name": "stdout",
     "output_type": "stream",
     "text": [
      "Not monotonic increase session: 258\n"
     ]
    }
   ],
   "source": [
    "# Reverse Index\n",
    "session_with_reversed_index = []\n",
    "for session_id, gp in eda_df.groupby('session_id', observed=True):\n",
    "    if not gp['index'].is_monotonic_increasing:\n",
    "        session_with_reversed_index.append(session_id)\n",
    "print(f'Not monotonic increase session: {len(session_with_reversed_index)}')"
   ]
  },
  {
   "cell_type": "code",
   "execution_count": 9,
   "metadata": {},
   "outputs": [
    {
     "data": {
      "image/png": "[encoded data removed]",
      "text/plain": [
       "<Figure size 504x288 with 1 Axes>"
      ]
     },
     "metadata": {
      "needs_background": "light"
     },
     "output_type": "display_data"
    }
   ],
   "source": [
    "n_ckpts_per_sess = eda_df.groupby([\"session_id\", \"level_group\"]).apply(lambda x: (x[\"event_name\"] == \"checkpoint\").sum()).reset_index()\n",
    "n_ckpts_per_sess = n_ckpts_per_sess.pivot(index=\"session_id\", columns=\"level_group\", values=0)\n",
    "\n",
    "n_ckpts_per_sess[\"total\"] = n_ckpts_per_sess[\"0-4\"] + n_ckpts_per_sess[\"5-12\"] + n_ckpts_per_sess[\"13-22\"]\n",
    "n_ckpts_per_sess_val_cnt = n_ckpts_per_sess[\"total\"].value_counts()\n",
    "\n",
    "fig, ax = plt.subplots(figsize=(7, 4))\n",
    "sns.barplot(x=n_ckpts_per_sess_val_cnt.index, y=n_ckpts_per_sess_val_cnt.values, \n",
    "            palette=colors, ax=ax)\n",
    "for container in ax.containers:\n",
    "    ax.bar_label(container)\n",
    "ax.set_title(\"Number of Checkpoints Per Session\")\n",
    "ax.set_xlabel(\"Number of Checkpoints\")\n",
    "ax.set_ylabel(\"Session Count\")\n",
    "ax.set_ylim([0, 100])\n",
    "ax.text(0.98, 95, f\"{n_ckpts_per_sess_val_cnt[n_ckpts_per_sess_val_cnt.index == 3].values[0]}\\n≈\", horizontalalignment=\"center\")\n",
    "plt.tight_layout()"
   ]
  },
  {
   "cell_type": "code",
   "execution_count": 10,
   "metadata": {},
   "outputs": [
    {
     "name": "stdout",
     "output_type": "stream",
     "text": [
      "There are 168 sessions with less than or more than 3 checkpoints.\n"
     ]
    }
   ],
   "source": [
    "ckpt_valid_mask = (n_ckpts_per_sess[\"0-4\"] == 1) & (n_ckpts_per_sess[\"5-12\"] == 1) & (n_ckpts_per_sess[\"13-22\"] == 1)\n",
    "sess_with_invalid_ckpt = n_ckpts_per_sess.loc[~ckpt_valid_mask].index.astype(int).tolist()\n",
    "print(f\"There are {len(sess_with_invalid_ckpt)} sessions with less than or more than 3 checkpoints.\")"
   ]
  },
  {
   "cell_type": "code",
   "execution_count": 56,
   "metadata": {},
   "outputs": [
    {
     "name": "stderr",
     "output_type": "stream",
     "text": [
      "*c* argument looks like a single numeric RGB or RGBA sequence, which should be avoided as value-mapping will have precedence in case its length matches with *x* & *y*.  Please use the *color* keyword-argument or provide a 2D array with a single row if you intend to specify the same RGB or RGBA value for all points.\n",
      "*c* argument looks like a single numeric RGB or RGBA sequence, which should be avoided as value-mapping will have precedence in case its length matches with *x* & *y*.  Please use the *color* keyword-argument or provide a 2D array with a single row if you intend to specify the same RGB or RGBA value for all points.\n",
      "*c* argument looks like a single numeric RGB or RGBA sequence, which should be avoided as value-mapping will have precedence in case its length matches with *x* & *y*.  Please use the *color* keyword-argument or provide a 2D array with a single row if you intend to specify the same RGB or RGBA value for all points.\n",
      "*c* argument looks like a single numeric RGB or RGBA sequence, which should be avoided as value-mapping will have precedence in case its length matches with *x* & *y*.  Please use the *color* keyword-argument or provide a 2D array with a single row if you intend to specify the same RGB or RGBA value for all points.\n",
      "*c* argument looks like a single numeric RGB or RGBA sequence, which should be avoided as value-mapping will have precedence in case its length matches with *x* & *y*.  Please use the *color* keyword-argument or provide a 2D array with a single row if you intend to specify the same RGB or RGBA value for all points.\n",
      "*c* argument looks like a single numeric RGB or RGBA sequence, which should be avoided as value-mapping will have precedence in case its length matches with *x* & *y*.  Please use the *color* keyword-argument or provide a 2D array with a single row if you intend to specify the same RGB or RGBA value for all points.\n",
      "*c* argument looks like a single numeric RGB or RGBA sequence, which should be avoided as value-mapping will have precedence in case its length matches with *x* & *y*.  Please use the *color* keyword-argument or provide a 2D array with a single row if you intend to specify the same RGB or RGBA value for all points.\n",
      "*c* argument looks like a single numeric RGB or RGBA sequence, which should be avoided as value-mapping will have precedence in case its length matches with *x* & *y*.  Please use the *color* keyword-argument or provide a 2D array with a single row if you intend to specify the same RGB or RGBA value for all points.\n",
      "*c* argument looks like a single numeric RGB or RGBA sequence, which should be avoided as value-mapping will have precedence in case its length matches with *x* & *y*.  Please use the *color* keyword-argument or provide a 2D array with a single row if you intend to specify the same RGB or RGBA value for all points.\n",
      "*c* argument looks like a single numeric RGB or RGBA sequence, which should be avoided as value-mapping will have precedence in case its length matches with *x* & *y*.  Please use the *color* keyword-argument or provide a 2D array with a single row if you intend to specify the same RGB or RGBA value for all points.\n",
      "*c* argument looks like a single numeric RGB or RGBA sequence, which should be avoided as value-mapping will have precedence in case its length matches with *x* & *y*.  Please use the *color* keyword-argument or provide a 2D array with a single row if you intend to specify the same RGB or RGBA value for all points.\n",
      "*c* argument looks like a single numeric RGB or RGBA sequence, which should be avoided as value-mapping will have precedence in case its length matches with *x* & *y*.  Please use the *color* keyword-argument or provide a 2D array with a single row if you intend to specify the same RGB or RGBA value for all points.\n",
      "*c* argument looks like a single numeric RGB or RGBA sequence, which should be avoided as value-mapping will have precedence in case its length matches with *x* & *y*.  Please use the *color* keyword-argument or provide a 2D array with a single row if you intend to specify the same RGB or RGBA value for all points.\n",
      "*c* argument looks like a single numeric RGB or RGBA sequence, which should be avoided as value-mapping will have precedence in case its length matches with *x* & *y*.  Please use the *color* keyword-argument or provide a 2D array with a single row if you intend to specify the same RGB or RGBA value for all points.\n",
      "*c* argument looks like a single numeric RGB or RGBA sequence, which should be avoided as value-mapping will have precedence in case its length matches with *x* & *y*.  Please use the *color* keyword-argument or provide a 2D array with a single row if you intend to specify the same RGB or RGBA value for all points.\n",
      "*c* argument looks like a single numeric RGB or RGBA sequence, which should be avoided as value-mapping will have precedence in case its length matches with *x* & *y*.  Please use the *color* keyword-argument or provide a 2D array with a single row if you intend to specify the same RGB or RGBA value for all points.\n",
      "*c* argument looks like a single numeric RGB or RGBA sequence, which should be avoided as value-mapping will have precedence in case its length matches with *x* & *y*.  Please use the *color* keyword-argument or provide a 2D array with a single row if you intend to specify the same RGB or RGBA value for all points.\n",
      "*c* argument looks like a single numeric RGB or RGBA sequence, which should be avoided as value-mapping will have precedence in case its length matches with *x* & *y*.  Please use the *color* keyword-argument or provide a 2D array with a single row if you intend to specify the same RGB or RGBA value for all points.\n",
      "*c* argument looks like a single numeric RGB or RGBA sequence, which should be avoided as value-mapping will have precedence in case its length matches with *x* & *y*.  Please use the *color* keyword-argument or provide a 2D array with a single row if you intend to specify the same RGB or RGBA value for all points.\n",
      "*c* argument looks like a single numeric RGB or RGBA sequence, which should be avoided as value-mapping will have precedence in case its length matches with *x* & *y*.  Please use the *color* keyword-argument or provide a 2D array with a single row if you intend to specify the same RGB or RGBA value for all points.\n",
      "*c* argument looks like a single numeric RGB or RGBA sequence, which should be avoided as value-mapping will have precedence in case its length matches with *x* & *y*.  Please use the *color* keyword-argument or provide a 2D array with a single row if you intend to specify the same RGB or RGBA value for all points.\n",
      "*c* argument looks like a single numeric RGB or RGBA sequence, which should be avoided as value-mapping will have precedence in case its length matches with *x* & *y*.  Please use the *color* keyword-argument or provide a 2D array with a single row if you intend to specify the same RGB or RGBA value for all points.\n",
      "*c* argument looks like a single numeric RGB or RGBA sequence, which should be avoided as value-mapping will have precedence in case its length matches with *x* & *y*.  Please use the *color* keyword-argument or provide a 2D array with a single row if you intend to specify the same RGB or RGBA value for all points.\n"
     ]
    },
    {
     "data": {
      "image/png": "[encoded data removed]",
      "text/plain": [
       "1"
      ]
     },
     "metadata": {},
     "output_type": "display_data"
    }
   ],
   "source": [
    "6 % 5"
   ]
  },
  {
   "cell_type": "code",
   "execution_count": null,
   "metadata": {},
   "outputs": [],
   "source": []
  }
 ],
 "metadata": {
  "kernelspec": {
   "display_name": "Python 3",
   "language": "python",
   "name": "python3"
  },
  "language_info": {
   "codemirror_mode": {
    "name": "ipython",
    "version": 3
   },
   "file_extension": ".py",
   "mimetype": "text/x-python",
   "name": "python",
   "nbconvert_exporter": "python",
   "pygments_lexer": "ipython3",
   "version": "3.9.9"
  },
  "orig_nbformat": 4
 },
 "nbformat": 4,
 "nbformat_minor": 2
}
