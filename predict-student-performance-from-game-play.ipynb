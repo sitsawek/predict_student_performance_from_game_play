{
 "cells": [
  {
   "cell_type": "code",
   "execution_count": 105,
   "metadata": {},
   "outputs": [],
   "source": [
    "import pandas as pd\n",
    "import os\n",
    "pd.set_option('display.max_columns', 200)"
   ]
  },
  {
   "cell_type": "code",
   "execution_count": 1,
   "metadata": {},
   "outputs": [
    {
     "data": {
      "text/plain": [
       "'/Users/macintosh/github/predict_student_performance_from_game_play'"
      ]
     },
     "execution_count": 1,
     "metadata": {},
     "output_type": "execute_result"
    }
   ],
   "source": [
    "os.getcwd()"
   ]
  },
  {
   "cell_type": "code",
   "execution_count": 44,
   "metadata": {},
   "outputs": [],
   "source": [
    "train_csv = '/Users/macintosh/Desktop/data_completitions/Kaggle/2023/predict-student-performance-from-game-play/train.csv'\n",
    "df_train = pd.read_csv(train_csv, dtype_backend = 'pyarrow')"
   ]
  },
  {
   "cell_type": "code",
   "execution_count": 45,
   "metadata": {},
   "outputs": [
    {
     "name": "stdout",
     "output_type": "stream",
     "text": [
      "<class 'pandas.core.frame.DataFrame'>\n",
      "RangeIndex: 26296946 entries, 0 to 26296945\n",
      "Data columns (total 20 columns):\n",
      " #   Column          Dtype          \n",
      "---  ------          -----          \n",
      " 0   session_id      int64[pyarrow] \n",
      " 1   index           int64[pyarrow] \n",
      " 2   elapsed_time    int64[pyarrow] \n",
      " 3   event_name      string[pyarrow]\n",
      " 4   name            string[pyarrow]\n",
      " 5   level           int64[pyarrow] \n",
      " 6   page            double[pyarrow]\n",
      " 7   room_coor_x     double[pyarrow]\n",
      " 8   room_coor_y     double[pyarrow]\n",
      " 9   screen_coor_x   double[pyarrow]\n",
      " 10  screen_coor_y   double[pyarrow]\n",
      " 11  hover_duration  double[pyarrow]\n",
      " 12  text            string[pyarrow]\n",
      " 13  fqid            string[pyarrow]\n",
      " 14  room_fqid       string[pyarrow]\n",
      " 15  text_fqid       string[pyarrow]\n",
      " 16  fullscreen      int64[pyarrow] \n",
      " 17  hq              int64[pyarrow] \n",
      " 18  music           int64[pyarrow] \n",
      " 19  level_group     string[pyarrow]\n",
      "dtypes: double[pyarrow](6), int64[pyarrow](7), string[pyarrow](7)\n",
      "memory usage: 5.4 GB\n"
     ]
    }
   ],
   "source": [
    "df_train.info()"
   ]
  },
  {
   "cell_type": "code",
   "execution_count": 31,
   "metadata": {},
   "outputs": [
    {
     "data": {
      "text/html": [
       "<div>\n",
       "<style scoped>\n",
       "    .dataframe tbody tr th:only-of-type {\n",
       "        vertical-align: middle;\n",
       "    }\n",
       "\n",
       "    .dataframe tbody tr th {\n",
       "        vertical-align: top;\n",
       "    }\n",
       "\n",
       "    .dataframe thead th {\n",
       "        text-align: right;\n",
       "    }\n",
       "</style>\n",
       "<table border=\"1\" class=\"dataframe\">\n",
       "  <thead>\n",
       "    <tr style=\"text-align: right;\">\n",
       "      <th></th>\n",
       "      <th>session_id</th>\n",
       "      <th>index</th>\n",
       "      <th>elapsed_time</th>\n",
       "      <th>event_name</th>\n",
       "      <th>name</th>\n",
       "      <th>level</th>\n",
       "      <th>page</th>\n",
       "      <th>room_coor_x</th>\n",
       "      <th>room_coor_y</th>\n",
       "      <th>screen_coor_x</th>\n",
       "      <th>screen_coor_y</th>\n",
       "      <th>hover_duration</th>\n",
       "      <th>text</th>\n",
       "      <th>fqid</th>\n",
       "      <th>room_fqid</th>\n",
       "      <th>text_fqid</th>\n",
       "      <th>fullscreen</th>\n",
       "      <th>hq</th>\n",
       "      <th>music</th>\n",
       "      <th>level_group</th>\n",
       "    </tr>\n",
       "  </thead>\n",
       "  <tbody>\n",
       "    <tr>\n",
       "      <th>0</th>\n",
       "      <td>20090312431273200</td>\n",
       "      <td>0</td>\n",
       "      <td>0</td>\n",
       "      <td>cutscene_click</td>\n",
       "      <td>basic</td>\n",
       "      <td>0</td>\n",
       "      <td>&lt;NA&gt;</td>\n",
       "      <td>-413.991405</td>\n",
       "      <td>-159.314686</td>\n",
       "      <td>380.0</td>\n",
       "      <td>494.0</td>\n",
       "      <td>&lt;NA&gt;</td>\n",
       "      <td>undefined</td>\n",
       "      <td>intro</td>\n",
       "      <td>tunic.historicalsociety.closet</td>\n",
       "      <td>tunic.historicalsociety.closet.intro</td>\n",
       "      <td>0</td>\n",
       "      <td>0</td>\n",
       "      <td>1</td>\n",
       "      <td>0-4</td>\n",
       "    </tr>\n",
       "    <tr>\n",
       "      <th>1</th>\n",
       "      <td>20090312431273200</td>\n",
       "      <td>1</td>\n",
       "      <td>1323</td>\n",
       "      <td>person_click</td>\n",
       "      <td>basic</td>\n",
       "      <td>0</td>\n",
       "      <td>&lt;NA&gt;</td>\n",
       "      <td>-413.991405</td>\n",
       "      <td>-159.314686</td>\n",
       "      <td>380.0</td>\n",
       "      <td>494.0</td>\n",
       "      <td>&lt;NA&gt;</td>\n",
       "      <td>Whatcha doing over there, Jo?</td>\n",
       "      <td>gramps</td>\n",
       "      <td>tunic.historicalsociety.closet</td>\n",
       "      <td>tunic.historicalsociety.closet.gramps.intro_0_...</td>\n",
       "      <td>0</td>\n",
       "      <td>0</td>\n",
       "      <td>1</td>\n",
       "      <td>0-4</td>\n",
       "    </tr>\n",
       "    <tr>\n",
       "      <th>2</th>\n",
       "      <td>20090312431273200</td>\n",
       "      <td>2</td>\n",
       "      <td>831</td>\n",
       "      <td>person_click</td>\n",
       "      <td>basic</td>\n",
       "      <td>0</td>\n",
       "      <td>&lt;NA&gt;</td>\n",
       "      <td>-413.991405</td>\n",
       "      <td>-159.314686</td>\n",
       "      <td>380.0</td>\n",
       "      <td>494.0</td>\n",
       "      <td>&lt;NA&gt;</td>\n",
       "      <td>Just talking to Teddy.</td>\n",
       "      <td>gramps</td>\n",
       "      <td>tunic.historicalsociety.closet</td>\n",
       "      <td>tunic.historicalsociety.closet.gramps.intro_0_...</td>\n",
       "      <td>0</td>\n",
       "      <td>0</td>\n",
       "      <td>1</td>\n",
       "      <td>0-4</td>\n",
       "    </tr>\n",
       "    <tr>\n",
       "      <th>3</th>\n",
       "      <td>20090312431273200</td>\n",
       "      <td>3</td>\n",
       "      <td>1147</td>\n",
       "      <td>person_click</td>\n",
       "      <td>basic</td>\n",
       "      <td>0</td>\n",
       "      <td>&lt;NA&gt;</td>\n",
       "      <td>-413.991405</td>\n",
       "      <td>-159.314686</td>\n",
       "      <td>380.0</td>\n",
       "      <td>494.0</td>\n",
       "      <td>&lt;NA&gt;</td>\n",
       "      <td>I gotta run to my meeting!</td>\n",
       "      <td>gramps</td>\n",
       "      <td>tunic.historicalsociety.closet</td>\n",
       "      <td>tunic.historicalsociety.closet.gramps.intro_0_...</td>\n",
       "      <td>0</td>\n",
       "      <td>0</td>\n",
       "      <td>1</td>\n",
       "      <td>0-4</td>\n",
       "    </tr>\n",
       "    <tr>\n",
       "      <th>4</th>\n",
       "      <td>20090312431273200</td>\n",
       "      <td>4</td>\n",
       "      <td>1863</td>\n",
       "      <td>person_click</td>\n",
       "      <td>basic</td>\n",
       "      <td>0</td>\n",
       "      <td>&lt;NA&gt;</td>\n",
       "      <td>-412.991405</td>\n",
       "      <td>-159.314686</td>\n",
       "      <td>381.0</td>\n",
       "      <td>494.0</td>\n",
       "      <td>&lt;NA&gt;</td>\n",
       "      <td>Can I come, Gramps?</td>\n",
       "      <td>gramps</td>\n",
       "      <td>tunic.historicalsociety.closet</td>\n",
       "      <td>tunic.historicalsociety.closet.gramps.intro_0_...</td>\n",
       "      <td>0</td>\n",
       "      <td>0</td>\n",
       "      <td>1</td>\n",
       "      <td>0-4</td>\n",
       "    </tr>\n",
       "  </tbody>\n",
       "</table>\n",
       "</div>"
      ],
      "text/plain": [
       "          session_id  index  elapsed_time      event_name   name  level  page   \n",
       "0  20090312431273200      0             0  cutscene_click  basic      0  <NA>  \\\n",
       "1  20090312431273200      1          1323    person_click  basic      0  <NA>   \n",
       "2  20090312431273200      2           831    person_click  basic      0  <NA>   \n",
       "3  20090312431273200      3          1147    person_click  basic      0  <NA>   \n",
       "4  20090312431273200      4          1863    person_click  basic      0  <NA>   \n",
       "\n",
       "   room_coor_x  room_coor_y  screen_coor_x  screen_coor_y  hover_duration   \n",
       "0  -413.991405  -159.314686          380.0          494.0            <NA>  \\\n",
       "1  -413.991405  -159.314686          380.0          494.0            <NA>   \n",
       "2  -413.991405  -159.314686          380.0          494.0            <NA>   \n",
       "3  -413.991405  -159.314686          380.0          494.0            <NA>   \n",
       "4  -412.991405  -159.314686          381.0          494.0            <NA>   \n",
       "\n",
       "                            text    fqid                       room_fqid   \n",
       "0                      undefined   intro  tunic.historicalsociety.closet  \\\n",
       "1  Whatcha doing over there, Jo?  gramps  tunic.historicalsociety.closet   \n",
       "2         Just talking to Teddy.  gramps  tunic.historicalsociety.closet   \n",
       "3     I gotta run to my meeting!  gramps  tunic.historicalsociety.closet   \n",
       "4            Can I come, Gramps?  gramps  tunic.historicalsociety.closet   \n",
       "\n",
       "                                           text_fqid  fullscreen  hq  music   \n",
       "0               tunic.historicalsociety.closet.intro           0   0      1  \\\n",
       "1  tunic.historicalsociety.closet.gramps.intro_0_...           0   0      1   \n",
       "2  tunic.historicalsociety.closet.gramps.intro_0_...           0   0      1   \n",
       "3  tunic.historicalsociety.closet.gramps.intro_0_...           0   0      1   \n",
       "4  tunic.historicalsociety.closet.gramps.intro_0_...           0   0      1   \n",
       "\n",
       "  level_group  \n",
       "0         0-4  \n",
       "1         0-4  \n",
       "2         0-4  \n",
       "3         0-4  \n",
       "4         0-4  "
      ]
     },
     "execution_count": 31,
     "metadata": {},
     "output_type": "execute_result"
    }
   ],
   "source": [
    "df_train.head()"
   ]
  },
  {
   "cell_type": "code",
   "execution_count": 34,
   "metadata": {},
   "outputs": [
    {
     "data": {
      "text/plain": [
       "26044185"
      ]
     },
     "execution_count": 34,
     "metadata": {},
     "output_type": "execute_result"
    }
   ],
   "source": [
    "df_train.duplicated(subset=['session_id', 'event_name', 'elapsed_time']).sum()"
   ]
  },
  {
   "cell_type": "code",
   "execution_count": 36,
   "metadata": {},
   "outputs": [
    {
     "data": {
      "text/html": [
       "<div>\n",
       "<style scoped>\n",
       "    .dataframe tbody tr th:only-of-type {\n",
       "        vertical-align: middle;\n",
       "    }\n",
       "\n",
       "    .dataframe tbody tr th {\n",
       "        vertical-align: top;\n",
       "    }\n",
       "\n",
       "    .dataframe thead th {\n",
       "        text-align: right;\n",
       "    }\n",
       "</style>\n",
       "<table border=\"1\" class=\"dataframe\">\n",
       "  <thead>\n",
       "    <tr style=\"text-align: right;\">\n",
       "      <th></th>\n",
       "      <th>session_id</th>\n",
       "      <th>index</th>\n",
       "      <th>elapsed_time</th>\n",
       "      <th>event_name</th>\n",
       "      <th>name</th>\n",
       "      <th>level</th>\n",
       "      <th>page</th>\n",
       "      <th>room_coor_x</th>\n",
       "      <th>room_coor_y</th>\n",
       "      <th>screen_coor_x</th>\n",
       "      <th>screen_coor_y</th>\n",
       "      <th>hover_duration</th>\n",
       "      <th>text</th>\n",
       "      <th>fqid</th>\n",
       "      <th>room_fqid</th>\n",
       "      <th>text_fqid</th>\n",
       "      <th>fullscreen</th>\n",
       "      <th>hq</th>\n",
       "      <th>music</th>\n",
       "      <th>level_group</th>\n",
       "    </tr>\n",
       "  </thead>\n",
       "  <tbody>\n",
       "    <tr>\n",
       "      <th>2</th>\n",
       "      <td>20090312431273200</td>\n",
       "      <td>2</td>\n",
       "      <td>831</td>\n",
       "      <td>person_click</td>\n",
       "      <td>basic</td>\n",
       "      <td>0</td>\n",
       "      <td>&lt;NA&gt;</td>\n",
       "      <td>-413.991405</td>\n",
       "      <td>-159.314686</td>\n",
       "      <td>380.0</td>\n",
       "      <td>494.0</td>\n",
       "      <td>&lt;NA&gt;</td>\n",
       "      <td>Just talking to Teddy.</td>\n",
       "      <td>gramps</td>\n",
       "      <td>tunic.historicalsociety.closet</td>\n",
       "      <td>tunic.historicalsociety.closet.gramps.intro_0_...</td>\n",
       "      <td>0</td>\n",
       "      <td>0</td>\n",
       "      <td>1</td>\n",
       "      <td>0-4</td>\n",
       "    </tr>\n",
       "    <tr>\n",
       "      <th>3</th>\n",
       "      <td>20090312431273200</td>\n",
       "      <td>3</td>\n",
       "      <td>1147</td>\n",
       "      <td>person_click</td>\n",
       "      <td>basic</td>\n",
       "      <td>0</td>\n",
       "      <td>&lt;NA&gt;</td>\n",
       "      <td>-413.991405</td>\n",
       "      <td>-159.314686</td>\n",
       "      <td>380.0</td>\n",
       "      <td>494.0</td>\n",
       "      <td>&lt;NA&gt;</td>\n",
       "      <td>I gotta run to my meeting!</td>\n",
       "      <td>gramps</td>\n",
       "      <td>tunic.historicalsociety.closet</td>\n",
       "      <td>tunic.historicalsociety.closet.gramps.intro_0_...</td>\n",
       "      <td>0</td>\n",
       "      <td>0</td>\n",
       "      <td>1</td>\n",
       "      <td>0-4</td>\n",
       "    </tr>\n",
       "    <tr>\n",
       "      <th>4</th>\n",
       "      <td>20090312431273200</td>\n",
       "      <td>4</td>\n",
       "      <td>1863</td>\n",
       "      <td>person_click</td>\n",
       "      <td>basic</td>\n",
       "      <td>0</td>\n",
       "      <td>&lt;NA&gt;</td>\n",
       "      <td>-412.991405</td>\n",
       "      <td>-159.314686</td>\n",
       "      <td>381.0</td>\n",
       "      <td>494.0</td>\n",
       "      <td>&lt;NA&gt;</td>\n",
       "      <td>Can I come, Gramps?</td>\n",
       "      <td>gramps</td>\n",
       "      <td>tunic.historicalsociety.closet</td>\n",
       "      <td>tunic.historicalsociety.closet.gramps.intro_0_...</td>\n",
       "      <td>0</td>\n",
       "      <td>0</td>\n",
       "      <td>1</td>\n",
       "      <td>0-4</td>\n",
       "    </tr>\n",
       "    <tr>\n",
       "      <th>5</th>\n",
       "      <td>20090312431273200</td>\n",
       "      <td>5</td>\n",
       "      <td>3423</td>\n",
       "      <td>person_click</td>\n",
       "      <td>basic</td>\n",
       "      <td>0</td>\n",
       "      <td>&lt;NA&gt;</td>\n",
       "      <td>-412.991405</td>\n",
       "      <td>-157.314686</td>\n",
       "      <td>381.0</td>\n",
       "      <td>492.0</td>\n",
       "      <td>&lt;NA&gt;</td>\n",
       "      <td>Sure thing, Jo. Grab your notebook and come up...</td>\n",
       "      <td>gramps</td>\n",
       "      <td>tunic.historicalsociety.closet</td>\n",
       "      <td>tunic.historicalsociety.closet.gramps.intro_0_...</td>\n",
       "      <td>0</td>\n",
       "      <td>0</td>\n",
       "      <td>1</td>\n",
       "      <td>0-4</td>\n",
       "    </tr>\n",
       "    <tr>\n",
       "      <th>6</th>\n",
       "      <td>20090312431273200</td>\n",
       "      <td>6</td>\n",
       "      <td>5197</td>\n",
       "      <td>person_click</td>\n",
       "      <td>basic</td>\n",
       "      <td>0</td>\n",
       "      <td>&lt;NA&gt;</td>\n",
       "      <td>478.485079</td>\n",
       "      <td>-199.971679</td>\n",
       "      <td>593.0</td>\n",
       "      <td>485.0</td>\n",
       "      <td>&lt;NA&gt;</td>\n",
       "      <td>See you later, Teddy.</td>\n",
       "      <td>teddy</td>\n",
       "      <td>tunic.historicalsociety.closet</td>\n",
       "      <td>tunic.historicalsociety.closet.teddy.intro_0_cs_0</td>\n",
       "      <td>0</td>\n",
       "      <td>0</td>\n",
       "      <td>1</td>\n",
       "      <td>0-4</td>\n",
       "    </tr>\n",
       "  </tbody>\n",
       "</table>\n",
       "</div>"
      ],
      "text/plain": [
       "          session_id  index  elapsed_time    event_name   name  level  page   \n",
       "2  20090312431273200      2           831  person_click  basic      0  <NA>  \\\n",
       "3  20090312431273200      3          1147  person_click  basic      0  <NA>   \n",
       "4  20090312431273200      4          1863  person_click  basic      0  <NA>   \n",
       "5  20090312431273200      5          3423  person_click  basic      0  <NA>   \n",
       "6  20090312431273200      6          5197  person_click  basic      0  <NA>   \n",
       "\n",
       "   room_coor_x  room_coor_y  screen_coor_x  screen_coor_y  hover_duration   \n",
       "2  -413.991405  -159.314686          380.0          494.0            <NA>  \\\n",
       "3  -413.991405  -159.314686          380.0          494.0            <NA>   \n",
       "4  -412.991405  -159.314686          381.0          494.0            <NA>   \n",
       "5  -412.991405  -157.314686          381.0          492.0            <NA>   \n",
       "6   478.485079  -199.971679          593.0          485.0            <NA>   \n",
       "\n",
       "                                                text    fqid   \n",
       "2                             Just talking to Teddy.  gramps  \\\n",
       "3                         I gotta run to my meeting!  gramps   \n",
       "4                                Can I come, Gramps?  gramps   \n",
       "5  Sure thing, Jo. Grab your notebook and come up...  gramps   \n",
       "6                              See you later, Teddy.   teddy   \n",
       "\n",
       "                        room_fqid   \n",
       "2  tunic.historicalsociety.closet  \\\n",
       "3  tunic.historicalsociety.closet   \n",
       "4  tunic.historicalsociety.closet   \n",
       "5  tunic.historicalsociety.closet   \n",
       "6  tunic.historicalsociety.closet   \n",
       "\n",
       "                                           text_fqid  fullscreen  hq  music   \n",
       "2  tunic.historicalsociety.closet.gramps.intro_0_...           0   0      1  \\\n",
       "3  tunic.historicalsociety.closet.gramps.intro_0_...           0   0      1   \n",
       "4  tunic.historicalsociety.closet.gramps.intro_0_...           0   0      1   \n",
       "5  tunic.historicalsociety.closet.gramps.intro_0_...           0   0      1   \n",
       "6  tunic.historicalsociety.closet.teddy.intro_0_cs_0           0   0      1   \n",
       "\n",
       "  level_group  \n",
       "2         0-4  \n",
       "3         0-4  \n",
       "4         0-4  \n",
       "5         0-4  \n",
       "6         0-4  "
      ]
     },
     "execution_count": 36,
     "metadata": {},
     "output_type": "execute_result"
    }
   ],
   "source": [
    "df_train.loc[df_train.duplicated(subset=['session_id', 'event_name'])].head()"
   ]
  },
  {
   "cell_type": "code",
   "execution_count": 38,
   "metadata": {},
   "outputs": [
    {
     "data": {
      "text/html": [
       "<div>\n",
       "<style scoped>\n",
       "    .dataframe tbody tr th:only-of-type {\n",
       "        vertical-align: middle;\n",
       "    }\n",
       "\n",
       "    .dataframe tbody tr th {\n",
       "        vertical-align: top;\n",
       "    }\n",
       "\n",
       "    .dataframe thead th {\n",
       "        text-align: right;\n",
       "    }\n",
       "</style>\n",
       "<table border=\"1\" class=\"dataframe\">\n",
       "  <thead>\n",
       "    <tr style=\"text-align: right;\">\n",
       "      <th></th>\n",
       "      <th>session_id</th>\n",
       "      <th>index</th>\n",
       "      <th>elapsed_time</th>\n",
       "      <th>event_name</th>\n",
       "      <th>name</th>\n",
       "      <th>level</th>\n",
       "      <th>page</th>\n",
       "      <th>room_coor_x</th>\n",
       "      <th>room_coor_y</th>\n",
       "      <th>screen_coor_x</th>\n",
       "      <th>screen_coor_y</th>\n",
       "      <th>hover_duration</th>\n",
       "      <th>text</th>\n",
       "      <th>fqid</th>\n",
       "      <th>room_fqid</th>\n",
       "      <th>text_fqid</th>\n",
       "      <th>fullscreen</th>\n",
       "      <th>hq</th>\n",
       "      <th>music</th>\n",
       "      <th>level_group</th>\n",
       "    </tr>\n",
       "  </thead>\n",
       "  <tbody>\n",
       "    <tr>\n",
       "      <th>1</th>\n",
       "      <td>20090312431273200</td>\n",
       "      <td>1</td>\n",
       "      <td>1323</td>\n",
       "      <td>person_click</td>\n",
       "      <td>basic</td>\n",
       "      <td>0</td>\n",
       "      <td>&lt;NA&gt;</td>\n",
       "      <td>-413.991405</td>\n",
       "      <td>-159.314686</td>\n",
       "      <td>380.0</td>\n",
       "      <td>494.0</td>\n",
       "      <td>&lt;NA&gt;</td>\n",
       "      <td>Whatcha doing over there, Jo?</td>\n",
       "      <td>gramps</td>\n",
       "      <td>tunic.historicalsociety.closet</td>\n",
       "      <td>tunic.historicalsociety.closet.gramps.intro_0_...</td>\n",
       "      <td>0</td>\n",
       "      <td>0</td>\n",
       "      <td>1</td>\n",
       "      <td>0-4</td>\n",
       "    </tr>\n",
       "    <tr>\n",
       "      <th>2</th>\n",
       "      <td>20090312431273200</td>\n",
       "      <td>2</td>\n",
       "      <td>831</td>\n",
       "      <td>person_click</td>\n",
       "      <td>basic</td>\n",
       "      <td>0</td>\n",
       "      <td>&lt;NA&gt;</td>\n",
       "      <td>-413.991405</td>\n",
       "      <td>-159.314686</td>\n",
       "      <td>380.0</td>\n",
       "      <td>494.0</td>\n",
       "      <td>&lt;NA&gt;</td>\n",
       "      <td>Just talking to Teddy.</td>\n",
       "      <td>gramps</td>\n",
       "      <td>tunic.historicalsociety.closet</td>\n",
       "      <td>tunic.historicalsociety.closet.gramps.intro_0_...</td>\n",
       "      <td>0</td>\n",
       "      <td>0</td>\n",
       "      <td>1</td>\n",
       "      <td>0-4</td>\n",
       "    </tr>\n",
       "    <tr>\n",
       "      <th>3</th>\n",
       "      <td>20090312431273200</td>\n",
       "      <td>3</td>\n",
       "      <td>1147</td>\n",
       "      <td>person_click</td>\n",
       "      <td>basic</td>\n",
       "      <td>0</td>\n",
       "      <td>&lt;NA&gt;</td>\n",
       "      <td>-413.991405</td>\n",
       "      <td>-159.314686</td>\n",
       "      <td>380.0</td>\n",
       "      <td>494.0</td>\n",
       "      <td>&lt;NA&gt;</td>\n",
       "      <td>I gotta run to my meeting!</td>\n",
       "      <td>gramps</td>\n",
       "      <td>tunic.historicalsociety.closet</td>\n",
       "      <td>tunic.historicalsociety.closet.gramps.intro_0_...</td>\n",
       "      <td>0</td>\n",
       "      <td>0</td>\n",
       "      <td>1</td>\n",
       "      <td>0-4</td>\n",
       "    </tr>\n",
       "    <tr>\n",
       "      <th>4</th>\n",
       "      <td>20090312431273200</td>\n",
       "      <td>4</td>\n",
       "      <td>1863</td>\n",
       "      <td>person_click</td>\n",
       "      <td>basic</td>\n",
       "      <td>0</td>\n",
       "      <td>&lt;NA&gt;</td>\n",
       "      <td>-412.991405</td>\n",
       "      <td>-159.314686</td>\n",
       "      <td>381.0</td>\n",
       "      <td>494.0</td>\n",
       "      <td>&lt;NA&gt;</td>\n",
       "      <td>Can I come, Gramps?</td>\n",
       "      <td>gramps</td>\n",
       "      <td>tunic.historicalsociety.closet</td>\n",
       "      <td>tunic.historicalsociety.closet.gramps.intro_0_...</td>\n",
       "      <td>0</td>\n",
       "      <td>0</td>\n",
       "      <td>1</td>\n",
       "      <td>0-4</td>\n",
       "    </tr>\n",
       "    <tr>\n",
       "      <th>5</th>\n",
       "      <td>20090312431273200</td>\n",
       "      <td>5</td>\n",
       "      <td>3423</td>\n",
       "      <td>person_click</td>\n",
       "      <td>basic</td>\n",
       "      <td>0</td>\n",
       "      <td>&lt;NA&gt;</td>\n",
       "      <td>-412.991405</td>\n",
       "      <td>-157.314686</td>\n",
       "      <td>381.0</td>\n",
       "      <td>492.0</td>\n",
       "      <td>&lt;NA&gt;</td>\n",
       "      <td>Sure thing, Jo. Grab your notebook and come up...</td>\n",
       "      <td>gramps</td>\n",
       "      <td>tunic.historicalsociety.closet</td>\n",
       "      <td>tunic.historicalsociety.closet.gramps.intro_0_...</td>\n",
       "      <td>0</td>\n",
       "      <td>0</td>\n",
       "      <td>1</td>\n",
       "      <td>0-4</td>\n",
       "    </tr>\n",
       "  </tbody>\n",
       "</table>\n",
       "</div>"
      ],
      "text/plain": [
       "          session_id  index  elapsed_time    event_name   name  level  page   \n",
       "1  20090312431273200      1          1323  person_click  basic      0  <NA>  \\\n",
       "2  20090312431273200      2           831  person_click  basic      0  <NA>   \n",
       "3  20090312431273200      3          1147  person_click  basic      0  <NA>   \n",
       "4  20090312431273200      4          1863  person_click  basic      0  <NA>   \n",
       "5  20090312431273200      5          3423  person_click  basic      0  <NA>   \n",
       "\n",
       "   room_coor_x  room_coor_y  screen_coor_x  screen_coor_y  hover_duration   \n",
       "1  -413.991405  -159.314686          380.0          494.0            <NA>  \\\n",
       "2  -413.991405  -159.314686          380.0          494.0            <NA>   \n",
       "3  -413.991405  -159.314686          380.0          494.0            <NA>   \n",
       "4  -412.991405  -159.314686          381.0          494.0            <NA>   \n",
       "5  -412.991405  -157.314686          381.0          492.0            <NA>   \n",
       "\n",
       "                                                text    fqid   \n",
       "1                      Whatcha doing over there, Jo?  gramps  \\\n",
       "2                             Just talking to Teddy.  gramps   \n",
       "3                         I gotta run to my meeting!  gramps   \n",
       "4                                Can I come, Gramps?  gramps   \n",
       "5  Sure thing, Jo. Grab your notebook and come up...  gramps   \n",
       "\n",
       "                        room_fqid   \n",
       "1  tunic.historicalsociety.closet  \\\n",
       "2  tunic.historicalsociety.closet   \n",
       "3  tunic.historicalsociety.closet   \n",
       "4  tunic.historicalsociety.closet   \n",
       "5  tunic.historicalsociety.closet   \n",
       "\n",
       "                                           text_fqid  fullscreen  hq  music   \n",
       "1  tunic.historicalsociety.closet.gramps.intro_0_...           0   0      1  \\\n",
       "2  tunic.historicalsociety.closet.gramps.intro_0_...           0   0      1   \n",
       "3  tunic.historicalsociety.closet.gramps.intro_0_...           0   0      1   \n",
       "4  tunic.historicalsociety.closet.gramps.intro_0_...           0   0      1   \n",
       "5  tunic.historicalsociety.closet.gramps.intro_0_...           0   0      1   \n",
       "\n",
       "  level_group  \n",
       "1         0-4  \n",
       "2         0-4  \n",
       "3         0-4  \n",
       "4         0-4  \n",
       "5         0-4  "
      ]
     },
     "execution_count": 38,
     "metadata": {},
     "output_type": "execute_result"
    }
   ],
   "source": [
    "df_train.query('session_id == 20090312431273200 & event_name == \"person_click\"').head()"
   ]
  },
  {
   "cell_type": "code",
   "execution_count": 76,
   "metadata": {},
   "outputs": [],
   "source": [
    "df_train_sample = df_train.sample(frac=0.1, random_state=1)"
   ]
  },
  {
   "cell_type": "code",
   "execution_count": 44,
   "metadata": {},
   "outputs": [
    {
     "data": {
      "text/html": [
       "<div>\n",
       "<style scoped>\n",
       "    .dataframe tbody tr th:only-of-type {\n",
       "        vertical-align: middle;\n",
       "    }\n",
       "\n",
       "    .dataframe tbody tr th {\n",
       "        vertical-align: top;\n",
       "    }\n",
       "\n",
       "    .dataframe thead th {\n",
       "        text-align: right;\n",
       "    }\n",
       "</style>\n",
       "<table border=\"1\" class=\"dataframe\">\n",
       "  <thead>\n",
       "    <tr style=\"text-align: right;\">\n",
       "      <th></th>\n",
       "      <th></th>\n",
       "      <th>session_id</th>\n",
       "    </tr>\n",
       "    <tr>\n",
       "      <th>session_id</th>\n",
       "      <th>event_name</th>\n",
       "      <th></th>\n",
       "    </tr>\n",
       "  </thead>\n",
       "  <tbody>\n",
       "    <tr>\n",
       "      <th>20090312431273200</th>\n",
       "      <th>person_click</th>\n",
       "      <td>249</td>\n",
       "    </tr>\n",
       "  </tbody>\n",
       "</table>\n",
       "</div>"
      ],
      "text/plain": [
       "                                session_id\n",
       "session_id        event_name              \n",
       "20090312431273200 person_click         249"
      ]
     },
     "execution_count": 44,
     "metadata": {},
     "output_type": "execute_result"
    }
   ],
   "source": [
    "df_train.query('session_id == 20090312431273200 & event_name == \"person_click\"')\\\n",
    "    .groupby(['session_id', 'event_name'])[['session_id']]\\\n",
    "    .count()\\\n",
    "    .head()"
   ]
  },
  {
   "cell_type": "code",
   "execution_count": 46,
   "metadata": {},
   "outputs": [
    {
     "data": {
      "text/plain": [
       "248"
      ]
     },
     "execution_count": 46,
     "metadata": {},
     "output_type": "execute_result"
    }
   ],
   "source": [
    "df_train.query('session_id == 20090312431273200 & event_name == \"person_click\"')\\\n",
    "    .duplicated(subset=['session_id', 'event_name'])\\\n",
    "    .sum()"
   ]
  },
  {
   "cell_type": "code",
   "execution_count": 95,
   "metadata": {},
   "outputs": [
    {
     "data": {
      "text/html": [
       "<div>\n",
       "<style scoped>\n",
       "    .dataframe tbody tr th:only-of-type {\n",
       "        vertical-align: middle;\n",
       "    }\n",
       "\n",
       "    .dataframe tbody tr th {\n",
       "        vertical-align: top;\n",
       "    }\n",
       "\n",
       "    .dataframe thead th {\n",
       "        text-align: right;\n",
       "    }\n",
       "</style>\n",
       "<table border=\"1\" class=\"dataframe\">\n",
       "  <thead>\n",
       "    <tr style=\"text-align: right;\">\n",
       "      <th></th>\n",
       "      <th>session_id</th>\n",
       "      <th>index</th>\n",
       "      <th>elapsed_time</th>\n",
       "      <th>event_name</th>\n",
       "      <th>name</th>\n",
       "      <th>level</th>\n",
       "      <th>page</th>\n",
       "      <th>room_coor_x</th>\n",
       "      <th>room_coor_y</th>\n",
       "      <th>screen_coor_x</th>\n",
       "      <th>screen_coor_y</th>\n",
       "      <th>hover_duration</th>\n",
       "      <th>text</th>\n",
       "      <th>fqid</th>\n",
       "      <th>room_fqid</th>\n",
       "      <th>text_fqid</th>\n",
       "      <th>fullscreen</th>\n",
       "      <th>hq</th>\n",
       "      <th>music</th>\n",
       "      <th>level_group</th>\n",
       "    </tr>\n",
       "  </thead>\n",
       "  <tbody>\n",
       "    <tr>\n",
       "      <th>2711680</th>\n",
       "      <td>20110318272339404</td>\n",
       "      <td>1451</td>\n",
       "      <td>3830801</td>\n",
       "      <td>notification_click</td>\n",
       "      <td>basic</td>\n",
       "      <td>18</td>\n",
       "      <td>&lt;NA&gt;</td>\n",
       "      <td>814.762007</td>\n",
       "      <td>-632.192248</td>\n",
       "      <td>547.0</td>\n",
       "      <td>522.0</td>\n",
       "      <td>&lt;NA&gt;</td>\n",
       "      <td>That hoofprint doesn't match the flag!</td>\n",
       "      <td>&lt;NA&gt;</td>\n",
       "      <td>tunic.wildlife.center</td>\n",
       "      <td>tunic.wildlife.center.tracks.hub.deer</td>\n",
       "      <td>0</td>\n",
       "      <td>0</td>\n",
       "      <td>1</td>\n",
       "      <td>13-22</td>\n",
       "    </tr>\n",
       "    <tr>\n",
       "      <th>25755858</th>\n",
       "      <td>22090011350114000</td>\n",
       "      <td>399</td>\n",
       "      <td>469612</td>\n",
       "      <td>navigate_click</td>\n",
       "      <td>undefined</td>\n",
       "      <td>10</td>\n",
       "      <td>&lt;NA&gt;</td>\n",
       "      <td>37.154153</td>\n",
       "      <td>-132.954460</td>\n",
       "      <td>220.0</td>\n",
       "      <td>432.0</td>\n",
       "      <td>&lt;NA&gt;</td>\n",
       "      <td>&lt;NA&gt;</td>\n",
       "      <td>wellsbadge</td>\n",
       "      <td>tunic.library.frontdesk</td>\n",
       "      <td>&lt;NA&gt;</td>\n",
       "      <td>0</td>\n",
       "      <td>0</td>\n",
       "      <td>1</td>\n",
       "      <td>5-12</td>\n",
       "    </tr>\n",
       "    <tr>\n",
       "      <th>8302027</th>\n",
       "      <td>21020113560402670</td>\n",
       "      <td>761</td>\n",
       "      <td>735432</td>\n",
       "      <td>navigate_click</td>\n",
       "      <td>undefined</td>\n",
       "      <td>12</td>\n",
       "      <td>&lt;NA&gt;</td>\n",
       "      <td>325.274551</td>\n",
       "      <td>-153.432040</td>\n",
       "      <td>851.0</td>\n",
       "      <td>413.0</td>\n",
       "      <td>&lt;NA&gt;</td>\n",
       "      <td>&lt;NA&gt;</td>\n",
       "      <td>&lt;NA&gt;</td>\n",
       "      <td>tunic.historicalsociety.entry</td>\n",
       "      <td>&lt;NA&gt;</td>\n",
       "      <td>0</td>\n",
       "      <td>0</td>\n",
       "      <td>1</td>\n",
       "      <td>5-12</td>\n",
       "    </tr>\n",
       "    <tr>\n",
       "      <th>22107841</th>\n",
       "      <td>22010513111563070</td>\n",
       "      <td>393</td>\n",
       "      <td>625685</td>\n",
       "      <td>person_click</td>\n",
       "      <td>basic</td>\n",
       "      <td>8</td>\n",
       "      <td>&lt;NA&gt;</td>\n",
       "      <td>48.671622</td>\n",
       "      <td>69.000000</td>\n",
       "      <td>440.0</td>\n",
       "      <td>261.0</td>\n",
       "      <td>&lt;NA&gt;</td>\n",
       "      <td>It's for Grampa Leo. He's a historian!</td>\n",
       "      <td>worker</td>\n",
       "      <td>tunic.drycleaner.frontdesk</td>\n",
       "      <td>tunic.drycleaner.frontdesk.worker.hub</td>\n",
       "      <td>1</td>\n",
       "      <td>1</td>\n",
       "      <td>1</td>\n",
       "      <td>5-12</td>\n",
       "    </tr>\n",
       "    <tr>\n",
       "      <th>6915280</th>\n",
       "      <td>21010313404191104</td>\n",
       "      <td>234</td>\n",
       "      <td>530579</td>\n",
       "      <td>navigate_click</td>\n",
       "      <td>undefined</td>\n",
       "      <td>6</td>\n",
       "      <td>&lt;NA&gt;</td>\n",
       "      <td>95.196028</td>\n",
       "      <td>7.092454</td>\n",
       "      <td>506.0</td>\n",
       "      <td>313.0</td>\n",
       "      <td>&lt;NA&gt;</td>\n",
       "      <td>&lt;NA&gt;</td>\n",
       "      <td>tocloset_dirty</td>\n",
       "      <td>tunic.historicalsociety.basement</td>\n",
       "      <td>&lt;NA&gt;</td>\n",
       "      <td>0</td>\n",
       "      <td>1</td>\n",
       "      <td>1</td>\n",
       "      <td>5-12</td>\n",
       "    </tr>\n",
       "  </tbody>\n",
       "</table>\n",
       "</div>"
      ],
      "text/plain": [
       "                 session_id  index  elapsed_time          event_name   \n",
       "2711680   20110318272339404   1451       3830801  notification_click  \\\n",
       "25755858  22090011350114000    399        469612      navigate_click   \n",
       "8302027   21020113560402670    761        735432      navigate_click   \n",
       "22107841  22010513111563070    393        625685        person_click   \n",
       "6915280   21010313404191104    234        530579      navigate_click   \n",
       "\n",
       "               name  level  page  room_coor_x  room_coor_y  screen_coor_x   \n",
       "2711680       basic     18  <NA>   814.762007  -632.192248          547.0  \\\n",
       "25755858  undefined     10  <NA>    37.154153  -132.954460          220.0   \n",
       "8302027   undefined     12  <NA>   325.274551  -153.432040          851.0   \n",
       "22107841      basic      8  <NA>    48.671622    69.000000          440.0   \n",
       "6915280   undefined      6  <NA>    95.196028     7.092454          506.0   \n",
       "\n",
       "          screen_coor_y  hover_duration   \n",
       "2711680           522.0            <NA>  \\\n",
       "25755858          432.0            <NA>   \n",
       "8302027           413.0            <NA>   \n",
       "22107841          261.0            <NA>   \n",
       "6915280           313.0            <NA>   \n",
       "\n",
       "                                            text            fqid   \n",
       "2711680   That hoofprint doesn't match the flag!            <NA>  \\\n",
       "25755858                                    <NA>      wellsbadge   \n",
       "8302027                                     <NA>            <NA>   \n",
       "22107841  It's for Grampa Leo. He's a historian!          worker   \n",
       "6915280                                     <NA>  tocloset_dirty   \n",
       "\n",
       "                                 room_fqid   \n",
       "2711680              tunic.wildlife.center  \\\n",
       "25755858           tunic.library.frontdesk   \n",
       "8302027      tunic.historicalsociety.entry   \n",
       "22107841        tunic.drycleaner.frontdesk   \n",
       "6915280   tunic.historicalsociety.basement   \n",
       "\n",
       "                                      text_fqid  fullscreen  hq  music   \n",
       "2711680   tunic.wildlife.center.tracks.hub.deer           0   0      1  \\\n",
       "25755858                                   <NA>           0   0      1   \n",
       "8302027                                    <NA>           0   0      1   \n",
       "22107841  tunic.drycleaner.frontdesk.worker.hub           1   1      1   \n",
       "6915280                                    <NA>           0   1      1   \n",
       "\n",
       "         level_group  \n",
       "2711680        13-22  \n",
       "25755858        5-12  \n",
       "8302027         5-12  \n",
       "22107841        5-12  \n",
       "6915280         5-12  "
      ]
     },
     "execution_count": 95,
     "metadata": {},
     "output_type": "execute_result"
    }
   ],
   "source": [
    "df_train_sample.head()"
   ]
  },
  {
   "cell_type": "code",
   "execution_count": 98,
   "metadata": {},
   "outputs": [
    {
     "data": {
      "text/html": [
       "<div>\n",
       "<style scoped>\n",
       "    .dataframe tbody tr th:only-of-type {\n",
       "        vertical-align: middle;\n",
       "    }\n",
       "\n",
       "    .dataframe tbody tr th {\n",
       "        vertical-align: top;\n",
       "    }\n",
       "\n",
       "    .dataframe thead th {\n",
       "        text-align: right;\n",
       "    }\n",
       "</style>\n",
       "<table border=\"1\" class=\"dataframe\">\n",
       "  <thead>\n",
       "    <tr style=\"text-align: right;\">\n",
       "      <th></th>\n",
       "      <th>session_id</th>\n",
       "      <th>index</th>\n",
       "      <th>elapsed_time</th>\n",
       "      <th>level</th>\n",
       "      <th>page</th>\n",
       "      <th>room_coor_x</th>\n",
       "      <th>room_coor_y</th>\n",
       "      <th>screen_coor_x</th>\n",
       "      <th>screen_coor_y</th>\n",
       "      <th>hover_duration</th>\n",
       "      <th>fullscreen</th>\n",
       "      <th>hq</th>\n",
       "      <th>music</th>\n",
       "    </tr>\n",
       "  </thead>\n",
       "  <tbody>\n",
       "    <tr>\n",
       "      <th>count</th>\n",
       "      <td>26296946.0</td>\n",
       "      <td>26296946.0</td>\n",
       "      <td>26296946.0</td>\n",
       "      <td>26296946.0</td>\n",
       "      <td>564544.0</td>\n",
       "      <td>24223674.0</td>\n",
       "      <td>24223674.0</td>\n",
       "      <td>24223674.0</td>\n",
       "      <td>24223674.0</td>\n",
       "      <td>2002244.0</td>\n",
       "      <td>26296946.0</td>\n",
       "      <td>26296946.0</td>\n",
       "      <td>26296946.0</td>\n",
       "    </tr>\n",
       "    <tr>\n",
       "      <th>mean</th>\n",
       "      <td>-255089395419.632568</td>\n",
       "      <td>644.51024</td>\n",
       "      <td>4016693.894748</td>\n",
       "      <td>12.191686</td>\n",
       "      <td>3.166559</td>\n",
       "      <td>-54.905793</td>\n",
       "      <td>-116.211852</td>\n",
       "      <td>458.409812</td>\n",
       "      <td>385.586034</td>\n",
       "      <td>3471.003377</td>\n",
       "      <td>0.137004</td>\n",
       "      <td>0.120205</td>\n",
       "      <td>0.929378</td>\n",
       "    </tr>\n",
       "    <tr>\n",
       "      <th>std</th>\n",
       "      <td>571295349122928.75</td>\n",
       "      <td>545.787957</td>\n",
       "      <td>31270320.364611</td>\n",
       "      <td>6.497789</td>\n",
       "      <td>2.063291</td>\n",
       "      <td>520.292583</td>\n",
       "      <td>218.470954</td>\n",
       "      <td>247.938892</td>\n",
       "      <td>129.816557</td>\n",
       "      <td>460202.415493</td>\n",
       "      <td>0.343851</td>\n",
       "      <td>0.325201</td>\n",
       "      <td>0.256193</td>\n",
       "    </tr>\n",
       "    <tr>\n",
       "      <th>min</th>\n",
       "      <td>20090312431273200.0</td>\n",
       "      <td>0.0</td>\n",
       "      <td>0.0</td>\n",
       "      <td>0.0</td>\n",
       "      <td>0.0</td>\n",
       "      <td>-1992.354569</td>\n",
       "      <td>-918.162349</td>\n",
       "      <td>0.0</td>\n",
       "      <td>0.0</td>\n",
       "      <td>0.0</td>\n",
       "      <td>0.0</td>\n",
       "      <td>0.0</td>\n",
       "      <td>0.0</td>\n",
       "    </tr>\n",
       "    <tr>\n",
       "      <th>25%</th>\n",
       "      <td>21010216570082376.0</td>\n",
       "      <td>288.0</td>\n",
       "      <td>439700.0</td>\n",
       "      <td>6.0</td>\n",
       "      <td>1.0</td>\n",
       "      <td>-352.839501</td>\n",
       "      <td>-212.718256</td>\n",
       "      <td>269.0</td>\n",
       "      <td>304.0</td>\n",
       "      <td>99.0</td>\n",
       "      <td>0.0</td>\n",
       "      <td>0.0</td>\n",
       "      <td>1.0</td>\n",
       "    </tr>\n",
       "    <tr>\n",
       "      <th>50%</th>\n",
       "      <td>21040213470142500.0</td>\n",
       "      <td>595.0</td>\n",
       "      <td>1014801.0</td>\n",
       "      <td>13.0</td>\n",
       "      <td>3.0</td>\n",
       "      <td>-11.162797</td>\n",
       "      <td>-97.605339</td>\n",
       "      <td>447.0</td>\n",
       "      <td>397.0</td>\n",
       "      <td>419.0</td>\n",
       "      <td>0.0</td>\n",
       "      <td>0.0</td>\n",
       "      <td>1.0</td>\n",
       "    </tr>\n",
       "    <tr>\n",
       "      <th>75%</th>\n",
       "      <td>21100516321490164.0</td>\n",
       "      <td>896.0</td>\n",
       "      <td>1747040.0</td>\n",
       "      <td>18.0</td>\n",
       "      <td>5.0</td>\n",
       "      <td>296.651499</td>\n",
       "      <td>22.68786</td>\n",
       "      <td>663.0</td>\n",
       "      <td>471.0</td>\n",
       "      <td>1266.0</td>\n",
       "      <td>0.0</td>\n",
       "      <td>0.0</td>\n",
       "      <td>1.0</td>\n",
       "    </tr>\n",
       "    <tr>\n",
       "      <th>max</th>\n",
       "      <td>22100221145014656.0</td>\n",
       "      <td>20473.0</td>\n",
       "      <td>1988606704.0</td>\n",
       "      <td>22.0</td>\n",
       "      <td>6.0</td>\n",
       "      <td>1261.773745</td>\n",
       "      <td>543.616424</td>\n",
       "      <td>1919.0</td>\n",
       "      <td>1440.0</td>\n",
       "      <td>245163690.0</td>\n",
       "      <td>1.0</td>\n",
       "      <td>1.0</td>\n",
       "      <td>1.0</td>\n",
       "    </tr>\n",
       "  </tbody>\n",
       "</table>\n",
       "</div>"
      ],
      "text/plain": [
       "                session_id       index     elapsed_time       level      page   \n",
       "count           26296946.0  26296946.0       26296946.0  26296946.0  564544.0  \\\n",
       "mean  -255089395419.632568   644.51024   4016693.894748   12.191686  3.166559   \n",
       "std     571295349122928.75  545.787957  31270320.364611    6.497789  2.063291   \n",
       "min    20090312431273200.0         0.0              0.0         0.0       0.0   \n",
       "25%    21010216570082376.0       288.0         439700.0         6.0       1.0   \n",
       "50%    21040213470142500.0       595.0        1014801.0        13.0       3.0   \n",
       "75%    21100516321490164.0       896.0        1747040.0        18.0       5.0   \n",
       "max    22100221145014656.0     20473.0     1988606704.0        22.0       6.0   \n",
       "\n",
       "       room_coor_x  room_coor_y  screen_coor_x  screen_coor_y  hover_duration   \n",
       "count   24223674.0   24223674.0     24223674.0     24223674.0       2002244.0  \\\n",
       "mean    -54.905793  -116.211852     458.409812     385.586034     3471.003377   \n",
       "std     520.292583   218.470954     247.938892     129.816557   460202.415493   \n",
       "min   -1992.354569  -918.162349            0.0            0.0             0.0   \n",
       "25%    -352.839501  -212.718256          269.0          304.0            99.0   \n",
       "50%     -11.162797   -97.605339          447.0          397.0           419.0   \n",
       "75%     296.651499     22.68786          663.0          471.0          1266.0   \n",
       "max    1261.773745   543.616424         1919.0         1440.0     245163690.0   \n",
       "\n",
       "       fullscreen          hq       music  \n",
       "count  26296946.0  26296946.0  26296946.0  \n",
       "mean     0.137004    0.120205    0.929378  \n",
       "std      0.343851    0.325201    0.256193  \n",
       "min           0.0         0.0         0.0  \n",
       "25%           0.0         0.0         1.0  \n",
       "50%           0.0         0.0         1.0  \n",
       "75%           0.0         0.0         1.0  \n",
       "max           1.0         1.0         1.0  "
      ]
     },
     "execution_count": 98,
     "metadata": {},
     "output_type": "execute_result"
    }
   ],
   "source": [
    "df_train.describe()"
   ]
  },
  {
   "cell_type": "code",
   "execution_count": 51,
   "metadata": {},
   "outputs": [
    {
     "data": {
      "text/plain": [
       "23562"
      ]
     },
     "execution_count": 51,
     "metadata": {},
     "output_type": "execute_result"
    }
   ],
   "source": [
    "df_train.session_id.nunique()"
   ]
  },
  {
   "cell_type": "code",
   "execution_count": 58,
   "metadata": {},
   "outputs": [],
   "source": [
    "train_labels_csv = '/Users/macintosh/Desktop/data_completitions/Kaggle/2023/predict-student-performance-from-game-play/train_labels.csv'\n",
    "df_train_labels = pd.read_csv(train_labels_csv, dtype_backend = 'pyarrow')"
   ]
  },
  {
   "cell_type": "code",
   "execution_count": 63,
   "metadata": {},
   "outputs": [
    {
     "data": {
      "text/html": [
       "<div>\n",
       "<style scoped>\n",
       "    .dataframe tbody tr th:only-of-type {\n",
       "        vertical-align: middle;\n",
       "    }\n",
       "\n",
       "    .dataframe tbody tr th {\n",
       "        vertical-align: top;\n",
       "    }\n",
       "\n",
       "    .dataframe thead th {\n",
       "        text-align: right;\n",
       "    }\n",
       "</style>\n",
       "<table border=\"1\" class=\"dataframe\">\n",
       "  <thead>\n",
       "    <tr style=\"text-align: right;\">\n",
       "      <th></th>\n",
       "      <th>session_id</th>\n",
       "      <th>correct</th>\n",
       "    </tr>\n",
       "  </thead>\n",
       "  <tbody>\n",
       "    <tr>\n",
       "      <th>0</th>\n",
       "      <td>20090312431273200_q1</td>\n",
       "      <td>1</td>\n",
       "    </tr>\n",
       "    <tr>\n",
       "      <th>23562</th>\n",
       "      <td>20090312431273200_q2</td>\n",
       "      <td>1</td>\n",
       "    </tr>\n",
       "    <tr>\n",
       "      <th>47124</th>\n",
       "      <td>20090312431273200_q3</td>\n",
       "      <td>1</td>\n",
       "    </tr>\n",
       "    <tr>\n",
       "      <th>70686</th>\n",
       "      <td>20090312431273200_q4</td>\n",
       "      <td>1</td>\n",
       "    </tr>\n",
       "    <tr>\n",
       "      <th>94248</th>\n",
       "      <td>20090312431273200_q5</td>\n",
       "      <td>1</td>\n",
       "    </tr>\n",
       "    <tr>\n",
       "      <th>117810</th>\n",
       "      <td>20090312431273200_q6</td>\n",
       "      <td>1</td>\n",
       "    </tr>\n",
       "    <tr>\n",
       "      <th>141372</th>\n",
       "      <td>20090312431273200_q7</td>\n",
       "      <td>1</td>\n",
       "    </tr>\n",
       "    <tr>\n",
       "      <th>164934</th>\n",
       "      <td>20090312431273200_q8</td>\n",
       "      <td>1</td>\n",
       "    </tr>\n",
       "    <tr>\n",
       "      <th>188496</th>\n",
       "      <td>20090312431273200_q9</td>\n",
       "      <td>1</td>\n",
       "    </tr>\n",
       "    <tr>\n",
       "      <th>212058</th>\n",
       "      <td>20090312431273200_q10</td>\n",
       "      <td>1</td>\n",
       "    </tr>\n",
       "    <tr>\n",
       "      <th>235620</th>\n",
       "      <td>20090312431273200_q11</td>\n",
       "      <td>1</td>\n",
       "    </tr>\n",
       "    <tr>\n",
       "      <th>259182</th>\n",
       "      <td>20090312431273200_q12</td>\n",
       "      <td>1</td>\n",
       "    </tr>\n",
       "    <tr>\n",
       "      <th>282744</th>\n",
       "      <td>20090312431273200_q13</td>\n",
       "      <td>0</td>\n",
       "    </tr>\n",
       "    <tr>\n",
       "      <th>306306</th>\n",
       "      <td>20090312431273200_q14</td>\n",
       "      <td>1</td>\n",
       "    </tr>\n",
       "    <tr>\n",
       "      <th>329868</th>\n",
       "      <td>20090312431273200_q15</td>\n",
       "      <td>1</td>\n",
       "    </tr>\n",
       "    <tr>\n",
       "      <th>353430</th>\n",
       "      <td>20090312431273200_q16</td>\n",
       "      <td>0</td>\n",
       "    </tr>\n",
       "    <tr>\n",
       "      <th>376992</th>\n",
       "      <td>20090312431273200_q17</td>\n",
       "      <td>1</td>\n",
       "    </tr>\n",
       "    <tr>\n",
       "      <th>400554</th>\n",
       "      <td>20090312431273200_q18</td>\n",
       "      <td>1</td>\n",
       "    </tr>\n",
       "  </tbody>\n",
       "</table>\n",
       "</div>"
      ],
      "text/plain": [
       "                   session_id  correct\n",
       "0        20090312431273200_q1        1\n",
       "23562    20090312431273200_q2        1\n",
       "47124    20090312431273200_q3        1\n",
       "70686    20090312431273200_q4        1\n",
       "94248    20090312431273200_q5        1\n",
       "117810   20090312431273200_q6        1\n",
       "141372   20090312431273200_q7        1\n",
       "164934   20090312431273200_q8        1\n",
       "188496   20090312431273200_q9        1\n",
       "212058  20090312431273200_q10        1\n",
       "235620  20090312431273200_q11        1\n",
       "259182  20090312431273200_q12        1\n",
       "282744  20090312431273200_q13        0\n",
       "306306  20090312431273200_q14        1\n",
       "329868  20090312431273200_q15        1\n",
       "353430  20090312431273200_q16        0\n",
       "376992  20090312431273200_q17        1\n",
       "400554  20090312431273200_q18        1"
      ]
     },
     "execution_count": 63,
     "metadata": {},
     "output_type": "execute_result"
    }
   ],
   "source": [
    "df_train_labels[df_train_labels['session_id'].str.contains('20090312431273200')]"
   ]
  },
  {
   "cell_type": "code",
   "execution_count": 66,
   "metadata": {},
   "outputs": [],
   "source": [
    "# first we need to group by in session id and question number (max 18 questions)\n"
   ]
  },
  {
   "cell_type": "code",
   "execution_count": 99,
   "metadata": {},
   "outputs": [],
   "source": [
    "test_csv = '/Users/macintosh/Desktop/data_completitions/Kaggle/2023/predict-student-performance-from-game-play/test.csv'\n",
    "df_test = pd.read_csv(test_csv, dtype_backend = 'pyarrow')"
   ]
  },
  {
   "cell_type": "code",
   "execution_count": 106,
   "metadata": {},
   "outputs": [
    {
     "data": {
      "text/html": [
       "<div>\n",
       "<style scoped>\n",
       "    .dataframe tbody tr th:only-of-type {\n",
       "        vertical-align: middle;\n",
       "    }\n",
       "\n",
       "    .dataframe tbody tr th {\n",
       "        vertical-align: top;\n",
       "    }\n",
       "\n",
       "    .dataframe thead th {\n",
       "        text-align: right;\n",
       "    }\n",
       "</style>\n",
       "<table border=\"1\" class=\"dataframe\">\n",
       "  <thead>\n",
       "    <tr style=\"text-align: right;\">\n",
       "      <th></th>\n",
       "      <th>session_id</th>\n",
       "      <th>index</th>\n",
       "      <th>elapsed_time</th>\n",
       "      <th>event_name</th>\n",
       "      <th>name</th>\n",
       "      <th>level</th>\n",
       "      <th>page</th>\n",
       "      <th>room_coor_x</th>\n",
       "      <th>room_coor_y</th>\n",
       "      <th>screen_coor_x</th>\n",
       "      <th>screen_coor_y</th>\n",
       "      <th>hover_duration</th>\n",
       "      <th>text</th>\n",
       "      <th>fqid</th>\n",
       "      <th>room_fqid</th>\n",
       "      <th>text_fqid</th>\n",
       "      <th>fullscreen</th>\n",
       "      <th>hq</th>\n",
       "      <th>music</th>\n",
       "      <th>level_group</th>\n",
       "      <th>session_level</th>\n",
       "    </tr>\n",
       "  </thead>\n",
       "  <tbody>\n",
       "    <tr>\n",
       "      <th>3723</th>\n",
       "      <td>20090312331414616</td>\n",
       "      <td>1001</td>\n",
       "      <td>1581679</td>\n",
       "      <td>map_hover</td>\n",
       "      <td>basic</td>\n",
       "      <td>22</td>\n",
       "      <td>&lt;NA&gt;</td>\n",
       "      <td>&lt;NA&gt;</td>\n",
       "      <td>&lt;NA&gt;</td>\n",
       "      <td>&lt;NA&gt;</td>\n",
       "      <td>&lt;NA&gt;</td>\n",
       "      <td>484.0</td>\n",
       "      <td>&lt;NA&gt;</td>\n",
       "      <td>tunic.wildlife</td>\n",
       "      <td>tunic.historicalsociety.entry</td>\n",
       "      <td>&lt;NA&gt;</td>\n",
       "      <td>0</td>\n",
       "      <td>0</td>\n",
       "      <td>1</td>\n",
       "      <td>13-22</td>\n",
       "      <td>2</td>\n",
       "    </tr>\n",
       "    <tr>\n",
       "      <th>3724</th>\n",
       "      <td>20090312331414616</td>\n",
       "      <td>1002</td>\n",
       "      <td>1583044</td>\n",
       "      <td>map_hover</td>\n",
       "      <td>basic</td>\n",
       "      <td>22</td>\n",
       "      <td>&lt;NA&gt;</td>\n",
       "      <td>&lt;NA&gt;</td>\n",
       "      <td>&lt;NA&gt;</td>\n",
       "      <td>&lt;NA&gt;</td>\n",
       "      <td>&lt;NA&gt;</td>\n",
       "      <td>783.0</td>\n",
       "      <td>&lt;NA&gt;</td>\n",
       "      <td>tunic.capitol_2</td>\n",
       "      <td>tunic.historicalsociety.entry</td>\n",
       "      <td>&lt;NA&gt;</td>\n",
       "      <td>0</td>\n",
       "      <td>0</td>\n",
       "      <td>1</td>\n",
       "      <td>13-22</td>\n",
       "      <td>2</td>\n",
       "    </tr>\n",
       "    <tr>\n",
       "      <th>3725</th>\n",
       "      <td>20090312331414616</td>\n",
       "      <td>1003</td>\n",
       "      <td>1583410</td>\n",
       "      <td>map_click</td>\n",
       "      <td>undefined</td>\n",
       "      <td>22</td>\n",
       "      <td>&lt;NA&gt;</td>\n",
       "      <td>483.726363</td>\n",
       "      <td>-3.880047</td>\n",
       "      <td>456.0</td>\n",
       "      <td>332.0</td>\n",
       "      <td>&lt;NA&gt;</td>\n",
       "      <td>&lt;NA&gt;</td>\n",
       "      <td>tunic.capitol_2</td>\n",
       "      <td>tunic.historicalsociety.entry</td>\n",
       "      <td>&lt;NA&gt;</td>\n",
       "      <td>0</td>\n",
       "      <td>0</td>\n",
       "      <td>1</td>\n",
       "      <td>13-22</td>\n",
       "      <td>2</td>\n",
       "    </tr>\n",
       "    <tr>\n",
       "      <th>3726</th>\n",
       "      <td>20090312331414616</td>\n",
       "      <td>1004</td>\n",
       "      <td>1585841</td>\n",
       "      <td>navigate_click</td>\n",
       "      <td>undefined</td>\n",
       "      <td>22</td>\n",
       "      <td>&lt;NA&gt;</td>\n",
       "      <td>192.372139</td>\n",
       "      <td>38.216178</td>\n",
       "      <td>383.0</td>\n",
       "      <td>272.0</td>\n",
       "      <td>&lt;NA&gt;</td>\n",
       "      <td>&lt;NA&gt;</td>\n",
       "      <td>chap4_finale_c</td>\n",
       "      <td>tunic.capitol_2.hall</td>\n",
       "      <td>&lt;NA&gt;</td>\n",
       "      <td>0</td>\n",
       "      <td>0</td>\n",
       "      <td>1</td>\n",
       "      <td>13-22</td>\n",
       "      <td>2</td>\n",
       "    </tr>\n",
       "    <tr>\n",
       "      <th>3727</th>\n",
       "      <td>20090312331414616</td>\n",
       "      <td>1005</td>\n",
       "      <td>1587810</td>\n",
       "      <td>checkpoint</td>\n",
       "      <td>basic</td>\n",
       "      <td>22</td>\n",
       "      <td>&lt;NA&gt;</td>\n",
       "      <td>&lt;NA&gt;</td>\n",
       "      <td>&lt;NA&gt;</td>\n",
       "      <td>&lt;NA&gt;</td>\n",
       "      <td>&lt;NA&gt;</td>\n",
       "      <td>&lt;NA&gt;</td>\n",
       "      <td>&lt;NA&gt;</td>\n",
       "      <td>chap4_finale_c</td>\n",
       "      <td>tunic.capitol_2.hall</td>\n",
       "      <td>&lt;NA&gt;</td>\n",
       "      <td>0</td>\n",
       "      <td>0</td>\n",
       "      <td>1</td>\n",
       "      <td>13-22</td>\n",
       "      <td>2</td>\n",
       "    </tr>\n",
       "  </tbody>\n",
       "</table>\n",
       "</div>"
      ],
      "text/plain": [
       "             session_id  index  elapsed_time      event_name       name   \n",
       "3723  20090312331414616   1001       1581679       map_hover      basic  \\\n",
       "3724  20090312331414616   1002       1583044       map_hover      basic   \n",
       "3725  20090312331414616   1003       1583410       map_click  undefined   \n",
       "3726  20090312331414616   1004       1585841  navigate_click  undefined   \n",
       "3727  20090312331414616   1005       1587810      checkpoint      basic   \n",
       "\n",
       "      level  page  room_coor_x  room_coor_y  screen_coor_x  screen_coor_y   \n",
       "3723     22  <NA>         <NA>         <NA>           <NA>           <NA>  \\\n",
       "3724     22  <NA>         <NA>         <NA>           <NA>           <NA>   \n",
       "3725     22  <NA>   483.726363    -3.880047          456.0          332.0   \n",
       "3726     22  <NA>   192.372139    38.216178          383.0          272.0   \n",
       "3727     22  <NA>         <NA>         <NA>           <NA>           <NA>   \n",
       "\n",
       "      hover_duration  text             fqid                      room_fqid   \n",
       "3723           484.0  <NA>   tunic.wildlife  tunic.historicalsociety.entry  \\\n",
       "3724           783.0  <NA>  tunic.capitol_2  tunic.historicalsociety.entry   \n",
       "3725            <NA>  <NA>  tunic.capitol_2  tunic.historicalsociety.entry   \n",
       "3726            <NA>  <NA>   chap4_finale_c           tunic.capitol_2.hall   \n",
       "3727            <NA>  <NA>   chap4_finale_c           tunic.capitol_2.hall   \n",
       "\n",
       "     text_fqid  fullscreen  hq  music level_group  session_level  \n",
       "3723      <NA>           0   0      1       13-22              2  \n",
       "3724      <NA>           0   0      1       13-22              2  \n",
       "3725      <NA>           0   0      1       13-22              2  \n",
       "3726      <NA>           0   0      1       13-22              2  \n",
       "3727      <NA>           0   0      1       13-22              2  "
      ]
     },
     "execution_count": 106,
     "metadata": {},
     "output_type": "execute_result"
    }
   ],
   "source": [
    "df_test.tail()"
   ]
  },
  {
   "cell_type": "code",
   "execution_count": 114,
   "metadata": {},
   "outputs": [
    {
     "data": {
      "text/html": [
       "<div>\n",
       "<style scoped>\n",
       "    .dataframe tbody tr th:only-of-type {\n",
       "        vertical-align: middle;\n",
       "    }\n",
       "\n",
       "    .dataframe tbody tr th {\n",
       "        vertical-align: top;\n",
       "    }\n",
       "\n",
       "    .dataframe thead th {\n",
       "        text-align: right;\n",
       "    }\n",
       "</style>\n",
       "<table border=\"1\" class=\"dataframe\">\n",
       "  <thead>\n",
       "    <tr style=\"text-align: right;\">\n",
       "      <th></th>\n",
       "      <th>session_id</th>\n",
       "      <th>index</th>\n",
       "      <th>elapsed_time</th>\n",
       "      <th>event_name</th>\n",
       "      <th>name</th>\n",
       "      <th>level</th>\n",
       "      <th>page</th>\n",
       "      <th>room_coor_x</th>\n",
       "      <th>room_coor_y</th>\n",
       "      <th>screen_coor_x</th>\n",
       "      <th>screen_coor_y</th>\n",
       "      <th>hover_duration</th>\n",
       "      <th>text</th>\n",
       "      <th>fqid</th>\n",
       "      <th>room_fqid</th>\n",
       "      <th>text_fqid</th>\n",
       "      <th>fullscreen</th>\n",
       "      <th>hq</th>\n",
       "      <th>music</th>\n",
       "      <th>level_group</th>\n",
       "    </tr>\n",
       "  </thead>\n",
       "  <tbody>\n",
       "    <tr>\n",
       "      <th>2711680</th>\n",
       "      <td>20110318272339404</td>\n",
       "      <td>1451</td>\n",
       "      <td>3830801</td>\n",
       "      <td>notification_click</td>\n",
       "      <td>basic</td>\n",
       "      <td>18</td>\n",
       "      <td>&lt;NA&gt;</td>\n",
       "      <td>814.762007</td>\n",
       "      <td>-632.192248</td>\n",
       "      <td>547.0</td>\n",
       "      <td>522.0</td>\n",
       "      <td>&lt;NA&gt;</td>\n",
       "      <td>That hoofprint doesn't match the flag!</td>\n",
       "      <td>&lt;NA&gt;</td>\n",
       "      <td>tunic.wildlife.center</td>\n",
       "      <td>tunic.wildlife.center.tracks.hub.deer</td>\n",
       "      <td>0</td>\n",
       "      <td>0</td>\n",
       "      <td>1</td>\n",
       "      <td>13-22</td>\n",
       "    </tr>\n",
       "    <tr>\n",
       "      <th>22107841</th>\n",
       "      <td>22010513111563070</td>\n",
       "      <td>393</td>\n",
       "      <td>625685</td>\n",
       "      <td>person_click</td>\n",
       "      <td>basic</td>\n",
       "      <td>8</td>\n",
       "      <td>&lt;NA&gt;</td>\n",
       "      <td>48.671622</td>\n",
       "      <td>69.000000</td>\n",
       "      <td>440.0</td>\n",
       "      <td>261.0</td>\n",
       "      <td>&lt;NA&gt;</td>\n",
       "      <td>It's for Grampa Leo. He's a historian!</td>\n",
       "      <td>worker</td>\n",
       "      <td>tunic.drycleaner.frontdesk</td>\n",
       "      <td>tunic.drycleaner.frontdesk.worker.hub</td>\n",
       "      <td>1</td>\n",
       "      <td>1</td>\n",
       "      <td>1</td>\n",
       "      <td>5-12</td>\n",
       "    </tr>\n",
       "    <tr>\n",
       "      <th>21857638</th>\n",
       "      <td>22010315181553172</td>\n",
       "      <td>106</td>\n",
       "      <td>324064</td>\n",
       "      <td>person_click</td>\n",
       "      <td>basic</td>\n",
       "      <td>2</td>\n",
       "      <td>&lt;NA&gt;</td>\n",
       "      <td>-128.159191</td>\n",
       "      <td>50.762186</td>\n",
       "      <td>331.0</td>\n",
       "      <td>293.0</td>\n",
       "      <td>&lt;NA&gt;</td>\n",
       "      <td>Why don't you head to the Basketball Center an...</td>\n",
       "      <td>gramps</td>\n",
       "      <td>tunic.historicalsociety.collection</td>\n",
       "      <td>tunic.historicalsociety.collection.gramps.found</td>\n",
       "      <td>0</td>\n",
       "      <td>0</td>\n",
       "      <td>1</td>\n",
       "      <td>0-4</td>\n",
       "    </tr>\n",
       "    <tr>\n",
       "      <th>1918698</th>\n",
       "      <td>20110209525083620</td>\n",
       "      <td>288</td>\n",
       "      <td>695241</td>\n",
       "      <td>person_click</td>\n",
       "      <td>basic</td>\n",
       "      <td>6</td>\n",
       "      <td>&lt;NA&gt;</td>\n",
       "      <td>-56.348501</td>\n",
       "      <td>118.000000</td>\n",
       "      <td>352.0</td>\n",
       "      <td>212.0</td>\n",
       "      <td>&lt;NA&gt;</td>\n",
       "      <td>I ran into Wells there this morning.</td>\n",
       "      <td>archivist</td>\n",
       "      <td>tunic.historicalsociety.frontdesk</td>\n",
       "      <td>tunic.historicalsociety.frontdesk.archivist.ha...</td>\n",
       "      <td>0</td>\n",
       "      <td>0</td>\n",
       "      <td>1</td>\n",
       "      <td>5-12</td>\n",
       "    </tr>\n",
       "    <tr>\n",
       "      <th>24919973</th>\n",
       "      <td>22070111534418216</td>\n",
       "      <td>684</td>\n",
       "      <td>1778619</td>\n",
       "      <td>cutscene_click</td>\n",
       "      <td>basic</td>\n",
       "      <td>13</td>\n",
       "      <td>&lt;NA&gt;</td>\n",
       "      <td>222.436947</td>\n",
       "      <td>-232.961833</td>\n",
       "      <td>529.0</td>\n",
       "      <td>490.0</td>\n",
       "      <td>&lt;NA&gt;</td>\n",
       "      <td>I think it's a flag! Pretty interesting, huh?</td>\n",
       "      <td>ch3start</td>\n",
       "      <td>tunic.historicalsociety.basement</td>\n",
       "      <td>tunic.historicalsociety.basement.ch3start</td>\n",
       "      <td>0</td>\n",
       "      <td>0</td>\n",
       "      <td>1</td>\n",
       "      <td>13-22</td>\n",
       "    </tr>\n",
       "  </tbody>\n",
       "</table>\n",
       "</div>"
      ],
      "text/plain": [
       "                 session_id  index  elapsed_time          event_name   name   \n",
       "2711680   20110318272339404   1451       3830801  notification_click  basic  \\\n",
       "22107841  22010513111563070    393        625685        person_click  basic   \n",
       "21857638  22010315181553172    106        324064        person_click  basic   \n",
       "1918698   20110209525083620    288        695241        person_click  basic   \n",
       "24919973  22070111534418216    684       1778619      cutscene_click  basic   \n",
       "\n",
       "          level  page  room_coor_x  room_coor_y  screen_coor_x  screen_coor_y   \n",
       "2711680      18  <NA>   814.762007  -632.192248          547.0          522.0  \\\n",
       "22107841      8  <NA>    48.671622    69.000000          440.0          261.0   \n",
       "21857638      2  <NA>  -128.159191    50.762186          331.0          293.0   \n",
       "1918698       6  <NA>   -56.348501   118.000000          352.0          212.0   \n",
       "24919973     13  <NA>   222.436947  -232.961833          529.0          490.0   \n",
       "\n",
       "          hover_duration                                               text   \n",
       "2711680             <NA>             That hoofprint doesn't match the flag!  \\\n",
       "22107841            <NA>             It's for Grampa Leo. He's a historian!   \n",
       "21857638            <NA>  Why don't you head to the Basketball Center an...   \n",
       "1918698             <NA>               I ran into Wells there this morning.   \n",
       "24919973            <NA>      I think it's a flag! Pretty interesting, huh?   \n",
       "\n",
       "               fqid                           room_fqid   \n",
       "2711680        <NA>               tunic.wildlife.center  \\\n",
       "22107841     worker          tunic.drycleaner.frontdesk   \n",
       "21857638     gramps  tunic.historicalsociety.collection   \n",
       "1918698   archivist   tunic.historicalsociety.frontdesk   \n",
       "24919973   ch3start    tunic.historicalsociety.basement   \n",
       "\n",
       "                                                  text_fqid  fullscreen  hq   \n",
       "2711680               tunic.wildlife.center.tracks.hub.deer           0   0  \\\n",
       "22107841              tunic.drycleaner.frontdesk.worker.hub           1   1   \n",
       "21857638    tunic.historicalsociety.collection.gramps.found           0   0   \n",
       "1918698   tunic.historicalsociety.frontdesk.archivist.ha...           0   0   \n",
       "24919973          tunic.historicalsociety.basement.ch3start           0   0   \n",
       "\n",
       "          music level_group  \n",
       "2711680       1       13-22  \n",
       "22107841      1        5-12  \n",
       "21857638      1         0-4  \n",
       "1918698       1        5-12  \n",
       "24919973      1       13-22  "
      ]
     },
     "execution_count": 114,
     "metadata": {},
     "output_type": "execute_result"
    }
   ],
   "source": [
    "df_train_sample[~df_train_sample.text.isna()].head()"
   ]
  },
  {
   "cell_type": "code",
   "execution_count": 7,
   "metadata": {},
   "outputs": [
    {
     "data": {
      "text/plain": [
       "'12'"
      ]
     },
     "execution_count": 7,
     "metadata": {},
     "output_type": "execute_result"
    }
   ],
   "source": [
    "a = '20090312431273200_q12'\n",
    "a.split('_')[-1][1:]"
   ]
  },
  {
   "cell_type": "code",
   "execution_count": 14,
   "metadata": {},
   "outputs": [],
   "source": [
    "import pandas as pd\n",
    "submission_csv = '/Users/macintosh/Desktop/data_completitions/Kaggle/2023/predict-student-performance-from-game-play/sample_submission.csv'\n",
    "# df_submission = pd.read_csv(submission_csv, dtype_backend = 'pyarrow')\n",
    "df_submission = pd.read_csv(submission_csv)"
   ]
  },
  {
   "cell_type": "code",
   "execution_count": 33,
   "metadata": {},
   "outputs": [],
   "source": [
    "df_submission['question'] = df_submission.session_id.apply(lambda x: x.split('_')[-1][1:])"
   ]
  },
  {
   "cell_type": "code",
   "execution_count": 40,
   "metadata": {},
   "outputs": [
    {
     "data": {
      "text/html": [
       "<div>\n",
       "<style scoped>\n",
       "    .dataframe tbody tr th:only-of-type {\n",
       "        vertical-align: middle;\n",
       "    }\n",
       "\n",
       "    .dataframe tbody tr th {\n",
       "        vertical-align: top;\n",
       "    }\n",
       "\n",
       "    .dataframe thead th {\n",
       "        text-align: right;\n",
       "    }\n",
       "</style>\n",
       "<table border=\"1\" class=\"dataframe\">\n",
       "  <thead>\n",
       "    <tr style=\"text-align: right;\">\n",
       "      <th></th>\n",
       "      <th></th>\n",
       "      <th>session_id</th>\n",
       "      <th>correct</th>\n",
       "    </tr>\n",
       "    <tr>\n",
       "      <th>session_level</th>\n",
       "      <th>question</th>\n",
       "      <th></th>\n",
       "      <th></th>\n",
       "    </tr>\n",
       "  </thead>\n",
       "  <tbody>\n",
       "    <tr>\n",
       "      <th rowspan=\"3\" valign=\"top\">0</th>\n",
       "      <th>1</th>\n",
       "      <td>3</td>\n",
       "      <td>3</td>\n",
       "    </tr>\n",
       "    <tr>\n",
       "      <th>2</th>\n",
       "      <td>3</td>\n",
       "      <td>3</td>\n",
       "    </tr>\n",
       "    <tr>\n",
       "      <th>3</th>\n",
       "      <td>3</td>\n",
       "      <td>3</td>\n",
       "    </tr>\n",
       "    <tr>\n",
       "      <th rowspan=\"10\" valign=\"top\">1</th>\n",
       "      <th>10</th>\n",
       "      <td>3</td>\n",
       "      <td>3</td>\n",
       "    </tr>\n",
       "    <tr>\n",
       "      <th>11</th>\n",
       "      <td>3</td>\n",
       "      <td>3</td>\n",
       "    </tr>\n",
       "    <tr>\n",
       "      <th>12</th>\n",
       "      <td>3</td>\n",
       "      <td>3</td>\n",
       "    </tr>\n",
       "    <tr>\n",
       "      <th>13</th>\n",
       "      <td>3</td>\n",
       "      <td>3</td>\n",
       "    </tr>\n",
       "    <tr>\n",
       "      <th>4</th>\n",
       "      <td>3</td>\n",
       "      <td>3</td>\n",
       "    </tr>\n",
       "    <tr>\n",
       "      <th>5</th>\n",
       "      <td>3</td>\n",
       "      <td>3</td>\n",
       "    </tr>\n",
       "    <tr>\n",
       "      <th>6</th>\n",
       "      <td>3</td>\n",
       "      <td>3</td>\n",
       "    </tr>\n",
       "    <tr>\n",
       "      <th>7</th>\n",
       "      <td>3</td>\n",
       "      <td>3</td>\n",
       "    </tr>\n",
       "    <tr>\n",
       "      <th>8</th>\n",
       "      <td>3</td>\n",
       "      <td>3</td>\n",
       "    </tr>\n",
       "    <tr>\n",
       "      <th>9</th>\n",
       "      <td>3</td>\n",
       "      <td>3</td>\n",
       "    </tr>\n",
       "    <tr>\n",
       "      <th rowspan=\"5\" valign=\"top\">2</th>\n",
       "      <th>14</th>\n",
       "      <td>3</td>\n",
       "      <td>3</td>\n",
       "    </tr>\n",
       "    <tr>\n",
       "      <th>15</th>\n",
       "      <td>3</td>\n",
       "      <td>3</td>\n",
       "    </tr>\n",
       "    <tr>\n",
       "      <th>16</th>\n",
       "      <td>3</td>\n",
       "      <td>3</td>\n",
       "    </tr>\n",
       "    <tr>\n",
       "      <th>17</th>\n",
       "      <td>3</td>\n",
       "      <td>3</td>\n",
       "    </tr>\n",
       "    <tr>\n",
       "      <th>18</th>\n",
       "      <td>3</td>\n",
       "      <td>3</td>\n",
       "    </tr>\n",
       "  </tbody>\n",
       "</table>\n",
       "</div>"
      ],
      "text/plain": [
       "                        session_id  correct\n",
       "session_level question                     \n",
       "0             1                  3        3\n",
       "              2                  3        3\n",
       "              3                  3        3\n",
       "1             10                 3        3\n",
       "              11                 3        3\n",
       "              12                 3        3\n",
       "              13                 3        3\n",
       "              4                  3        3\n",
       "              5                  3        3\n",
       "              6                  3        3\n",
       "              7                  3        3\n",
       "              8                  3        3\n",
       "              9                  3        3\n",
       "2             14                 3        3\n",
       "              15                 3        3\n",
       "              16                 3        3\n",
       "              17                 3        3\n",
       "              18                 3        3"
      ]
     },
     "execution_count": 40,
     "metadata": {},
     "output_type": "execute_result"
    }
   ],
   "source": [
    "#Check which session_level proper for each question for training label?\n",
    "df_submission.groupby(['session_level', 'question']).count().sort_values(['session_level', 'question'])\n",
    "# Result is "
   ]
  },
  {
   "cell_type": "code",
   "execution_count": 48,
   "metadata": {},
   "outputs": [],
   "source": [
    "# Change data from quanlitative to quantitative by use dummies\n",
    "just_dummies = pd.get_dummies(df_train['event_name'])\n"
   ]
  },
  {
   "cell_type": "code",
   "execution_count": 54,
   "metadata": {},
   "outputs": [
    {
     "data": {
      "text/html": [
       "<div>\n",
       "<style scoped>\n",
       "    .dataframe tbody tr th:only-of-type {\n",
       "        vertical-align: middle;\n",
       "    }\n",
       "\n",
       "    .dataframe tbody tr th {\n",
       "        vertical-align: top;\n",
       "    }\n",
       "\n",
       "    .dataframe thead th {\n",
       "        text-align: right;\n",
       "    }\n",
       "</style>\n",
       "<table border=\"1\" class=\"dataframe\">\n",
       "  <thead>\n",
       "    <tr style=\"text-align: right;\">\n",
       "      <th></th>\n",
       "      <th>checkpoint</th>\n",
       "      <th>cutscene_click</th>\n",
       "      <th>map_click</th>\n",
       "      <th>map_hover</th>\n",
       "      <th>navigate_click</th>\n",
       "      <th>notebook_click</th>\n",
       "      <th>notification_click</th>\n",
       "      <th>object_click</th>\n",
       "      <th>object_hover</th>\n",
       "      <th>observation_click</th>\n",
       "      <th>person_click</th>\n",
       "    </tr>\n",
       "  </thead>\n",
       "  <tbody>\n",
       "    <tr>\n",
       "      <th>26296941</th>\n",
       "      <td>False</td>\n",
       "      <td>False</td>\n",
       "      <td>False</td>\n",
       "      <td>False</td>\n",
       "      <td>True</td>\n",
       "      <td>False</td>\n",
       "      <td>False</td>\n",
       "      <td>False</td>\n",
       "      <td>False</td>\n",
       "      <td>False</td>\n",
       "      <td>False</td>\n",
       "    </tr>\n",
       "    <tr>\n",
       "      <th>26296942</th>\n",
       "      <td>False</td>\n",
       "      <td>False</td>\n",
       "      <td>False</td>\n",
       "      <td>False</td>\n",
       "      <td>True</td>\n",
       "      <td>False</td>\n",
       "      <td>False</td>\n",
       "      <td>False</td>\n",
       "      <td>False</td>\n",
       "      <td>False</td>\n",
       "      <td>False</td>\n",
       "    </tr>\n",
       "    <tr>\n",
       "      <th>26296943</th>\n",
       "      <td>False</td>\n",
       "      <td>False</td>\n",
       "      <td>False</td>\n",
       "      <td>False</td>\n",
       "      <td>True</td>\n",
       "      <td>False</td>\n",
       "      <td>False</td>\n",
       "      <td>False</td>\n",
       "      <td>False</td>\n",
       "      <td>False</td>\n",
       "      <td>False</td>\n",
       "    </tr>\n",
       "    <tr>\n",
       "      <th>26296944</th>\n",
       "      <td>False</td>\n",
       "      <td>False</td>\n",
       "      <td>False</td>\n",
       "      <td>False</td>\n",
       "      <td>True</td>\n",
       "      <td>False</td>\n",
       "      <td>False</td>\n",
       "      <td>False</td>\n",
       "      <td>False</td>\n",
       "      <td>False</td>\n",
       "      <td>False</td>\n",
       "    </tr>\n",
       "    <tr>\n",
       "      <th>26296945</th>\n",
       "      <td>True</td>\n",
       "      <td>False</td>\n",
       "      <td>False</td>\n",
       "      <td>False</td>\n",
       "      <td>False</td>\n",
       "      <td>False</td>\n",
       "      <td>False</td>\n",
       "      <td>False</td>\n",
       "      <td>False</td>\n",
       "      <td>False</td>\n",
       "      <td>False</td>\n",
       "    </tr>\n",
       "  </tbody>\n",
       "</table>\n",
       "</div>"
      ],
      "text/plain": [
       "          checkpoint          cutscene_click      map_click            \n",
       "26296941               False               False               False  \\\n",
       "26296942               False               False               False   \n",
       "26296943               False               False               False   \n",
       "26296944               False               False               False   \n",
       "26296945                True               False               False   \n",
       "\n",
       "          map_hover           navigate_click      notebook_click       \n",
       "26296941               False                True               False  \\\n",
       "26296942               False                True               False   \n",
       "26296943               False                True               False   \n",
       "26296944               False                True               False   \n",
       "26296945               False               False               False   \n",
       "\n",
       "          notification_click  object_click        object_hover         \n",
       "26296941               False               False               False  \\\n",
       "26296942               False               False               False   \n",
       "26296943               False               False               False   \n",
       "26296944               False               False               False   \n",
       "26296945               False               False               False   \n",
       "\n",
       "          observation_click   person_click        \n",
       "26296941               False               False  \n",
       "26296942               False               False  \n",
       "26296943               False               False  \n",
       "26296944               False               False  \n",
       "26296945               False               False  "
      ]
     },
     "execution_count": 54,
     "metadata": {},
     "output_type": "execute_result"
    }
   ],
   "source": [
    "just_dummies.tail()"
   ]
  },
  {
   "cell_type": "code",
   "execution_count": 55,
   "metadata": {},
   "outputs": [
    {
     "name": "stdout",
     "output_type": "stream",
     "text": [
      "<class 'pandas.core.frame.DataFrame'>\n",
      "RangeIndex: 26296946 entries, 0 to 26296945\n",
      "Data columns (total 11 columns):\n",
      " #   Column              Dtype\n",
      "---  ------              -----\n",
      " 0   checkpoint          bool \n",
      " 1   cutscene_click      bool \n",
      " 2   map_click           bool \n",
      " 3   map_hover           bool \n",
      " 4   navigate_click      bool \n",
      " 5   notebook_click      bool \n",
      " 6   notification_click  bool \n",
      " 7   object_click        bool \n",
      " 8   object_hover        bool \n",
      " 9   observation_click   bool \n",
      " 10  person_click        bool \n",
      "dtypes: bool(11)\n",
      "memory usage: 275.9 MB\n"
     ]
    }
   ],
   "source": [
    "just_dummies.info()"
   ]
  },
  {
   "cell_type": "code",
   "execution_count": 50,
   "metadata": {},
   "outputs": [],
   "source": [
    "df_train = pd.concat([df_train, just_dummies], axis=1) # set axis = 1 for concat in columns"
   ]
  },
  {
   "cell_type": "code",
   "execution_count": 51,
   "metadata": {},
   "outputs": [
    {
     "data": {
      "text/html": [
       "<div>\n",
       "<style scoped>\n",
       "    .dataframe tbody tr th:only-of-type {\n",
       "        vertical-align: middle;\n",
       "    }\n",
       "\n",
       "    .dataframe tbody tr th {\n",
       "        vertical-align: top;\n",
       "    }\n",
       "\n",
       "    .dataframe thead th {\n",
       "        text-align: right;\n",
       "    }\n",
       "</style>\n",
       "<table border=\"1\" class=\"dataframe\">\n",
       "  <thead>\n",
       "    <tr style=\"text-align: right;\">\n",
       "      <th></th>\n",
       "      <th>session_id</th>\n",
       "      <th>index</th>\n",
       "      <th>elapsed_time</th>\n",
       "      <th>event_name</th>\n",
       "      <th>name</th>\n",
       "      <th>level</th>\n",
       "      <th>page</th>\n",
       "      <th>room_coor_x</th>\n",
       "      <th>room_coor_y</th>\n",
       "      <th>screen_coor_x</th>\n",
       "      <th>...</th>\n",
       "      <th>cutscene_click</th>\n",
       "      <th>map_click</th>\n",
       "      <th>map_hover</th>\n",
       "      <th>navigate_click</th>\n",
       "      <th>notebook_click</th>\n",
       "      <th>notification_click</th>\n",
       "      <th>object_click</th>\n",
       "      <th>object_hover</th>\n",
       "      <th>observation_click</th>\n",
       "      <th>person_click</th>\n",
       "    </tr>\n",
       "  </thead>\n",
       "  <tbody>\n",
       "    <tr>\n",
       "      <th>0</th>\n",
       "      <td>20090312431273200</td>\n",
       "      <td>0</td>\n",
       "      <td>0</td>\n",
       "      <td>cutscene_click</td>\n",
       "      <td>basic</td>\n",
       "      <td>0</td>\n",
       "      <td>&lt;NA&gt;</td>\n",
       "      <td>-413.991405</td>\n",
       "      <td>-159.314686</td>\n",
       "      <td>380.0</td>\n",
       "      <td>...</td>\n",
       "      <td>True</td>\n",
       "      <td>False</td>\n",
       "      <td>False</td>\n",
       "      <td>False</td>\n",
       "      <td>False</td>\n",
       "      <td>False</td>\n",
       "      <td>False</td>\n",
       "      <td>False</td>\n",
       "      <td>False</td>\n",
       "      <td>False</td>\n",
       "    </tr>\n",
       "    <tr>\n",
       "      <th>1</th>\n",
       "      <td>20090312431273200</td>\n",
       "      <td>1</td>\n",
       "      <td>1323</td>\n",
       "      <td>person_click</td>\n",
       "      <td>basic</td>\n",
       "      <td>0</td>\n",
       "      <td>&lt;NA&gt;</td>\n",
       "      <td>-413.991405</td>\n",
       "      <td>-159.314686</td>\n",
       "      <td>380.0</td>\n",
       "      <td>...</td>\n",
       "      <td>False</td>\n",
       "      <td>False</td>\n",
       "      <td>False</td>\n",
       "      <td>False</td>\n",
       "      <td>False</td>\n",
       "      <td>False</td>\n",
       "      <td>False</td>\n",
       "      <td>False</td>\n",
       "      <td>False</td>\n",
       "      <td>True</td>\n",
       "    </tr>\n",
       "    <tr>\n",
       "      <th>2</th>\n",
       "      <td>20090312431273200</td>\n",
       "      <td>2</td>\n",
       "      <td>831</td>\n",
       "      <td>person_click</td>\n",
       "      <td>basic</td>\n",
       "      <td>0</td>\n",
       "      <td>&lt;NA&gt;</td>\n",
       "      <td>-413.991405</td>\n",
       "      <td>-159.314686</td>\n",
       "      <td>380.0</td>\n",
       "      <td>...</td>\n",
       "      <td>False</td>\n",
       "      <td>False</td>\n",
       "      <td>False</td>\n",
       "      <td>False</td>\n",
       "      <td>False</td>\n",
       "      <td>False</td>\n",
       "      <td>False</td>\n",
       "      <td>False</td>\n",
       "      <td>False</td>\n",
       "      <td>True</td>\n",
       "    </tr>\n",
       "    <tr>\n",
       "      <th>3</th>\n",
       "      <td>20090312431273200</td>\n",
       "      <td>3</td>\n",
       "      <td>1147</td>\n",
       "      <td>person_click</td>\n",
       "      <td>basic</td>\n",
       "      <td>0</td>\n",
       "      <td>&lt;NA&gt;</td>\n",
       "      <td>-413.991405</td>\n",
       "      <td>-159.314686</td>\n",
       "      <td>380.0</td>\n",
       "      <td>...</td>\n",
       "      <td>False</td>\n",
       "      <td>False</td>\n",
       "      <td>False</td>\n",
       "      <td>False</td>\n",
       "      <td>False</td>\n",
       "      <td>False</td>\n",
       "      <td>False</td>\n",
       "      <td>False</td>\n",
       "      <td>False</td>\n",
       "      <td>True</td>\n",
       "    </tr>\n",
       "    <tr>\n",
       "      <th>4</th>\n",
       "      <td>20090312431273200</td>\n",
       "      <td>4</td>\n",
       "      <td>1863</td>\n",
       "      <td>person_click</td>\n",
       "      <td>basic</td>\n",
       "      <td>0</td>\n",
       "      <td>&lt;NA&gt;</td>\n",
       "      <td>-412.991405</td>\n",
       "      <td>-159.314686</td>\n",
       "      <td>381.0</td>\n",
       "      <td>...</td>\n",
       "      <td>False</td>\n",
       "      <td>False</td>\n",
       "      <td>False</td>\n",
       "      <td>False</td>\n",
       "      <td>False</td>\n",
       "      <td>False</td>\n",
       "      <td>False</td>\n",
       "      <td>False</td>\n",
       "      <td>False</td>\n",
       "      <td>True</td>\n",
       "    </tr>\n",
       "  </tbody>\n",
       "</table>\n",
       "<p>5 rows × 31 columns</p>\n",
       "</div>"
      ],
      "text/plain": [
       "          session_id  index  elapsed_time      event_name   name  level  page   \n",
       "0  20090312431273200      0             0  cutscene_click  basic      0  <NA>  \\\n",
       "1  20090312431273200      1          1323    person_click  basic      0  <NA>   \n",
       "2  20090312431273200      2           831    person_click  basic      0  <NA>   \n",
       "3  20090312431273200      3          1147    person_click  basic      0  <NA>   \n",
       "4  20090312431273200      4          1863    person_click  basic      0  <NA>   \n",
       "\n",
       "   room_coor_x  room_coor_y  screen_coor_x  ...  cutscene_click  map_click   \n",
       "0  -413.991405  -159.314686          380.0  ...            True      False  \\\n",
       "1  -413.991405  -159.314686          380.0  ...           False      False   \n",
       "2  -413.991405  -159.314686          380.0  ...           False      False   \n",
       "3  -413.991405  -159.314686          380.0  ...           False      False   \n",
       "4  -412.991405  -159.314686          381.0  ...           False      False   \n",
       "\n",
       "  map_hover navigate_click notebook_click notification_click  object_click   \n",
       "0     False          False          False              False         False  \\\n",
       "1     False          False          False              False         False   \n",
       "2     False          False          False              False         False   \n",
       "3     False          False          False              False         False   \n",
       "4     False          False          False              False         False   \n",
       "\n",
       "   object_hover  observation_click person_click  \n",
       "0         False              False        False  \n",
       "1         False              False         True  \n",
       "2         False              False         True  \n",
       "3         False              False         True  \n",
       "4         False              False         True  \n",
       "\n",
       "[5 rows x 31 columns]"
      ]
     },
     "execution_count": 51,
     "metadata": {},
     "output_type": "execute_result"
    }
   ],
   "source": [
    "df_train.head()"
   ]
  },
  {
   "cell_type": "code",
   "execution_count": 53,
   "metadata": {},
   "outputs": [
    {
     "data": {
      "text/plain": [
       "event_name\n",
       "navigate_click        11326433\n",
       "person_click           6052853\n",
       "cutscene_click         2703035\n",
       "object_click           2198211\n",
       "object_hover           1057085\n",
       "map_hover               945159\n",
       "notification_click      649001\n",
       "notebook_click          564544\n",
       "map_click               517242\n",
       "observation_click       212355\n",
       "checkpoint               71028\n",
       "Name: count, dtype: int64[pyarrow]"
      ]
     },
     "execution_count": 53,
     "metadata": {},
     "output_type": "execute_result"
    }
   ],
   "source": [
    "df_train.event_name.value_counts()"
   ]
  },
  {
   "cell_type": "code",
   "execution_count": 204,
   "metadata": {},
   "outputs": [],
   "source": [
    "df_train_labels['question_num'] = df_train_labels.session_id.apply(lambda x: int(x.split('_')[-1][1:]))\n",
    "df_train_labels['session'] = df_train_labels.session_id.apply(lambda x: int(x.split('_')[0]))"
   ]
  },
  {
   "cell_type": "code",
   "execution_count": 207,
   "metadata": {},
   "outputs": [
    {
     "data": {
      "text/html": [
       "<div>\n",
       "<style scoped>\n",
       "    .dataframe tbody tr th:only-of-type {\n",
       "        vertical-align: middle;\n",
       "    }\n",
       "\n",
       "    .dataframe tbody tr th {\n",
       "        vertical-align: top;\n",
       "    }\n",
       "\n",
       "    .dataframe thead th {\n",
       "        text-align: right;\n",
       "    }\n",
       "</style>\n",
       "<table border=\"1\" class=\"dataframe\">\n",
       "  <thead>\n",
       "    <tr style=\"text-align: right;\">\n",
       "      <th></th>\n",
       "      <th>session_id</th>\n",
       "      <th>correct</th>\n",
       "      <th>question_num</th>\n",
       "      <th>session</th>\n",
       "    </tr>\n",
       "  </thead>\n",
       "  <tbody>\n",
       "    <tr>\n",
       "      <th>0</th>\n",
       "      <td>20090312431273200_q1</td>\n",
       "      <td>1</td>\n",
       "      <td>1</td>\n",
       "      <td>20090312431273200</td>\n",
       "    </tr>\n",
       "    <tr>\n",
       "      <th>1</th>\n",
       "      <td>20090312433251036_q1</td>\n",
       "      <td>0</td>\n",
       "      <td>1</td>\n",
       "      <td>20090312433251036</td>\n",
       "    </tr>\n",
       "    <tr>\n",
       "      <th>2</th>\n",
       "      <td>20090312455206810_q1</td>\n",
       "      <td>1</td>\n",
       "      <td>1</td>\n",
       "      <td>20090312455206810</td>\n",
       "    </tr>\n",
       "    <tr>\n",
       "      <th>3</th>\n",
       "      <td>20090313091715820_q1</td>\n",
       "      <td>0</td>\n",
       "      <td>1</td>\n",
       "      <td>20090313091715820</td>\n",
       "    </tr>\n",
       "    <tr>\n",
       "      <th>4</th>\n",
       "      <td>20090313571836404_q1</td>\n",
       "      <td>1</td>\n",
       "      <td>1</td>\n",
       "      <td>20090313571836404</td>\n",
       "    </tr>\n",
       "  </tbody>\n",
       "</table>\n",
       "</div>"
      ],
      "text/plain": [
       "             session_id  correct  question_num            session\n",
       "0  20090312431273200_q1        1             1  20090312431273200\n",
       "1  20090312433251036_q1        0             1  20090312433251036\n",
       "2  20090312455206810_q1        1             1  20090312455206810\n",
       "3  20090313091715820_q1        0             1  20090313091715820\n",
       "4  20090313571836404_q1        1             1  20090313571836404"
      ]
     },
     "execution_count": 207,
     "metadata": {},
     "output_type": "execute_result"
    }
   ],
   "source": [
    "df_train_labels.head()"
   ]
  },
  {
   "cell_type": "code",
   "execution_count": 71,
   "metadata": {},
   "outputs": [
    {
     "data": {
      "text/plain": [
       "0"
      ]
     },
     "execution_count": 71,
     "metadata": {},
     "output_type": "execute_result"
    }
   ],
   "source": [
    "import gc\n",
    "gc.collect()"
   ]
  },
  {
   "cell_type": "code",
   "execution_count": 124,
   "metadata": {},
   "outputs": [],
   "source": [
    "# Set columns for feature engineer\n",
    "count_var = ['event_name', 'fqid', 'room_fqid', 'text']\n",
    "mean_var = ['elapsed_time', 'level']\n",
    "event_var = ['navigate_click', 'person_click', 'cutscene_click', 'object_click', 'map_hover'\n",
    ", 'notification_click', 'map_click', 'observation_click', 'checkpoint', 'elapsed_time']"
   ]
  },
  {
   "cell_type": "code",
   "execution_count": 134,
   "metadata": {},
   "outputs": [],
   "source": [
    "# Aggregate feature engineer in session_id and level_group level\n",
    "def feature_engineer(train):\n",
    "    dfs = []\n",
    "    for c in count_var:\n",
    "        tmp = train.groupby(['session_id', 'level_group'])[c].agg('nunique')\n",
    "        tmp.name = tmp.name + '_nunique'\n",
    "        dfs.append(tmp)\n",
    "    for c in mean_var:\n",
    "        tmp = train.groupby(['session_id', 'level_group'])[c].agg('mean')\n",
    "        tmp.name = 'avg_' + tmp.name\n",
    "        dfs.append(tmp)\n",
    "    for c in event_var:\n",
    "        tmp = train.groupby(['session_id', 'level_group'])[c].agg('sum')\n",
    "        tmp.name = 'sum_' + tmp.name\n",
    "        dfs.append(tmp)\n",
    "    df = pd.concat(dfs, axis=1)\n",
    "    df = df.fillna(-1) # fill na with -1 \n",
    "    df = df.reset_index()\n",
    "    df = df.set_index('session_id')\n",
    "    return df\n",
    "    "
   ]
  },
  {
   "cell_type": "code",
   "execution_count": 163,
   "metadata": {},
   "outputs": [],
   "source": [
    "# Dataframe in level session_id & level_group\n",
    "df_tr = feature_engineer(df_train)"
   ]
  },
  {
   "cell_type": "code",
   "execution_count": 165,
   "metadata": {},
   "outputs": [
    {
     "data": {
      "text/plain": [
       "level_group               string[pyarrow]\n",
       "event_name_nunique                  int64\n",
       "fqid_nunique                        int64\n",
       "room_fqid_nunique                   int64\n",
       "text_nunique                        int64\n",
       "avg_elapsed_time                  float64\n",
       "avg_level                         float64\n",
       "sum_navigate_click                  int64\n",
       "sum_person_click                    int64\n",
       "sum_cutscene_click                  int64\n",
       "sum_object_click                    int64\n",
       "sum_map_hover                       int64\n",
       "sum_notification_click              int64\n",
       "sum_map_click                       int64\n",
       "sum_observation_click               int64\n",
       "sum_checkpoint                      int64\n",
       "sum_elapsed_time           int64[pyarrow]\n",
       "dtype: object"
      ]
     },
     "execution_count": 165,
     "metadata": {},
     "output_type": "execute_result"
    }
   ],
   "source": [
    "df_tr.dtypes"
   ]
  },
  {
   "cell_type": "code",
   "execution_count": 259,
   "metadata": {},
   "outputs": [],
   "source": [
    "FEATURES = [c for c in df_tr.columns if c != 'level_group']\n",
    "ALL_USERS = df_tr.index.unique()"
   ]
  },
  {
   "cell_type": "code",
   "execution_count": 177,
   "metadata": {},
   "outputs": [],
   "source": [
    "# Group k Fold split data\n",
    "from sklearn.model_selection import KFold, GroupKFold\n",
    "import numpy as np\n",
    "gkf = GroupKFold(n_splits=5)\n",
    "oof = pd.DataFrame(data=np.zeros((len(ALL_USERS), 18)), index=ALL_USERS) # set all users to 18 columns as each question & set index to session_id\n",
    "model = {}"
   ]
  },
  {
   "cell_type": "code",
   "execution_count": 359,
   "metadata": {},
   "outputs": [
    {
     "data": {
      "text/html": [
       "<div>\n",
       "<style scoped>\n",
       "    .dataframe tbody tr th:only-of-type {\n",
       "        vertical-align: middle;\n",
       "    }\n",
       "\n",
       "    .dataframe tbody tr th {\n",
       "        vertical-align: top;\n",
       "    }\n",
       "\n",
       "    .dataframe thead th {\n",
       "        text-align: right;\n",
       "    }\n",
       "</style>\n",
       "<table border=\"1\" class=\"dataframe\">\n",
       "  <thead>\n",
       "    <tr style=\"text-align: right;\">\n",
       "      <th></th>\n",
       "      <th>0</th>\n",
       "      <th>1</th>\n",
       "      <th>2</th>\n",
       "      <th>3</th>\n",
       "      <th>4</th>\n",
       "      <th>5</th>\n",
       "      <th>6</th>\n",
       "      <th>7</th>\n",
       "      <th>8</th>\n",
       "      <th>9</th>\n",
       "      <th>10</th>\n",
       "      <th>11</th>\n",
       "      <th>12</th>\n",
       "      <th>13</th>\n",
       "      <th>14</th>\n",
       "      <th>15</th>\n",
       "      <th>16</th>\n",
       "      <th>17</th>\n",
       "    </tr>\n",
       "    <tr>\n",
       "      <th>session_id</th>\n",
       "      <th></th>\n",
       "      <th></th>\n",
       "      <th></th>\n",
       "      <th></th>\n",
       "      <th></th>\n",
       "      <th></th>\n",
       "      <th></th>\n",
       "      <th></th>\n",
       "      <th></th>\n",
       "      <th></th>\n",
       "      <th></th>\n",
       "      <th></th>\n",
       "      <th></th>\n",
       "      <th></th>\n",
       "      <th></th>\n",
       "      <th></th>\n",
       "      <th></th>\n",
       "      <th></th>\n",
       "    </tr>\n",
       "  </thead>\n",
       "  <tbody>\n",
       "    <tr>\n",
       "      <th>20090312431273200</th>\n",
       "      <td>0.856363</td>\n",
       "      <td>1.000000</td>\n",
       "      <td>0.998481</td>\n",
       "      <td>0.599081</td>\n",
       "      <td>0.498420</td>\n",
       "      <td>0.923496</td>\n",
       "      <td>0.780814</td>\n",
       "      <td>0.706584</td>\n",
       "      <td>0.638757</td>\n",
       "      <td>0.622129</td>\n",
       "      <td>0.585921</td>\n",
       "      <td>0.926489</td>\n",
       "      <td>0.143763</td>\n",
       "      <td>0.897593</td>\n",
       "      <td>0.865260</td>\n",
       "      <td>0.716361</td>\n",
       "      <td>0.705752</td>\n",
       "      <td>0.999964</td>\n",
       "    </tr>\n",
       "    <tr>\n",
       "      <th>20090312433251036</th>\n",
       "      <td>0.542200</td>\n",
       "      <td>1.000000</td>\n",
       "      <td>0.987906</td>\n",
       "      <td>0.908144</td>\n",
       "      <td>0.524196</td>\n",
       "      <td>0.445232</td>\n",
       "      <td>0.940788</td>\n",
       "      <td>0.526653</td>\n",
       "      <td>0.836350</td>\n",
       "      <td>0.291518</td>\n",
       "      <td>0.431559</td>\n",
       "      <td>0.743748</td>\n",
       "      <td>0.123166</td>\n",
       "      <td>0.339676</td>\n",
       "      <td>0.003500</td>\n",
       "      <td>0.942707</td>\n",
       "      <td>0.987811</td>\n",
       "      <td>0.964520</td>\n",
       "    </tr>\n",
       "    <tr>\n",
       "      <th>20090312455206810</th>\n",
       "      <td>0.976383</td>\n",
       "      <td>0.999999</td>\n",
       "      <td>0.999708</td>\n",
       "      <td>0.834740</td>\n",
       "      <td>0.647986</td>\n",
       "      <td>0.842149</td>\n",
       "      <td>0.650827</td>\n",
       "      <td>0.698460</td>\n",
       "      <td>0.594410</td>\n",
       "      <td>0.637564</td>\n",
       "      <td>0.842350</td>\n",
       "      <td>0.936113</td>\n",
       "      <td>0.405808</td>\n",
       "      <td>0.959774</td>\n",
       "      <td>0.380843</td>\n",
       "      <td>0.963313</td>\n",
       "      <td>0.874374</td>\n",
       "      <td>0.990667</td>\n",
       "    </tr>\n",
       "    <tr>\n",
       "      <th>20090313091715820</th>\n",
       "      <td>0.683075</td>\n",
       "      <td>0.999985</td>\n",
       "      <td>0.959766</td>\n",
       "      <td>0.698695</td>\n",
       "      <td>0.607477</td>\n",
       "      <td>0.878247</td>\n",
       "      <td>0.735638</td>\n",
       "      <td>0.704031</td>\n",
       "      <td>0.730829</td>\n",
       "      <td>0.640122</td>\n",
       "      <td>0.810956</td>\n",
       "      <td>0.854436</td>\n",
       "      <td>0.135121</td>\n",
       "      <td>0.732176</td>\n",
       "      <td>0.585700</td>\n",
       "      <td>0.736346</td>\n",
       "      <td>0.719986</td>\n",
       "      <td>0.998164</td>\n",
       "    </tr>\n",
       "    <tr>\n",
       "      <th>20090313571836404</th>\n",
       "      <td>0.752158</td>\n",
       "      <td>1.000000</td>\n",
       "      <td>0.999732</td>\n",
       "      <td>0.989430</td>\n",
       "      <td>0.781682</td>\n",
       "      <td>0.912047</td>\n",
       "      <td>0.946745</td>\n",
       "      <td>0.946831</td>\n",
       "      <td>0.993436</td>\n",
       "      <td>0.750250</td>\n",
       "      <td>0.782356</td>\n",
       "      <td>0.996499</td>\n",
       "      <td>0.735896</td>\n",
       "      <td>0.710783</td>\n",
       "      <td>0.559040</td>\n",
       "      <td>0.769840</td>\n",
       "      <td>0.851114</td>\n",
       "      <td>0.999926</td>\n",
       "    </tr>\n",
       "  </tbody>\n",
       "</table>\n",
       "</div>"
      ],
      "text/plain": [
       "                         0         1         2         3         4         5    \n",
       "session_id                                                                      \n",
       "20090312431273200  0.856363  1.000000  0.998481  0.599081  0.498420  0.923496  \\\n",
       "20090312433251036  0.542200  1.000000  0.987906  0.908144  0.524196  0.445232   \n",
       "20090312455206810  0.976383  0.999999  0.999708  0.834740  0.647986  0.842149   \n",
       "20090313091715820  0.683075  0.999985  0.959766  0.698695  0.607477  0.878247   \n",
       "20090313571836404  0.752158  1.000000  0.999732  0.989430  0.781682  0.912047   \n",
       "\n",
       "                         6         7         8         9         10        11   \n",
       "session_id                                                                      \n",
       "20090312431273200  0.780814  0.706584  0.638757  0.622129  0.585921  0.926489  \\\n",
       "20090312433251036  0.940788  0.526653  0.836350  0.291518  0.431559  0.743748   \n",
       "20090312455206810  0.650827  0.698460  0.594410  0.637564  0.842350  0.936113   \n",
       "20090313091715820  0.735638  0.704031  0.730829  0.640122  0.810956  0.854436   \n",
       "20090313571836404  0.946745  0.946831  0.993436  0.750250  0.782356  0.996499   \n",
       "\n",
       "                         12        13        14        15        16        17  \n",
       "session_id                                                                     \n",
       "20090312431273200  0.143763  0.897593  0.865260  0.716361  0.705752  0.999964  \n",
       "20090312433251036  0.123166  0.339676  0.003500  0.942707  0.987811  0.964520  \n",
       "20090312455206810  0.405808  0.959774  0.380843  0.963313  0.874374  0.990667  \n",
       "20090313091715820  0.135121  0.732176  0.585700  0.736346  0.719986  0.998164  \n",
       "20090313571836404  0.735896  0.710783  0.559040  0.769840  0.851114  0.999926  "
      ]
     },
     "execution_count": 359,
     "metadata": {},
     "output_type": "execute_result"
    }
   ],
   "source": [
    "oof.head()"
   ]
  },
  {
   "cell_type": "code",
   "execution_count": 258,
   "metadata": {},
   "outputs": [],
   "source": [
    "from lightgbm import LGBMClassifier"
   ]
  },
  {
   "cell_type": "code",
   "execution_count": 272,
   "metadata": {},
   "outputs": [
    {
     "name": "stdout",
     "output_type": "stream",
     "text": [
      "-------------------------\n",
      "--- Fold 1\n",
      "-------------------------\n",
      "1 , [LightGBM] [Warning] Unknown parameter: learning\n"
     ]
    },
    {
     "name": "stderr",
     "output_type": "stream",
     "text": [
      "/usr/local/lib/python3.9/site-packages/lightgbm/engine.py:177: UserWarning: Found `num_iterations` in params. Will use it instead of argument\n",
      "  _log_warning(f\"Found `{alias}` in params. Will use it instead of argument\")\n"
     ]
    },
    {
     "name": "stdout",
     "output_type": "stream",
     "text": [
      "2 , [LightGBM] [Warning] Unknown parameter: learning\n"
     ]
    },
    {
     "name": "stderr",
     "output_type": "stream",
     "text": [
      "/usr/local/lib/python3.9/site-packages/lightgbm/engine.py:177: UserWarning: Found `num_iterations` in params. Will use it instead of argument\n",
      "  _log_warning(f\"Found `{alias}` in params. Will use it instead of argument\")\n"
     ]
    },
    {
     "name": "stdout",
     "output_type": "stream",
     "text": [
      "3 , [LightGBM] [Warning] Unknown parameter: learning\n"
     ]
    },
    {
     "name": "stderr",
     "output_type": "stream",
     "text": [
      "/usr/local/lib/python3.9/site-packages/lightgbm/engine.py:177: UserWarning: Found `num_iterations` in params. Will use it instead of argument\n",
      "  _log_warning(f\"Found `{alias}` in params. Will use it instead of argument\")\n"
     ]
    },
    {
     "name": "stdout",
     "output_type": "stream",
     "text": [
      "4 , [LightGBM] [Warning] Unknown parameter: learning\n"
     ]
    },
    {
     "name": "stderr",
     "output_type": "stream",
     "text": [
      "/usr/local/lib/python3.9/site-packages/lightgbm/engine.py:177: UserWarning: Found `num_iterations` in params. Will use it instead of argument\n",
      "  _log_warning(f\"Found `{alias}` in params. Will use it instead of argument\")\n"
     ]
    },
    {
     "name": "stdout",
     "output_type": "stream",
     "text": [
      "5 , [LightGBM] [Warning] Unknown parameter: learning\n"
     ]
    },
    {
     "name": "stderr",
     "output_type": "stream",
     "text": [
      "/usr/local/lib/python3.9/site-packages/lightgbm/engine.py:177: UserWarning: Found `num_iterations` in params. Will use it instead of argument\n",
      "  _log_warning(f\"Found `{alias}` in params. Will use it instead of argument\")\n"
     ]
    },
    {
     "name": "stdout",
     "output_type": "stream",
     "text": [
      "6 , [LightGBM] [Warning] Unknown parameter: learning\n"
     ]
    },
    {
     "name": "stderr",
     "output_type": "stream",
     "text": [
      "/usr/local/lib/python3.9/site-packages/lightgbm/engine.py:177: UserWarning: Found `num_iterations` in params. Will use it instead of argument\n",
      "  _log_warning(f\"Found `{alias}` in params. Will use it instead of argument\")\n"
     ]
    },
    {
     "name": "stdout",
     "output_type": "stream",
     "text": [
      "7 , [LightGBM] [Warning] Unknown parameter: learning\n"
     ]
    },
    {
     "name": "stderr",
     "output_type": "stream",
     "text": [
      "/usr/local/lib/python3.9/site-packages/lightgbm/engine.py:177: UserWarning: Found `num_iterations` in params. Will use it instead of argument\n",
      "  _log_warning(f\"Found `{alias}` in params. Will use it instead of argument\")\n"
     ]
    },
    {
     "name": "stdout",
     "output_type": "stream",
     "text": [
      "8 , [LightGBM] [Warning] Unknown parameter: learning\n"
     ]
    },
    {
     "name": "stderr",
     "output_type": "stream",
     "text": [
      "/usr/local/lib/python3.9/site-packages/lightgbm/engine.py:177: UserWarning: Found `num_iterations` in params. Will use it instead of argument\n",
      "  _log_warning(f\"Found `{alias}` in params. Will use it instead of argument\")\n"
     ]
    },
    {
     "name": "stdout",
     "output_type": "stream",
     "text": [
      "9 , [LightGBM] [Warning] Unknown parameter: learning\n"
     ]
    },
    {
     "name": "stderr",
     "output_type": "stream",
     "text": [
      "/usr/local/lib/python3.9/site-packages/lightgbm/engine.py:177: UserWarning: Found `num_iterations` in params. Will use it instead of argument\n",
      "  _log_warning(f\"Found `{alias}` in params. Will use it instead of argument\")\n"
     ]
    },
    {
     "name": "stdout",
     "output_type": "stream",
     "text": [
      "10 , [LightGBM] [Warning] Unknown parameter: learning\n"
     ]
    },
    {
     "name": "stderr",
     "output_type": "stream",
     "text": [
      "/usr/local/lib/python3.9/site-packages/lightgbm/engine.py:177: UserWarning: Found `num_iterations` in params. Will use it instead of argument\n",
      "  _log_warning(f\"Found `{alias}` in params. Will use it instead of argument\")\n"
     ]
    },
    {
     "name": "stdout",
     "output_type": "stream",
     "text": [
      "11 , [LightGBM] [Warning] Unknown parameter: learning\n"
     ]
    },
    {
     "name": "stderr",
     "output_type": "stream",
     "text": [
      "/usr/local/lib/python3.9/site-packages/lightgbm/engine.py:177: UserWarning: Found `num_iterations` in params. Will use it instead of argument\n",
      "  _log_warning(f\"Found `{alias}` in params. Will use it instead of argument\")\n"
     ]
    },
    {
     "name": "stdout",
     "output_type": "stream",
     "text": [
      "12 , [LightGBM] [Warning] Unknown parameter: learning\n"
     ]
    },
    {
     "name": "stderr",
     "output_type": "stream",
     "text": [
      "/usr/local/lib/python3.9/site-packages/lightgbm/engine.py:177: UserWarning: Found `num_iterations` in params. Will use it instead of argument\n",
      "  _log_warning(f\"Found `{alias}` in params. Will use it instead of argument\")\n"
     ]
    },
    {
     "name": "stdout",
     "output_type": "stream",
     "text": [
      "13 , [LightGBM] [Warning] Unknown parameter: learning\n"
     ]
    },
    {
     "name": "stderr",
     "output_type": "stream",
     "text": [
      "/usr/local/lib/python3.9/site-packages/lightgbm/engine.py:177: UserWarning: Found `num_iterations` in params. Will use it instead of argument\n",
      "  _log_warning(f\"Found `{alias}` in params. Will use it instead of argument\")\n"
     ]
    },
    {
     "name": "stdout",
     "output_type": "stream",
     "text": [
      "14 , [LightGBM] [Warning] Unknown parameter: learning\n"
     ]
    },
    {
     "name": "stderr",
     "output_type": "stream",
     "text": [
      "/usr/local/lib/python3.9/site-packages/lightgbm/engine.py:177: UserWarning: Found `num_iterations` in params. Will use it instead of argument\n",
      "  _log_warning(f\"Found `{alias}` in params. Will use it instead of argument\")\n"
     ]
    },
    {
     "name": "stdout",
     "output_type": "stream",
     "text": [
      "15 , [LightGBM] [Warning] Unknown parameter: learning\n"
     ]
    },
    {
     "name": "stderr",
     "output_type": "stream",
     "text": [
      "/usr/local/lib/python3.9/site-packages/lightgbm/engine.py:177: UserWarning: Found `num_iterations` in params. Will use it instead of argument\n",
      "  _log_warning(f\"Found `{alias}` in params. Will use it instead of argument\")\n"
     ]
    },
    {
     "name": "stdout",
     "output_type": "stream",
     "text": [
      "16 , [LightGBM] [Warning] Unknown parameter: learning\n"
     ]
    },
    {
     "name": "stderr",
     "output_type": "stream",
     "text": [
      "/usr/local/lib/python3.9/site-packages/lightgbm/engine.py:177: UserWarning: Found `num_iterations` in params. Will use it instead of argument\n",
      "  _log_warning(f\"Found `{alias}` in params. Will use it instead of argument\")\n"
     ]
    },
    {
     "name": "stdout",
     "output_type": "stream",
     "text": [
      "17 , [LightGBM] [Warning] Unknown parameter: learning\n"
     ]
    },
    {
     "name": "stderr",
     "output_type": "stream",
     "text": [
      "/usr/local/lib/python3.9/site-packages/lightgbm/engine.py:177: UserWarning: Found `num_iterations` in params. Will use it instead of argument\n",
      "  _log_warning(f\"Found `{alias}` in params. Will use it instead of argument\")\n"
     ]
    },
    {
     "name": "stdout",
     "output_type": "stream",
     "text": [
      "18 , [LightGBM] [Warning] Unknown parameter: learning\n"
     ]
    },
    {
     "name": "stderr",
     "output_type": "stream",
     "text": [
      "/usr/local/lib/python3.9/site-packages/lightgbm/engine.py:177: UserWarning: Found `num_iterations` in params. Will use it instead of argument\n",
      "  _log_warning(f\"Found `{alias}` in params. Will use it instead of argument\")\n"
     ]
    },
    {
     "name": "stdout",
     "output_type": "stream",
     "text": [
      "-------------------------\n",
      "--- Fold 2\n",
      "-------------------------\n",
      "1 , [LightGBM] [Warning] Unknown parameter: learning\n"
     ]
    },
    {
     "name": "stderr",
     "output_type": "stream",
     "text": [
      "/usr/local/lib/python3.9/site-packages/lightgbm/engine.py:177: UserWarning: Found `num_iterations` in params. Will use it instead of argument\n",
      "  _log_warning(f\"Found `{alias}` in params. Will use it instead of argument\")\n"
     ]
    },
    {
     "name": "stdout",
     "output_type": "stream",
     "text": [
      "2 , [LightGBM] [Warning] Unknown parameter: learning\n"
     ]
    },
    {
     "name": "stderr",
     "output_type": "stream",
     "text": [
      "/usr/local/lib/python3.9/site-packages/lightgbm/engine.py:177: UserWarning: Found `num_iterations` in params. Will use it instead of argument\n",
      "  _log_warning(f\"Found `{alias}` in params. Will use it instead of argument\")\n"
     ]
    },
    {
     "name": "stdout",
     "output_type": "stream",
     "text": [
      "3 , [LightGBM] [Warning] Unknown parameter: learning\n"
     ]
    },
    {
     "name": "stderr",
     "output_type": "stream",
     "text": [
      "/usr/local/lib/python3.9/site-packages/lightgbm/engine.py:177: UserWarning: Found `num_iterations` in params. Will use it instead of argument\n",
      "  _log_warning(f\"Found `{alias}` in params. Will use it instead of argument\")\n"
     ]
    },
    {
     "name": "stdout",
     "output_type": "stream",
     "text": [
      "4 , [LightGBM] [Warning] Unknown parameter: learning\n"
     ]
    },
    {
     "name": "stderr",
     "output_type": "stream",
     "text": [
      "/usr/local/lib/python3.9/site-packages/lightgbm/engine.py:177: UserWarning: Found `num_iterations` in params. Will use it instead of argument\n",
      "  _log_warning(f\"Found `{alias}` in params. Will use it instead of argument\")\n"
     ]
    },
    {
     "name": "stdout",
     "output_type": "stream",
     "text": [
      "5 , [LightGBM] [Warning] Unknown parameter: learning\n"
     ]
    },
    {
     "name": "stderr",
     "output_type": "stream",
     "text": [
      "/usr/local/lib/python3.9/site-packages/lightgbm/engine.py:177: UserWarning: Found `num_iterations` in params. Will use it instead of argument\n",
      "  _log_warning(f\"Found `{alias}` in params. Will use it instead of argument\")\n"
     ]
    },
    {
     "name": "stdout",
     "output_type": "stream",
     "text": [
      "6 , [LightGBM] [Warning] Unknown parameter: learning\n"
     ]
    },
    {
     "name": "stderr",
     "output_type": "stream",
     "text": [
      "/usr/local/lib/python3.9/site-packages/lightgbm/engine.py:177: UserWarning: Found `num_iterations` in params. Will use it instead of argument\n",
      "  _log_warning(f\"Found `{alias}` in params. Will use it instead of argument\")\n"
     ]
    },
    {
     "name": "stdout",
     "output_type": "stream",
     "text": [
      "7 , [LightGBM] [Warning] Unknown parameter: learning\n"
     ]
    },
    {
     "name": "stderr",
     "output_type": "stream",
     "text": [
      "/usr/local/lib/python3.9/site-packages/lightgbm/engine.py:177: UserWarning: Found `num_iterations` in params. Will use it instead of argument\n",
      "  _log_warning(f\"Found `{alias}` in params. Will use it instead of argument\")\n"
     ]
    },
    {
     "name": "stdout",
     "output_type": "stream",
     "text": [
      "8 , [LightGBM] [Warning] Unknown parameter: learning\n"
     ]
    },
    {
     "name": "stderr",
     "output_type": "stream",
     "text": [
      "/usr/local/lib/python3.9/site-packages/lightgbm/engine.py:177: UserWarning: Found `num_iterations` in params. Will use it instead of argument\n",
      "  _log_warning(f\"Found `{alias}` in params. Will use it instead of argument\")\n"
     ]
    },
    {
     "name": "stdout",
     "output_type": "stream",
     "text": [
      "9 , [LightGBM] [Warning] Unknown parameter: learning\n"
     ]
    },
    {
     "name": "stderr",
     "output_type": "stream",
     "text": [
      "/usr/local/lib/python3.9/site-packages/lightgbm/engine.py:177: UserWarning: Found `num_iterations` in params. Will use it instead of argument\n",
      "  _log_warning(f\"Found `{alias}` in params. Will use it instead of argument\")\n"
     ]
    },
    {
     "name": "stdout",
     "output_type": "stream",
     "text": [
      "10 , [LightGBM] [Warning] Unknown parameter: learning\n"
     ]
    },
    {
     "name": "stderr",
     "output_type": "stream",
     "text": [
      "/usr/local/lib/python3.9/site-packages/lightgbm/engine.py:177: UserWarning: Found `num_iterations` in params. Will use it instead of argument\n",
      "  _log_warning(f\"Found `{alias}` in params. Will use it instead of argument\")\n"
     ]
    },
    {
     "name": "stdout",
     "output_type": "stream",
     "text": [
      "11 , [LightGBM] [Warning] Unknown parameter: learning\n"
     ]
    },
    {
     "name": "stderr",
     "output_type": "stream",
     "text": [
      "/usr/local/lib/python3.9/site-packages/lightgbm/engine.py:177: UserWarning: Found `num_iterations` in params. Will use it instead of argument\n",
      "  _log_warning(f\"Found `{alias}` in params. Will use it instead of argument\")\n"
     ]
    },
    {
     "name": "stdout",
     "output_type": "stream",
     "text": [
      "12 , [LightGBM] [Warning] Unknown parameter: learning\n"
     ]
    },
    {
     "name": "stderr",
     "output_type": "stream",
     "text": [
      "/usr/local/lib/python3.9/site-packages/lightgbm/engine.py:177: UserWarning: Found `num_iterations` in params. Will use it instead of argument\n",
      "  _log_warning(f\"Found `{alias}` in params. Will use it instead of argument\")\n"
     ]
    },
    {
     "name": "stdout",
     "output_type": "stream",
     "text": [
      "13 , [LightGBM] [Warning] Unknown parameter: learning\n"
     ]
    },
    {
     "name": "stderr",
     "output_type": "stream",
     "text": [
      "/usr/local/lib/python3.9/site-packages/lightgbm/engine.py:177: UserWarning: Found `num_iterations` in params. Will use it instead of argument\n",
      "  _log_warning(f\"Found `{alias}` in params. Will use it instead of argument\")\n"
     ]
    },
    {
     "name": "stdout",
     "output_type": "stream",
     "text": [
      "14 , [LightGBM] [Warning] Unknown parameter: learning\n"
     ]
    },
    {
     "name": "stderr",
     "output_type": "stream",
     "text": [
      "/usr/local/lib/python3.9/site-packages/lightgbm/engine.py:177: UserWarning: Found `num_iterations` in params. Will use it instead of argument\n",
      "  _log_warning(f\"Found `{alias}` in params. Will use it instead of argument\")\n"
     ]
    },
    {
     "name": "stdout",
     "output_type": "stream",
     "text": [
      "15 , [LightGBM] [Warning] Unknown parameter: learning\n"
     ]
    },
    {
     "name": "stderr",
     "output_type": "stream",
     "text": [
      "/usr/local/lib/python3.9/site-packages/lightgbm/engine.py:177: UserWarning: Found `num_iterations` in params. Will use it instead of argument\n",
      "  _log_warning(f\"Found `{alias}` in params. Will use it instead of argument\")\n"
     ]
    },
    {
     "name": "stdout",
     "output_type": "stream",
     "text": [
      "16 , [LightGBM] [Warning] Unknown parameter: learning\n"
     ]
    },
    {
     "name": "stderr",
     "output_type": "stream",
     "text": [
      "/usr/local/lib/python3.9/site-packages/lightgbm/engine.py:177: UserWarning: Found `num_iterations` in params. Will use it instead of argument\n",
      "  _log_warning(f\"Found `{alias}` in params. Will use it instead of argument\")\n"
     ]
    },
    {
     "name": "stdout",
     "output_type": "stream",
     "text": [
      "17 , [LightGBM] [Warning] Unknown parameter: learning\n"
     ]
    },
    {
     "name": "stderr",
     "output_type": "stream",
     "text": [
      "/usr/local/lib/python3.9/site-packages/lightgbm/engine.py:177: UserWarning: Found `num_iterations` in params. Will use it instead of argument\n",
      "  _log_warning(f\"Found `{alias}` in params. Will use it instead of argument\")\n"
     ]
    },
    {
     "name": "stdout",
     "output_type": "stream",
     "text": [
      "18 , [LightGBM] [Warning] Unknown parameter: learning\n"
     ]
    },
    {
     "name": "stderr",
     "output_type": "stream",
     "text": [
      "/usr/local/lib/python3.9/site-packages/lightgbm/engine.py:177: UserWarning: Found `num_iterations` in params. Will use it instead of argument\n",
      "  _log_warning(f\"Found `{alias}` in params. Will use it instead of argument\")\n"
     ]
    },
    {
     "name": "stdout",
     "output_type": "stream",
     "text": [
      "-------------------------\n",
      "--- Fold 3\n",
      "-------------------------\n",
      "1 , [LightGBM] [Warning] Unknown parameter: learning\n"
     ]
    },
    {
     "name": "stderr",
     "output_type": "stream",
     "text": [
      "/usr/local/lib/python3.9/site-packages/lightgbm/engine.py:177: UserWarning: Found `num_iterations` in params. Will use it instead of argument\n",
      "  _log_warning(f\"Found `{alias}` in params. Will use it instead of argument\")\n"
     ]
    },
    {
     "name": "stdout",
     "output_type": "stream",
     "text": [
      "2 , [LightGBM] [Warning] Unknown parameter: learning\n"
     ]
    },
    {
     "name": "stderr",
     "output_type": "stream",
     "text": [
      "/usr/local/lib/python3.9/site-packages/lightgbm/engine.py:177: UserWarning: Found `num_iterations` in params. Will use it instead of argument\n",
      "  _log_warning(f\"Found `{alias}` in params. Will use it instead of argument\")\n"
     ]
    },
    {
     "name": "stdout",
     "output_type": "stream",
     "text": [
      "3 , [LightGBM] [Warning] Unknown parameter: learning\n"
     ]
    },
    {
     "name": "stderr",
     "output_type": "stream",
     "text": [
      "/usr/local/lib/python3.9/site-packages/lightgbm/engine.py:177: UserWarning: Found `num_iterations` in params. Will use it instead of argument\n",
      "  _log_warning(f\"Found `{alias}` in params. Will use it instead of argument\")\n"
     ]
    },
    {
     "name": "stdout",
     "output_type": "stream",
     "text": [
      "4 , [LightGBM] [Warning] Unknown parameter: learning\n"
     ]
    },
    {
     "name": "stderr",
     "output_type": "stream",
     "text": [
      "/usr/local/lib/python3.9/site-packages/lightgbm/engine.py:177: UserWarning: Found `num_iterations` in params. Will use it instead of argument\n",
      "  _log_warning(f\"Found `{alias}` in params. Will use it instead of argument\")\n"
     ]
    },
    {
     "name": "stdout",
     "output_type": "stream",
     "text": [
      "5 , [LightGBM] [Warning] Unknown parameter: learning\n"
     ]
    },
    {
     "name": "stderr",
     "output_type": "stream",
     "text": [
      "/usr/local/lib/python3.9/site-packages/lightgbm/engine.py:177: UserWarning: Found `num_iterations` in params. Will use it instead of argument\n",
      "  _log_warning(f\"Found `{alias}` in params. Will use it instead of argument\")\n"
     ]
    },
    {
     "name": "stdout",
     "output_type": "stream",
     "text": [
      "6 , [LightGBM] [Warning] Unknown parameter: learning\n"
     ]
    },
    {
     "name": "stderr",
     "output_type": "stream",
     "text": [
      "/usr/local/lib/python3.9/site-packages/lightgbm/engine.py:177: UserWarning: Found `num_iterations` in params. Will use it instead of argument\n",
      "  _log_warning(f\"Found `{alias}` in params. Will use it instead of argument\")\n"
     ]
    },
    {
     "name": "stdout",
     "output_type": "stream",
     "text": [
      "7 , [LightGBM] [Warning] Unknown parameter: learning\n"
     ]
    },
    {
     "name": "stderr",
     "output_type": "stream",
     "text": [
      "/usr/local/lib/python3.9/site-packages/lightgbm/engine.py:177: UserWarning: Found `num_iterations` in params. Will use it instead of argument\n",
      "  _log_warning(f\"Found `{alias}` in params. Will use it instead of argument\")\n"
     ]
    },
    {
     "name": "stdout",
     "output_type": "stream",
     "text": [
      "8 , [LightGBM] [Warning] Unknown parameter: learning\n"
     ]
    },
    {
     "name": "stderr",
     "output_type": "stream",
     "text": [
      "/usr/local/lib/python3.9/site-packages/lightgbm/engine.py:177: UserWarning: Found `num_iterations` in params. Will use it instead of argument\n",
      "  _log_warning(f\"Found `{alias}` in params. Will use it instead of argument\")\n"
     ]
    },
    {
     "name": "stdout",
     "output_type": "stream",
     "text": [
      "9 , [LightGBM] [Warning] Unknown parameter: learning\n"
     ]
    },
    {
     "name": "stderr",
     "output_type": "stream",
     "text": [
      "/usr/local/lib/python3.9/site-packages/lightgbm/engine.py:177: UserWarning: Found `num_iterations` in params. Will use it instead of argument\n",
      "  _log_warning(f\"Found `{alias}` in params. Will use it instead of argument\")\n"
     ]
    },
    {
     "name": "stdout",
     "output_type": "stream",
     "text": [
      "10 , [LightGBM] [Warning] Unknown parameter: learning\n"
     ]
    },
    {
     "name": "stderr",
     "output_type": "stream",
     "text": [
      "/usr/local/lib/python3.9/site-packages/lightgbm/engine.py:177: UserWarning: Found `num_iterations` in params. Will use it instead of argument\n",
      "  _log_warning(f\"Found `{alias}` in params. Will use it instead of argument\")\n"
     ]
    },
    {
     "name": "stdout",
     "output_type": "stream",
     "text": [
      "11 , [LightGBM] [Warning] Unknown parameter: learning\n"
     ]
    },
    {
     "name": "stderr",
     "output_type": "stream",
     "text": [
      "/usr/local/lib/python3.9/site-packages/lightgbm/engine.py:177: UserWarning: Found `num_iterations` in params. Will use it instead of argument\n",
      "  _log_warning(f\"Found `{alias}` in params. Will use it instead of argument\")\n"
     ]
    },
    {
     "name": "stdout",
     "output_type": "stream",
     "text": [
      "12 , [LightGBM] [Warning] Unknown parameter: learning\n"
     ]
    },
    {
     "name": "stderr",
     "output_type": "stream",
     "text": [
      "/usr/local/lib/python3.9/site-packages/lightgbm/engine.py:177: UserWarning: Found `num_iterations` in params. Will use it instead of argument\n",
      "  _log_warning(f\"Found `{alias}` in params. Will use it instead of argument\")\n"
     ]
    },
    {
     "name": "stdout",
     "output_type": "stream",
     "text": [
      "13 , [LightGBM] [Warning] Unknown parameter: learning\n"
     ]
    },
    {
     "name": "stderr",
     "output_type": "stream",
     "text": [
      "/usr/local/lib/python3.9/site-packages/lightgbm/engine.py:177: UserWarning: Found `num_iterations` in params. Will use it instead of argument\n",
      "  _log_warning(f\"Found `{alias}` in params. Will use it instead of argument\")\n"
     ]
    },
    {
     "name": "stdout",
     "output_type": "stream",
     "text": [
      "14 , [LightGBM] [Warning] Unknown parameter: learning\n"
     ]
    },
    {
     "name": "stderr",
     "output_type": "stream",
     "text": [
      "/usr/local/lib/python3.9/site-packages/lightgbm/engine.py:177: UserWarning: Found `num_iterations` in params. Will use it instead of argument\n",
      "  _log_warning(f\"Found `{alias}` in params. Will use it instead of argument\")\n"
     ]
    },
    {
     "name": "stdout",
     "output_type": "stream",
     "text": [
      "15 , [LightGBM] [Warning] Unknown parameter: learning\n"
     ]
    },
    {
     "name": "stderr",
     "output_type": "stream",
     "text": [
      "/usr/local/lib/python3.9/site-packages/lightgbm/engine.py:177: UserWarning: Found `num_iterations` in params. Will use it instead of argument\n",
      "  _log_warning(f\"Found `{alias}` in params. Will use it instead of argument\")\n"
     ]
    },
    {
     "name": "stdout",
     "output_type": "stream",
     "text": [
      "16 , [LightGBM] [Warning] Unknown parameter: learning\n"
     ]
    },
    {
     "name": "stderr",
     "output_type": "stream",
     "text": [
      "/usr/local/lib/python3.9/site-packages/lightgbm/engine.py:177: UserWarning: Found `num_iterations` in params. Will use it instead of argument\n",
      "  _log_warning(f\"Found `{alias}` in params. Will use it instead of argument\")\n"
     ]
    },
    {
     "name": "stdout",
     "output_type": "stream",
     "text": [
      "17 , [LightGBM] [Warning] Unknown parameter: learning\n"
     ]
    },
    {
     "name": "stderr",
     "output_type": "stream",
     "text": [
      "/usr/local/lib/python3.9/site-packages/lightgbm/engine.py:177: UserWarning: Found `num_iterations` in params. Will use it instead of argument\n",
      "  _log_warning(f\"Found `{alias}` in params. Will use it instead of argument\")\n"
     ]
    },
    {
     "name": "stdout",
     "output_type": "stream",
     "text": [
      "18 , [LightGBM] [Warning] Unknown parameter: learning\n"
     ]
    },
    {
     "name": "stderr",
     "output_type": "stream",
     "text": [
      "/usr/local/lib/python3.9/site-packages/lightgbm/engine.py:177: UserWarning: Found `num_iterations` in params. Will use it instead of argument\n",
      "  _log_warning(f\"Found `{alias}` in params. Will use it instead of argument\")\n"
     ]
    },
    {
     "name": "stdout",
     "output_type": "stream",
     "text": [
      "-------------------------\n",
      "--- Fold 4\n",
      "-------------------------\n",
      "1 , [LightGBM] [Warning] Unknown parameter: learning\n"
     ]
    },
    {
     "name": "stderr",
     "output_type": "stream",
     "text": [
      "/usr/local/lib/python3.9/site-packages/lightgbm/engine.py:177: UserWarning: Found `num_iterations` in params. Will use it instead of argument\n",
      "  _log_warning(f\"Found `{alias}` in params. Will use it instead of argument\")\n"
     ]
    },
    {
     "name": "stdout",
     "output_type": "stream",
     "text": [
      "2 , [LightGBM] [Warning] Unknown parameter: learning\n"
     ]
    },
    {
     "name": "stderr",
     "output_type": "stream",
     "text": [
      "/usr/local/lib/python3.9/site-packages/lightgbm/engine.py:177: UserWarning: Found `num_iterations` in params. Will use it instead of argument\n",
      "  _log_warning(f\"Found `{alias}` in params. Will use it instead of argument\")\n"
     ]
    },
    {
     "name": "stdout",
     "output_type": "stream",
     "text": [
      "3 , [LightGBM] [Warning] Unknown parameter: learning\n"
     ]
    },
    {
     "name": "stderr",
     "output_type": "stream",
     "text": [
      "/usr/local/lib/python3.9/site-packages/lightgbm/engine.py:177: UserWarning: Found `num_iterations` in params. Will use it instead of argument\n",
      "  _log_warning(f\"Found `{alias}` in params. Will use it instead of argument\")\n"
     ]
    },
    {
     "name": "stdout",
     "output_type": "stream",
     "text": [
      "4 , [LightGBM] [Warning] Unknown parameter: learning\n"
     ]
    },
    {
     "name": "stderr",
     "output_type": "stream",
     "text": [
      "/usr/local/lib/python3.9/site-packages/lightgbm/engine.py:177: UserWarning: Found `num_iterations` in params. Will use it instead of argument\n",
      "  _log_warning(f\"Found `{alias}` in params. Will use it instead of argument\")\n"
     ]
    },
    {
     "name": "stdout",
     "output_type": "stream",
     "text": [
      "5 , [LightGBM] [Warning] Unknown parameter: learning\n"
     ]
    },
    {
     "name": "stderr",
     "output_type": "stream",
     "text": [
      "/usr/local/lib/python3.9/site-packages/lightgbm/engine.py:177: UserWarning: Found `num_iterations` in params. Will use it instead of argument\n",
      "  _log_warning(f\"Found `{alias}` in params. Will use it instead of argument\")\n"
     ]
    },
    {
     "name": "stdout",
     "output_type": "stream",
     "text": [
      "6 , [LightGBM] [Warning] Unknown parameter: learning\n"
     ]
    },
    {
     "name": "stderr",
     "output_type": "stream",
     "text": [
      "/usr/local/lib/python3.9/site-packages/lightgbm/engine.py:177: UserWarning: Found `num_iterations` in params. Will use it instead of argument\n",
      "  _log_warning(f\"Found `{alias}` in params. Will use it instead of argument\")\n"
     ]
    },
    {
     "name": "stdout",
     "output_type": "stream",
     "text": [
      "7 , [LightGBM] [Warning] Unknown parameter: learning\n"
     ]
    },
    {
     "name": "stderr",
     "output_type": "stream",
     "text": [
      "/usr/local/lib/python3.9/site-packages/lightgbm/engine.py:177: UserWarning: Found `num_iterations` in params. Will use it instead of argument\n",
      "  _log_warning(f\"Found `{alias}` in params. Will use it instead of argument\")\n"
     ]
    },
    {
     "name": "stdout",
     "output_type": "stream",
     "text": [
      "8 , [LightGBM] [Warning] Unknown parameter: learning\n"
     ]
    },
    {
     "name": "stderr",
     "output_type": "stream",
     "text": [
      "/usr/local/lib/python3.9/site-packages/lightgbm/engine.py:177: UserWarning: Found `num_iterations` in params. Will use it instead of argument\n",
      "  _log_warning(f\"Found `{alias}` in params. Will use it instead of argument\")\n"
     ]
    },
    {
     "name": "stdout",
     "output_type": "stream",
     "text": [
      "9 , [LightGBM] [Warning] Unknown parameter: learning\n"
     ]
    },
    {
     "name": "stderr",
     "output_type": "stream",
     "text": [
      "/usr/local/lib/python3.9/site-packages/lightgbm/engine.py:177: UserWarning: Found `num_iterations` in params. Will use it instead of argument\n",
      "  _log_warning(f\"Found `{alias}` in params. Will use it instead of argument\")\n"
     ]
    },
    {
     "name": "stdout",
     "output_type": "stream",
     "text": [
      "10 , [LightGBM] [Warning] Unknown parameter: learning\n"
     ]
    },
    {
     "name": "stderr",
     "output_type": "stream",
     "text": [
      "/usr/local/lib/python3.9/site-packages/lightgbm/engine.py:177: UserWarning: Found `num_iterations` in params. Will use it instead of argument\n",
      "  _log_warning(f\"Found `{alias}` in params. Will use it instead of argument\")\n"
     ]
    },
    {
     "name": "stdout",
     "output_type": "stream",
     "text": [
      "11 , [LightGBM] [Warning] Unknown parameter: learning\n"
     ]
    },
    {
     "name": "stderr",
     "output_type": "stream",
     "text": [
      "/usr/local/lib/python3.9/site-packages/lightgbm/engine.py:177: UserWarning: Found `num_iterations` in params. Will use it instead of argument\n",
      "  _log_warning(f\"Found `{alias}` in params. Will use it instead of argument\")\n"
     ]
    },
    {
     "name": "stdout",
     "output_type": "stream",
     "text": [
      "12 , [LightGBM] [Warning] Unknown parameter: learning\n"
     ]
    },
    {
     "name": "stderr",
     "output_type": "stream",
     "text": [
      "/usr/local/lib/python3.9/site-packages/lightgbm/engine.py:177: UserWarning: Found `num_iterations` in params. Will use it instead of argument\n",
      "  _log_warning(f\"Found `{alias}` in params. Will use it instead of argument\")\n"
     ]
    },
    {
     "name": "stdout",
     "output_type": "stream",
     "text": [
      "13 , [LightGBM] [Warning] Unknown parameter: learning\n"
     ]
    },
    {
     "name": "stderr",
     "output_type": "stream",
     "text": [
      "/usr/local/lib/python3.9/site-packages/lightgbm/engine.py:177: UserWarning: Found `num_iterations` in params. Will use it instead of argument\n",
      "  _log_warning(f\"Found `{alias}` in params. Will use it instead of argument\")\n"
     ]
    },
    {
     "name": "stdout",
     "output_type": "stream",
     "text": [
      "14 , [LightGBM] [Warning] Unknown parameter: learning\n"
     ]
    },
    {
     "name": "stderr",
     "output_type": "stream",
     "text": [
      "/usr/local/lib/python3.9/site-packages/lightgbm/engine.py:177: UserWarning: Found `num_iterations` in params. Will use it instead of argument\n",
      "  _log_warning(f\"Found `{alias}` in params. Will use it instead of argument\")\n"
     ]
    },
    {
     "name": "stdout",
     "output_type": "stream",
     "text": [
      "15 , [LightGBM] [Warning] Unknown parameter: learning\n"
     ]
    },
    {
     "name": "stderr",
     "output_type": "stream",
     "text": [
      "/usr/local/lib/python3.9/site-packages/lightgbm/engine.py:177: UserWarning: Found `num_iterations` in params. Will use it instead of argument\n",
      "  _log_warning(f\"Found `{alias}` in params. Will use it instead of argument\")\n"
     ]
    },
    {
     "name": "stdout",
     "output_type": "stream",
     "text": [
      "16 , [LightGBM] [Warning] Unknown parameter: learning\n"
     ]
    },
    {
     "name": "stderr",
     "output_type": "stream",
     "text": [
      "/usr/local/lib/python3.9/site-packages/lightgbm/engine.py:177: UserWarning: Found `num_iterations` in params. Will use it instead of argument\n",
      "  _log_warning(f\"Found `{alias}` in params. Will use it instead of argument\")\n"
     ]
    },
    {
     "name": "stdout",
     "output_type": "stream",
     "text": [
      "17 , [LightGBM] [Warning] Unknown parameter: learning\n"
     ]
    },
    {
     "name": "stderr",
     "output_type": "stream",
     "text": [
      "/usr/local/lib/python3.9/site-packages/lightgbm/engine.py:177: UserWarning: Found `num_iterations` in params. Will use it instead of argument\n",
      "  _log_warning(f\"Found `{alias}` in params. Will use it instead of argument\")\n"
     ]
    },
    {
     "name": "stdout",
     "output_type": "stream",
     "text": [
      "18 , [LightGBM] [Warning] Unknown parameter: learning\n"
     ]
    },
    {
     "name": "stderr",
     "output_type": "stream",
     "text": [
      "/usr/local/lib/python3.9/site-packages/lightgbm/engine.py:177: UserWarning: Found `num_iterations` in params. Will use it instead of argument\n",
      "  _log_warning(f\"Found `{alias}` in params. Will use it instead of argument\")\n"
     ]
    },
    {
     "name": "stdout",
     "output_type": "stream",
     "text": [
      "-------------------------\n",
      "--- Fold 5\n",
      "-------------------------\n",
      "1 , [LightGBM] [Warning] Unknown parameter: learning\n"
     ]
    },
    {
     "name": "stderr",
     "output_type": "stream",
     "text": [
      "/usr/local/lib/python3.9/site-packages/lightgbm/engine.py:177: UserWarning: Found `num_iterations` in params. Will use it instead of argument\n",
      "  _log_warning(f\"Found `{alias}` in params. Will use it instead of argument\")\n"
     ]
    },
    {
     "name": "stdout",
     "output_type": "stream",
     "text": [
      "2 , [LightGBM] [Warning] Unknown parameter: learning\n"
     ]
    },
    {
     "name": "stderr",
     "output_type": "stream",
     "text": [
      "/usr/local/lib/python3.9/site-packages/lightgbm/engine.py:177: UserWarning: Found `num_iterations` in params. Will use it instead of argument\n",
      "  _log_warning(f\"Found `{alias}` in params. Will use it instead of argument\")\n"
     ]
    },
    {
     "name": "stdout",
     "output_type": "stream",
     "text": [
      "3 , [LightGBM] [Warning] Unknown parameter: learning\n"
     ]
    },
    {
     "name": "stderr",
     "output_type": "stream",
     "text": [
      "/usr/local/lib/python3.9/site-packages/lightgbm/engine.py:177: UserWarning: Found `num_iterations` in params. Will use it instead of argument\n",
      "  _log_warning(f\"Found `{alias}` in params. Will use it instead of argument\")\n"
     ]
    },
    {
     "name": "stdout",
     "output_type": "stream",
     "text": [
      "4 , [LightGBM] [Warning] Unknown parameter: learning\n"
     ]
    },
    {
     "name": "stderr",
     "output_type": "stream",
     "text": [
      "/usr/local/lib/python3.9/site-packages/lightgbm/engine.py:177: UserWarning: Found `num_iterations` in params. Will use it instead of argument\n",
      "  _log_warning(f\"Found `{alias}` in params. Will use it instead of argument\")\n"
     ]
    },
    {
     "name": "stdout",
     "output_type": "stream",
     "text": [
      "5 , [LightGBM] [Warning] Unknown parameter: learning\n"
     ]
    },
    {
     "name": "stderr",
     "output_type": "stream",
     "text": [
      "/usr/local/lib/python3.9/site-packages/lightgbm/engine.py:177: UserWarning: Found `num_iterations` in params. Will use it instead of argument\n",
      "  _log_warning(f\"Found `{alias}` in params. Will use it instead of argument\")\n"
     ]
    },
    {
     "name": "stdout",
     "output_type": "stream",
     "text": [
      "6 , [LightGBM] [Warning] Unknown parameter: learning\n"
     ]
    },
    {
     "name": "stderr",
     "output_type": "stream",
     "text": [
      "/usr/local/lib/python3.9/site-packages/lightgbm/engine.py:177: UserWarning: Found `num_iterations` in params. Will use it instead of argument\n",
      "  _log_warning(f\"Found `{alias}` in params. Will use it instead of argument\")\n"
     ]
    },
    {
     "name": "stdout",
     "output_type": "stream",
     "text": [
      "7 , [LightGBM] [Warning] Unknown parameter: learning\n"
     ]
    },
    {
     "name": "stderr",
     "output_type": "stream",
     "text": [
      "/usr/local/lib/python3.9/site-packages/lightgbm/engine.py:177: UserWarning: Found `num_iterations` in params. Will use it instead of argument\n",
      "  _log_warning(f\"Found `{alias}` in params. Will use it instead of argument\")\n"
     ]
    },
    {
     "name": "stdout",
     "output_type": "stream",
     "text": [
      "8 , [LightGBM] [Warning] Unknown parameter: learning\n"
     ]
    },
    {
     "name": "stderr",
     "output_type": "stream",
     "text": [
      "/usr/local/lib/python3.9/site-packages/lightgbm/engine.py:177: UserWarning: Found `num_iterations` in params. Will use it instead of argument\n",
      "  _log_warning(f\"Found `{alias}` in params. Will use it instead of argument\")\n"
     ]
    },
    {
     "name": "stdout",
     "output_type": "stream",
     "text": [
      "9 , [LightGBM] [Warning] Unknown parameter: learning\n"
     ]
    },
    {
     "name": "stderr",
     "output_type": "stream",
     "text": [
      "/usr/local/lib/python3.9/site-packages/lightgbm/engine.py:177: UserWarning: Found `num_iterations` in params. Will use it instead of argument\n",
      "  _log_warning(f\"Found `{alias}` in params. Will use it instead of argument\")\n"
     ]
    },
    {
     "name": "stdout",
     "output_type": "stream",
     "text": [
      "10 , [LightGBM] [Warning] Unknown parameter: learning\n"
     ]
    },
    {
     "name": "stderr",
     "output_type": "stream",
     "text": [
      "/usr/local/lib/python3.9/site-packages/lightgbm/engine.py:177: UserWarning: Found `num_iterations` in params. Will use it instead of argument\n",
      "  _log_warning(f\"Found `{alias}` in params. Will use it instead of argument\")\n"
     ]
    },
    {
     "name": "stdout",
     "output_type": "stream",
     "text": [
      "11 , [LightGBM] [Warning] Unknown parameter: learning\n"
     ]
    },
    {
     "name": "stderr",
     "output_type": "stream",
     "text": [
      "/usr/local/lib/python3.9/site-packages/lightgbm/engine.py:177: UserWarning: Found `num_iterations` in params. Will use it instead of argument\n",
      "  _log_warning(f\"Found `{alias}` in params. Will use it instead of argument\")\n"
     ]
    },
    {
     "name": "stdout",
     "output_type": "stream",
     "text": [
      "12 , [LightGBM] [Warning] Unknown parameter: learning\n"
     ]
    },
    {
     "name": "stderr",
     "output_type": "stream",
     "text": [
      "/usr/local/lib/python3.9/site-packages/lightgbm/engine.py:177: UserWarning: Found `num_iterations` in params. Will use it instead of argument\n",
      "  _log_warning(f\"Found `{alias}` in params. Will use it instead of argument\")\n"
     ]
    },
    {
     "name": "stdout",
     "output_type": "stream",
     "text": [
      "13 , [LightGBM] [Warning] Unknown parameter: learning\n"
     ]
    },
    {
     "name": "stderr",
     "output_type": "stream",
     "text": [
      "/usr/local/lib/python3.9/site-packages/lightgbm/engine.py:177: UserWarning: Found `num_iterations` in params. Will use it instead of argument\n",
      "  _log_warning(f\"Found `{alias}` in params. Will use it instead of argument\")\n"
     ]
    },
    {
     "name": "stdout",
     "output_type": "stream",
     "text": [
      "14 , [LightGBM] [Warning] Unknown parameter: learning\n"
     ]
    },
    {
     "name": "stderr",
     "output_type": "stream",
     "text": [
      "/usr/local/lib/python3.9/site-packages/lightgbm/engine.py:177: UserWarning: Found `num_iterations` in params. Will use it instead of argument\n",
      "  _log_warning(f\"Found `{alias}` in params. Will use it instead of argument\")\n"
     ]
    },
    {
     "name": "stdout",
     "output_type": "stream",
     "text": [
      "15 , [LightGBM] [Warning] Unknown parameter: learning\n"
     ]
    },
    {
     "name": "stderr",
     "output_type": "stream",
     "text": [
      "/usr/local/lib/python3.9/site-packages/lightgbm/engine.py:177: UserWarning: Found `num_iterations` in params. Will use it instead of argument\n",
      "  _log_warning(f\"Found `{alias}` in params. Will use it instead of argument\")\n"
     ]
    },
    {
     "name": "stdout",
     "output_type": "stream",
     "text": [
      "16 , [LightGBM] [Warning] Unknown parameter: learning\n"
     ]
    },
    {
     "name": "stderr",
     "output_type": "stream",
     "text": [
      "/usr/local/lib/python3.9/site-packages/lightgbm/engine.py:177: UserWarning: Found `num_iterations` in params. Will use it instead of argument\n",
      "  _log_warning(f\"Found `{alias}` in params. Will use it instead of argument\")\n"
     ]
    },
    {
     "name": "stdout",
     "output_type": "stream",
     "text": [
      "17 , [LightGBM] [Warning] Unknown parameter: learning\n"
     ]
    },
    {
     "name": "stderr",
     "output_type": "stream",
     "text": [
      "/usr/local/lib/python3.9/site-packages/lightgbm/engine.py:177: UserWarning: Found `num_iterations` in params. Will use it instead of argument\n",
      "  _log_warning(f\"Found `{alias}` in params. Will use it instead of argument\")\n"
     ]
    },
    {
     "name": "stdout",
     "output_type": "stream",
     "text": [
      "18 , [LightGBM] [Warning] Unknown parameter: learning\n"
     ]
    },
    {
     "name": "stderr",
     "output_type": "stream",
     "text": [
      "/usr/local/lib/python3.9/site-packages/lightgbm/engine.py:177: UserWarning: Found `num_iterations` in params. Will use it instead of argument\n",
      "  _log_warning(f\"Found `{alias}` in params. Will use it instead of argument\")\n"
     ]
    },
    {
     "name": "stdout",
     "output_type": "stream",
     "text": [
      "\n"
     ]
    }
   ],
   "source": [
    "# Compute CV score with 5 group k fold\n",
    "for i, (train_idex, test_index) in enumerate(gkf.split(X= df_tr, groups=df_tr.index)):\n",
    "    # Here we know which fold contains which index, then use index to slice data in each fold.\n",
    "    print('-'*25)\n",
    "    print('--- Fold', i+1)\n",
    "    print('-'*25)\n",
    "\n",
    "    lgb_params = {\n",
    "        'objective': 'binary',\n",
    "        'metric': 'auc',\n",
    "        'learning': 0.002,\n",
    "        'max_depth': 6,\n",
    "        'num_iterations': 1000\n",
    "    }\n",
    "\n",
    "    # Iterate thru questions 1 thru 18\n",
    "    # Create data set for train each question\n",
    "    for t in range(1,19):\n",
    "        print(t, ',', end= ' ')\n",
    "\n",
    "        # Use this train data with these questions\n",
    "        # clarify each question to assign group for slice data in df\n",
    "        if t<=3: grp = '0-4'\n",
    "        elif t<=13: grp = '5-12'\n",
    "        elif t<=22: grp = '13-22'\n",
    "\n",
    "        # Train data\n",
    "        train_x = df_tr.iloc[train_idex] # get train from index in each fold\n",
    "        train_x = train_x.loc[train_x.level_group == grp] # get train only each question that match group, slice this again because data in level session_id & level_grop\n",
    "        train_users = train_x.index.values # get all users train in each fold\n",
    "        train_y = df_train_labels.loc[df_train_labels.question_num==t].set_index('session').loc[train_users] # get train variable y in each question.\n",
    "\n",
    "        # Valid data\n",
    "        valid_x = df_tr.iloc[test_index]\n",
    "        valid_x = valid_x.loc[valid_x.level_group == grp]\n",
    "        valid_users = valid_x.index.values\n",
    "        valid_y = df_train_labels.loc[df_train_labels.question_num==t].set_index('session').loc[valid_users]\n",
    "\n",
    "        # Train Model\n",
    "        clf = LGBMClassifier(**lgb_params)\n",
    "        clf.fit(train_x[FEATURES].astype('float32'), train_y['correct'])\n",
    "\n",
    "        # Save model\n",
    "        model[f'{grp}_{t}'] = clf # Set model name\n",
    "        oof.loc[valid_users, t-1] = clf.predict_proba(valid_x[FEATURES].astype('float32'))[:,1] # Assign predict value to oof table in each question\n",
    "        # above out put is list such as [0.45779951 0.54220049] position 1 (class 0) is 0.45 position 2 (class 1) is 0.54 total is 1\n",
    "        # we use [:, 1] because we predict correct = 1 is class 1 then set to [:, 1] instead of [:, 0]\n",
    "print()\n",
    "\n"
   ]
  },
  {
   "cell_type": "code",
   "execution_count": 343,
   "metadata": {},
   "outputs": [
    {
     "data": {
      "text/html": [
       "<div>\n",
       "<style scoped>\n",
       "    .dataframe tbody tr th:only-of-type {\n",
       "        vertical-align: middle;\n",
       "    }\n",
       "\n",
       "    .dataframe tbody tr th {\n",
       "        vertical-align: top;\n",
       "    }\n",
       "\n",
       "    .dataframe thead th {\n",
       "        text-align: right;\n",
       "    }\n",
       "</style>\n",
       "<table border=\"1\" class=\"dataframe\">\n",
       "  <thead>\n",
       "    <tr style=\"text-align: right;\">\n",
       "      <th></th>\n",
       "      <th>0</th>\n",
       "      <th>1</th>\n",
       "      <th>2</th>\n",
       "      <th>3</th>\n",
       "      <th>4</th>\n",
       "      <th>5</th>\n",
       "      <th>6</th>\n",
       "      <th>7</th>\n",
       "      <th>8</th>\n",
       "      <th>9</th>\n",
       "      <th>10</th>\n",
       "      <th>11</th>\n",
       "      <th>12</th>\n",
       "      <th>13</th>\n",
       "      <th>14</th>\n",
       "      <th>15</th>\n",
       "      <th>16</th>\n",
       "      <th>17</th>\n",
       "    </tr>\n",
       "    <tr>\n",
       "      <th>session_id</th>\n",
       "      <th></th>\n",
       "      <th></th>\n",
       "      <th></th>\n",
       "      <th></th>\n",
       "      <th></th>\n",
       "      <th></th>\n",
       "      <th></th>\n",
       "      <th></th>\n",
       "      <th></th>\n",
       "      <th></th>\n",
       "      <th></th>\n",
       "      <th></th>\n",
       "      <th></th>\n",
       "      <th></th>\n",
       "      <th></th>\n",
       "      <th></th>\n",
       "      <th></th>\n",
       "      <th></th>\n",
       "    </tr>\n",
       "  </thead>\n",
       "  <tbody>\n",
       "    <tr>\n",
       "      <th>20090312431273200</th>\n",
       "      <td>0.856363</td>\n",
       "      <td>1.000000</td>\n",
       "      <td>0.998481</td>\n",
       "      <td>0.599081</td>\n",
       "      <td>0.498420</td>\n",
       "      <td>0.923496</td>\n",
       "      <td>0.780814</td>\n",
       "      <td>0.706584</td>\n",
       "      <td>0.638757</td>\n",
       "      <td>0.622129</td>\n",
       "      <td>0.585921</td>\n",
       "      <td>0.926489</td>\n",
       "      <td>0.143763</td>\n",
       "      <td>0.897593</td>\n",
       "      <td>0.865260</td>\n",
       "      <td>0.716361</td>\n",
       "      <td>0.705752</td>\n",
       "      <td>0.999964</td>\n",
       "    </tr>\n",
       "    <tr>\n",
       "      <th>20090312433251036</th>\n",
       "      <td>0.542200</td>\n",
       "      <td>1.000000</td>\n",
       "      <td>0.987906</td>\n",
       "      <td>0.908144</td>\n",
       "      <td>0.524196</td>\n",
       "      <td>0.445232</td>\n",
       "      <td>0.940788</td>\n",
       "      <td>0.526653</td>\n",
       "      <td>0.836350</td>\n",
       "      <td>0.291518</td>\n",
       "      <td>0.431559</td>\n",
       "      <td>0.743748</td>\n",
       "      <td>0.123166</td>\n",
       "      <td>0.339676</td>\n",
       "      <td>0.003500</td>\n",
       "      <td>0.942707</td>\n",
       "      <td>0.987811</td>\n",
       "      <td>0.964520</td>\n",
       "    </tr>\n",
       "    <tr>\n",
       "      <th>20090312455206810</th>\n",
       "      <td>0.976383</td>\n",
       "      <td>0.999999</td>\n",
       "      <td>0.999708</td>\n",
       "      <td>0.834740</td>\n",
       "      <td>0.647986</td>\n",
       "      <td>0.842149</td>\n",
       "      <td>0.650827</td>\n",
       "      <td>0.698460</td>\n",
       "      <td>0.594410</td>\n",
       "      <td>0.637564</td>\n",
       "      <td>0.842350</td>\n",
       "      <td>0.936113</td>\n",
       "      <td>0.405808</td>\n",
       "      <td>0.959774</td>\n",
       "      <td>0.380843</td>\n",
       "      <td>0.963313</td>\n",
       "      <td>0.874374</td>\n",
       "      <td>0.990667</td>\n",
       "    </tr>\n",
       "    <tr>\n",
       "      <th>20090313091715820</th>\n",
       "      <td>0.683075</td>\n",
       "      <td>0.999985</td>\n",
       "      <td>0.959766</td>\n",
       "      <td>0.698695</td>\n",
       "      <td>0.607477</td>\n",
       "      <td>0.878247</td>\n",
       "      <td>0.735638</td>\n",
       "      <td>0.704031</td>\n",
       "      <td>0.730829</td>\n",
       "      <td>0.640122</td>\n",
       "      <td>0.810956</td>\n",
       "      <td>0.854436</td>\n",
       "      <td>0.135121</td>\n",
       "      <td>0.732176</td>\n",
       "      <td>0.585700</td>\n",
       "      <td>0.736346</td>\n",
       "      <td>0.719986</td>\n",
       "      <td>0.998164</td>\n",
       "    </tr>\n",
       "    <tr>\n",
       "      <th>20090313571836404</th>\n",
       "      <td>0.752158</td>\n",
       "      <td>1.000000</td>\n",
       "      <td>0.999732</td>\n",
       "      <td>0.989430</td>\n",
       "      <td>0.781682</td>\n",
       "      <td>0.912047</td>\n",
       "      <td>0.946745</td>\n",
       "      <td>0.946831</td>\n",
       "      <td>0.993436</td>\n",
       "      <td>0.750250</td>\n",
       "      <td>0.782356</td>\n",
       "      <td>0.996499</td>\n",
       "      <td>0.735896</td>\n",
       "      <td>0.710783</td>\n",
       "      <td>0.559040</td>\n",
       "      <td>0.769840</td>\n",
       "      <td>0.851114</td>\n",
       "      <td>0.999926</td>\n",
       "    </tr>\n",
       "  </tbody>\n",
       "</table>\n",
       "</div>"
      ],
      "text/plain": [
       "                         0         1         2         3         4         5    \n",
       "session_id                                                                      \n",
       "20090312431273200  0.856363  1.000000  0.998481  0.599081  0.498420  0.923496  \\\n",
       "20090312433251036  0.542200  1.000000  0.987906  0.908144  0.524196  0.445232   \n",
       "20090312455206810  0.976383  0.999999  0.999708  0.834740  0.647986  0.842149   \n",
       "20090313091715820  0.683075  0.999985  0.959766  0.698695  0.607477  0.878247   \n",
       "20090313571836404  0.752158  1.000000  0.999732  0.989430  0.781682  0.912047   \n",
       "\n",
       "                         6         7         8         9         10        11   \n",
       "session_id                                                                      \n",
       "20090312431273200  0.780814  0.706584  0.638757  0.622129  0.585921  0.926489  \\\n",
       "20090312433251036  0.940788  0.526653  0.836350  0.291518  0.431559  0.743748   \n",
       "20090312455206810  0.650827  0.698460  0.594410  0.637564  0.842350  0.936113   \n",
       "20090313091715820  0.735638  0.704031  0.730829  0.640122  0.810956  0.854436   \n",
       "20090313571836404  0.946745  0.946831  0.993436  0.750250  0.782356  0.996499   \n",
       "\n",
       "                         12        13        14        15        16        17  \n",
       "session_id                                                                     \n",
       "20090312431273200  0.143763  0.897593  0.865260  0.716361  0.705752  0.999964  \n",
       "20090312433251036  0.123166  0.339676  0.003500  0.942707  0.987811  0.964520  \n",
       "20090312455206810  0.405808  0.959774  0.380843  0.963313  0.874374  0.990667  \n",
       "20090313091715820  0.135121  0.732176  0.585700  0.736346  0.719986  0.998164  \n",
       "20090313571836404  0.735896  0.710783  0.559040  0.769840  0.851114  0.999926  "
      ]
     },
     "execution_count": 343,
     "metadata": {},
     "output_type": "execute_result"
    }
   ],
   "source": [
    "# Put true labels into dataframe with 18 columns\n",
    "actual = oof.copy()\n",
    "actual.head()"
   ]
  },
  {
   "cell_type": "code",
   "execution_count": 349,
   "metadata": {},
   "outputs": [],
   "source": [
    "for k in range(18):\n",
    "    # Get actual labels\n",
    "    tmp = df_train_labels.loc[df_train_labels.question_num==k+1].set_index('session').loc[ALL_USERS]\n",
    "    actual[k] = tmp.correct.values"
   ]
  },
  {
   "cell_type": "code",
   "execution_count": 350,
   "metadata": {},
   "outputs": [
    {
     "data": {
      "text/html": [
       "<div>\n",
       "<style scoped>\n",
       "    .dataframe tbody tr th:only-of-type {\n",
       "        vertical-align: middle;\n",
       "    }\n",
       "\n",
       "    .dataframe tbody tr th {\n",
       "        vertical-align: top;\n",
       "    }\n",
       "\n",
       "    .dataframe thead th {\n",
       "        text-align: right;\n",
       "    }\n",
       "</style>\n",
       "<table border=\"1\" class=\"dataframe\">\n",
       "  <thead>\n",
       "    <tr style=\"text-align: right;\">\n",
       "      <th></th>\n",
       "      <th>0</th>\n",
       "      <th>1</th>\n",
       "      <th>2</th>\n",
       "      <th>3</th>\n",
       "      <th>4</th>\n",
       "      <th>5</th>\n",
       "      <th>6</th>\n",
       "      <th>7</th>\n",
       "      <th>8</th>\n",
       "      <th>9</th>\n",
       "      <th>10</th>\n",
       "      <th>11</th>\n",
       "      <th>12</th>\n",
       "      <th>13</th>\n",
       "      <th>14</th>\n",
       "      <th>15</th>\n",
       "      <th>16</th>\n",
       "      <th>17</th>\n",
       "    </tr>\n",
       "    <tr>\n",
       "      <th>session_id</th>\n",
       "      <th></th>\n",
       "      <th></th>\n",
       "      <th></th>\n",
       "      <th></th>\n",
       "      <th></th>\n",
       "      <th></th>\n",
       "      <th></th>\n",
       "      <th></th>\n",
       "      <th></th>\n",
       "      <th></th>\n",
       "      <th></th>\n",
       "      <th></th>\n",
       "      <th></th>\n",
       "      <th></th>\n",
       "      <th></th>\n",
       "      <th></th>\n",
       "      <th></th>\n",
       "      <th></th>\n",
       "    </tr>\n",
       "  </thead>\n",
       "  <tbody>\n",
       "    <tr>\n",
       "      <th>20090312431273200</th>\n",
       "      <td>1</td>\n",
       "      <td>1</td>\n",
       "      <td>1</td>\n",
       "      <td>1</td>\n",
       "      <td>1</td>\n",
       "      <td>1</td>\n",
       "      <td>1</td>\n",
       "      <td>1</td>\n",
       "      <td>1</td>\n",
       "      <td>1</td>\n",
       "      <td>1</td>\n",
       "      <td>1</td>\n",
       "      <td>0</td>\n",
       "      <td>1</td>\n",
       "      <td>1</td>\n",
       "      <td>0</td>\n",
       "      <td>1</td>\n",
       "      <td>1</td>\n",
       "    </tr>\n",
       "    <tr>\n",
       "      <th>20090312433251036</th>\n",
       "      <td>0</td>\n",
       "      <td>1</td>\n",
       "      <td>1</td>\n",
       "      <td>1</td>\n",
       "      <td>0</td>\n",
       "      <td>1</td>\n",
       "      <td>1</td>\n",
       "      <td>0</td>\n",
       "      <td>1</td>\n",
       "      <td>0</td>\n",
       "      <td>0</td>\n",
       "      <td>1</td>\n",
       "      <td>0</td>\n",
       "      <td>1</td>\n",
       "      <td>0</td>\n",
       "      <td>1</td>\n",
       "      <td>0</td>\n",
       "      <td>1</td>\n",
       "    </tr>\n",
       "    <tr>\n",
       "      <th>20090312455206810</th>\n",
       "      <td>1</td>\n",
       "      <td>1</td>\n",
       "      <td>1</td>\n",
       "      <td>1</td>\n",
       "      <td>1</td>\n",
       "      <td>1</td>\n",
       "      <td>1</td>\n",
       "      <td>1</td>\n",
       "      <td>1</td>\n",
       "      <td>1</td>\n",
       "      <td>1</td>\n",
       "      <td>1</td>\n",
       "      <td>1</td>\n",
       "      <td>1</td>\n",
       "      <td>0</td>\n",
       "      <td>1</td>\n",
       "      <td>1</td>\n",
       "      <td>1</td>\n",
       "    </tr>\n",
       "    <tr>\n",
       "      <th>20090313091715820</th>\n",
       "      <td>0</td>\n",
       "      <td>1</td>\n",
       "      <td>1</td>\n",
       "      <td>1</td>\n",
       "      <td>1</td>\n",
       "      <td>0</td>\n",
       "      <td>1</td>\n",
       "      <td>1</td>\n",
       "      <td>1</td>\n",
       "      <td>0</td>\n",
       "      <td>0</td>\n",
       "      <td>1</td>\n",
       "      <td>0</td>\n",
       "      <td>1</td>\n",
       "      <td>0</td>\n",
       "      <td>1</td>\n",
       "      <td>1</td>\n",
       "      <td>1</td>\n",
       "    </tr>\n",
       "    <tr>\n",
       "      <th>20090313571836404</th>\n",
       "      <td>1</td>\n",
       "      <td>1</td>\n",
       "      <td>1</td>\n",
       "      <td>1</td>\n",
       "      <td>1</td>\n",
       "      <td>1</td>\n",
       "      <td>1</td>\n",
       "      <td>1</td>\n",
       "      <td>1</td>\n",
       "      <td>1</td>\n",
       "      <td>1</td>\n",
       "      <td>0</td>\n",
       "      <td>1</td>\n",
       "      <td>0</td>\n",
       "      <td>1</td>\n",
       "      <td>1</td>\n",
       "      <td>1</td>\n",
       "      <td>1</td>\n",
       "    </tr>\n",
       "  </tbody>\n",
       "</table>\n",
       "</div>"
      ],
      "text/plain": [
       "                   0   1   2   3   4   5   6   7   8   9   10  11  12  13  14   \n",
       "session_id                                                                      \n",
       "20090312431273200   1   1   1   1   1   1   1   1   1   1   1   1   0   1   1  \\\n",
       "20090312433251036   0   1   1   1   0   1   1   0   1   0   0   1   0   1   0   \n",
       "20090312455206810   1   1   1   1   1   1   1   1   1   1   1   1   1   1   0   \n",
       "20090313091715820   0   1   1   1   1   0   1   1   1   0   0   1   0   1   0   \n",
       "20090313571836404   1   1   1   1   1   1   1   1   1   1   1   0   1   0   1   \n",
       "\n",
       "                   15  16  17  \n",
       "session_id                     \n",
       "20090312431273200   0   1   1  \n",
       "20090312433251036   1   0   1  \n",
       "20090312455206810   1   1   1  \n",
       "20090313091715820   1   1   1  \n",
       "20090313571836404   1   1   1  "
      ]
     },
     "execution_count": 350,
     "metadata": {},
     "output_type": "execute_result"
    }
   ],
   "source": [
    "actual.head()"
   ]
  },
  {
   "cell_type": "code",
   "execution_count": 357,
   "metadata": {},
   "outputs": [],
   "source": [
    "# y_true = [0, 1, 1, 0, 0, 1]\n",
    "# y_pred = [0.9, 0.4, 0.2, 0.6, 0.1, 0.2]\n",
    "# y_pred = [0, 1, 0, 1, 0, 0, 0]\n",
    "# f1_score(y_true, y_pred, average='macro')"
   ]
  },
  {
   "cell_type": "code",
   "execution_count": 372,
   "metadata": {},
   "outputs": [
    {
     "name": "stdout",
     "output_type": "stream",
     "text": [
      "0.40, 0.41, 0.42, 0.43, 0.44, 0.45, 0.46, 0.47, 0.48, 0.49, 0.50, 0.51, 0.52, 0.53, 0.54, 0.55, 0.56, 0.57, 0.58, 0.59, 0.60, 0.61, 0.62, 0.63, 0.64, 0.65, 0.66, 0.67, 0.68, 0.69, 0.70, 0.71, 0.72, 0.73, 0.74, 0.75, 0.76, 0.77, 0.78, 0.79, 0.80, "
     ]
    }
   ],
   "source": [
    "from sklearn.metrics import f1_score\n",
    "# Find best threshold to convert probs into 1s and 0s\n",
    "scores = []; thresholds = []\n",
    "best_score = 0; best_threshold = 0\n",
    "\n",
    "for threshold in np.arange(0.4, 0.81, 0.01): # np.arange(start, end(but not include), step) \n",
    "    # but why use range at 0.4 - 0.8? --> i assume that proper range to identify that good or bad threshold\n",
    "    print(f'{threshold:.02f}, ', end='')\n",
    "    preds = (oof.values.reshape((-1))>threshold).astype('int') #get all pred values and check if > threshold then true and covert true to int vice versa with false\n",
    "    m = f1_score(actual.values.reshape((-1)).astype('int'), preds, average='macro') # make sure that actual & predict same type if not will cause error \n",
    "    scores.append(m) # collect data because this use for plot\n",
    "    thresholds.append(threshold) # collect data because this use for plot\n",
    "    # this part below just collect best score & threshold\n",
    "    if m>best_score:\n",
    "        best_score = m \n",
    "        best_threshold = threshold"
   ]
  },
  {
   "cell_type": "code",
   "execution_count": 388,
   "metadata": {},
   "outputs": [
    {
     "data": {
      "image/png": "[encoded data removed]",
      "text/plain": [
       "<Figure size 1440x360 with 1 Axes>"
      ]
     },
     "metadata": {
      "needs_background": "light"
     },
     "output_type": "display_data"
    }
   ],
   "source": [
    "import matplotlib.pylab as plt\n",
    "# Plot Threshold vs F1 score\n",
    "plt.figure(figsize=(20,5))\n",
    "plt.plot(thresholds, scores, '-o', color='blue') # plot all threshold & scores\n",
    "plt.scatter([best_threshold], [best_score], color='blue', s=300, alpha=1) # make best point are more bigger\n",
    "plt.xlabel('Threshold', size = 14)\n",
    "plt.ylabel('Validation F1 score', size = 14)\n",
    "plt.title(f'Threshold vs. F1_score with best F1_score = {best_score:.3f} at Best Threshold = {best_threshold:.3f}', size = 18)\n",
    "plt.show()"
   ]
  },
  {
   "cell_type": "code",
   "execution_count": 399,
   "metadata": {},
   "outputs": [
    {
     "name": "stdout",
     "output_type": "stream",
     "text": [
      "When using optimal threshold...\n",
      "Q0: F1 = 0.573\n",
      "Q1: F1 = 0.494\n",
      "Q2: F1 = 0.501\n",
      "Q3: F1 = 0.585\n",
      "Q4: F1 = 0.569\n",
      "Q5: F1 = 0.581\n",
      "Q6: F1 = 0.557\n",
      "Q7: F1 = 0.526\n",
      "Q8: F1 = 0.575\n",
      "Q9: F1 = 0.550\n",
      "Q10: F1 = 0.556\n",
      "Q11: F1 = 0.517\n",
      "Q12: F1 = 0.491\n",
      "Q13: F1 = 0.583\n",
      "Q14: F1 = 0.559\n",
      "Q15: F1 = 0.498\n",
      "Q16: F1 = 0.528\n",
      "Q17: F1 = 0.502\n",
      "Overall F1 Score: 0.651\n"
     ]
    }
   ],
   "source": [
    "print('When using optimal threshold...')\n",
    "for k in range(18):\n",
    "    # Compute F1 score per question\n",
    "    m = f1_score(actual[k].values, (oof[k].values>best_threshold).astype('int'), average='macro') # Use best_threshold as threshold we choose\n",
    "    # if values > best_threshold we will set as true or have prob to be correct in question.\n",
    "    print(f'Q{k}: F1 = {m:.3f}')\n",
    " \n",
    "# Compute F1 score overall\n",
    "m = f1_score(actual.values.reshape((-1)).astype('int'), (oof.values.reshape((-1))>best_threshold).astype('int'), average='macro')\n",
    "print(f'Overall F1 Score: {m:.3f}')"
   ]
  },
  {
   "cell_type": "code",
   "execution_count": 401,
   "metadata": {},
   "outputs": [
    {
     "ename": "ModuleNotFoundError",
     "evalue": "No module named 'jo_wilder'",
     "output_type": "error",
     "traceback": [
      "\u001b[0;31m---------------------------------------------------------------------------\u001b[0m",
      "\u001b[0;31mModuleNotFoundError\u001b[0m                       Traceback (most recent call last)",
      "\u001b[0;32m/var/folders/wz/ck3sz9r95tv0pwv6x5zcfnw00000gn/T/ipykernel_30929/530828436.py\u001b[0m in \u001b[0;36m<module>\u001b[0;34m\u001b[0m\n\u001b[0;32m----> 1\u001b[0;31m \u001b[0;32mimport\u001b[0m \u001b[0mjo_wilder\u001b[0m\u001b[0;34m\u001b[0m\u001b[0;34m\u001b[0m\u001b[0m\n\u001b[0m",
      "\u001b[0;31mModuleNotFoundError\u001b[0m: No module named 'jo_wilder'"
     ]
    }
   ],
   "source": [
    "import jo_wilder"
   ]
  },
  {
   "cell_type": "code",
   "execution_count": null,
   "metadata": {},
   "outputs": [],
   "source": []
  }
 ],
 "metadata": {
  "kernelspec": {
   "display_name": "Python 3.9.9 64-bit",
   "language": "python",
   "name": "python3"
  },
  "language_info": {
   "codemirror_mode": {
    "name": "ipython",
    "version": 3
   },
   "file_extension": ".py",
   "mimetype": "text/x-python",
   "name": "python",
   "nbconvert_exporter": "python",
   "pygments_lexer": "ipython3",
   "version": "3.9.9"
  },
  "orig_nbformat": 4,
  "vscode": {
   "interpreter": {
    "hash": "aee8b7b246df8f9039afb4144a1f6fd8d2ca17a180786b69acc140d282b71a49"
   }
  }
 },
 "nbformat": 4,
 "nbformat_minor": 2
}
